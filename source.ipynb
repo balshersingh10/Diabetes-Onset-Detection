{
 "cells": [
  {
   "cell_type": "code",
   "execution_count": 1,
   "metadata": {},
   "outputs": [
    {
     "name": "stderr",
     "output_type": "stream",
     "text": [
      "Using TensorFlow backend.\n"
     ]
    },
    {
     "name": "stdout",
     "output_type": "stream",
     "text": [
      "3.7.6 (default, Jan  8 2020, 20:23:39) [MSC v.1916 64 bit (AMD64)]\n",
      "0.24.2\n",
      "1.18.1\n",
      "0.22.1\n",
      "2.3.1\n"
     ]
    }
   ],
   "source": [
    "import sys\n",
    "import pandas as pd\n",
    "import numpy as np\n",
    "import sklearn\n",
    "import keras\n",
    "\n",
    "print(sys.version)\n",
    "print(pd.__version__)\n",
    "print(np.__version__)\n",
    "print(sklearn.__version__)\n",
    "print(keras.__version__)"
   ]
  },
  {
   "cell_type": "code",
   "execution_count": 2,
   "metadata": {},
   "outputs": [],
   "source": [
    "# import the uci pima indians diabetes dataset\n",
    "url = \"diabetes.csv\"\n",
    "names = ['n_pregnant', 'glucose_concentration', 'blood_pressuer (mm Hg)', 'skin_thickness (mm)', 'serum_insulin (mu U/ml)',\n",
    "        'BMI', 'pedigree_function', 'age', 'class']\n",
    "df = pd.read_csv(url, names = names)"
   ]
  },
  {
   "cell_type": "code",
   "execution_count": 3,
   "metadata": {},
   "outputs": [
    {
     "data": {
      "text/html": [
       "<div>\n",
       "<style scoped>\n",
       "    .dataframe tbody tr th:only-of-type {\n",
       "        vertical-align: middle;\n",
       "    }\n",
       "\n",
       "    .dataframe tbody tr th {\n",
       "        vertical-align: top;\n",
       "    }\n",
       "\n",
       "    .dataframe thead th {\n",
       "        text-align: right;\n",
       "    }\n",
       "</style>\n",
       "<table border=\"1\" class=\"dataframe\">\n",
       "  <thead>\n",
       "    <tr style=\"text-align: right;\">\n",
       "      <th></th>\n",
       "      <th>n_pregnant</th>\n",
       "      <th>glucose_concentration</th>\n",
       "      <th>blood_pressuer (mm Hg)</th>\n",
       "      <th>skin_thickness (mm)</th>\n",
       "      <th>serum_insulin (mu U/ml)</th>\n",
       "      <th>BMI</th>\n",
       "      <th>pedigree_function</th>\n",
       "      <th>age</th>\n",
       "      <th>class</th>\n",
       "    </tr>\n",
       "  </thead>\n",
       "  <tbody>\n",
       "    <tr>\n",
       "      <th>count</th>\n",
       "      <td>768.000000</td>\n",
       "      <td>768.000000</td>\n",
       "      <td>768.000000</td>\n",
       "      <td>768.000000</td>\n",
       "      <td>768.000000</td>\n",
       "      <td>768.000000</td>\n",
       "      <td>768.000000</td>\n",
       "      <td>768.000000</td>\n",
       "      <td>768.000000</td>\n",
       "    </tr>\n",
       "    <tr>\n",
       "      <th>mean</th>\n",
       "      <td>3.845052</td>\n",
       "      <td>120.894531</td>\n",
       "      <td>69.105469</td>\n",
       "      <td>20.536458</td>\n",
       "      <td>79.799479</td>\n",
       "      <td>31.992578</td>\n",
       "      <td>0.471876</td>\n",
       "      <td>33.240885</td>\n",
       "      <td>0.348958</td>\n",
       "    </tr>\n",
       "    <tr>\n",
       "      <th>std</th>\n",
       "      <td>3.369578</td>\n",
       "      <td>31.972618</td>\n",
       "      <td>19.355807</td>\n",
       "      <td>15.952218</td>\n",
       "      <td>115.244002</td>\n",
       "      <td>7.884160</td>\n",
       "      <td>0.331329</td>\n",
       "      <td>11.760232</td>\n",
       "      <td>0.476951</td>\n",
       "    </tr>\n",
       "    <tr>\n",
       "      <th>min</th>\n",
       "      <td>0.000000</td>\n",
       "      <td>0.000000</td>\n",
       "      <td>0.000000</td>\n",
       "      <td>0.000000</td>\n",
       "      <td>0.000000</td>\n",
       "      <td>0.000000</td>\n",
       "      <td>0.078000</td>\n",
       "      <td>21.000000</td>\n",
       "      <td>0.000000</td>\n",
       "    </tr>\n",
       "    <tr>\n",
       "      <th>25%</th>\n",
       "      <td>1.000000</td>\n",
       "      <td>99.000000</td>\n",
       "      <td>62.000000</td>\n",
       "      <td>0.000000</td>\n",
       "      <td>0.000000</td>\n",
       "      <td>27.300000</td>\n",
       "      <td>0.243750</td>\n",
       "      <td>24.000000</td>\n",
       "      <td>0.000000</td>\n",
       "    </tr>\n",
       "    <tr>\n",
       "      <th>50%</th>\n",
       "      <td>3.000000</td>\n",
       "      <td>117.000000</td>\n",
       "      <td>72.000000</td>\n",
       "      <td>23.000000</td>\n",
       "      <td>30.500000</td>\n",
       "      <td>32.000000</td>\n",
       "      <td>0.372500</td>\n",
       "      <td>29.000000</td>\n",
       "      <td>0.000000</td>\n",
       "    </tr>\n",
       "    <tr>\n",
       "      <th>75%</th>\n",
       "      <td>6.000000</td>\n",
       "      <td>140.250000</td>\n",
       "      <td>80.000000</td>\n",
       "      <td>32.000000</td>\n",
       "      <td>127.250000</td>\n",
       "      <td>36.600000</td>\n",
       "      <td>0.626250</td>\n",
       "      <td>41.000000</td>\n",
       "      <td>1.000000</td>\n",
       "    </tr>\n",
       "    <tr>\n",
       "      <th>max</th>\n",
       "      <td>17.000000</td>\n",
       "      <td>199.000000</td>\n",
       "      <td>122.000000</td>\n",
       "      <td>99.000000</td>\n",
       "      <td>846.000000</td>\n",
       "      <td>67.100000</td>\n",
       "      <td>2.420000</td>\n",
       "      <td>81.000000</td>\n",
       "      <td>1.000000</td>\n",
       "    </tr>\n",
       "  </tbody>\n",
       "</table>\n",
       "</div>"
      ],
      "text/plain": [
       "       n_pregnant  glucose_concentration  blood_pressuer (mm Hg)  \\\n",
       "count  768.000000             768.000000              768.000000   \n",
       "mean     3.845052             120.894531               69.105469   \n",
       "std      3.369578              31.972618               19.355807   \n",
       "min      0.000000               0.000000                0.000000   \n",
       "25%      1.000000              99.000000               62.000000   \n",
       "50%      3.000000             117.000000               72.000000   \n",
       "75%      6.000000             140.250000               80.000000   \n",
       "max     17.000000             199.000000              122.000000   \n",
       "\n",
       "       skin_thickness (mm)  serum_insulin (mu U/ml)         BMI  \\\n",
       "count           768.000000               768.000000  768.000000   \n",
       "mean             20.536458                79.799479   31.992578   \n",
       "std              15.952218               115.244002    7.884160   \n",
       "min               0.000000                 0.000000    0.000000   \n",
       "25%               0.000000                 0.000000   27.300000   \n",
       "50%              23.000000                30.500000   32.000000   \n",
       "75%              32.000000               127.250000   36.600000   \n",
       "max              99.000000               846.000000   67.100000   \n",
       "\n",
       "       pedigree_function         age       class  \n",
       "count         768.000000  768.000000  768.000000  \n",
       "mean            0.471876   33.240885    0.348958  \n",
       "std             0.331329   11.760232    0.476951  \n",
       "min             0.078000   21.000000    0.000000  \n",
       "25%             0.243750   24.000000    0.000000  \n",
       "50%             0.372500   29.000000    0.000000  \n",
       "75%             0.626250   41.000000    1.000000  \n",
       "max             2.420000   81.000000    1.000000  "
      ]
     },
     "execution_count": 3,
     "metadata": {},
     "output_type": "execute_result"
    }
   ],
   "source": [
    "df.describe()"
   ]
  },
  {
   "cell_type": "code",
   "execution_count": 4,
   "metadata": {},
   "outputs": [
    {
     "data": {
      "text/html": [
       "<div>\n",
       "<style scoped>\n",
       "    .dataframe tbody tr th:only-of-type {\n",
       "        vertical-align: middle;\n",
       "    }\n",
       "\n",
       "    .dataframe tbody tr th {\n",
       "        vertical-align: top;\n",
       "    }\n",
       "\n",
       "    .dataframe thead th {\n",
       "        text-align: right;\n",
       "    }\n",
       "</style>\n",
       "<table border=\"1\" class=\"dataframe\">\n",
       "  <thead>\n",
       "    <tr style=\"text-align: right;\">\n",
       "      <th></th>\n",
       "      <th>n_pregnant</th>\n",
       "      <th>glucose_concentration</th>\n",
       "      <th>blood_pressuer (mm Hg)</th>\n",
       "      <th>skin_thickness (mm)</th>\n",
       "      <th>serum_insulin (mu U/ml)</th>\n",
       "      <th>BMI</th>\n",
       "      <th>pedigree_function</th>\n",
       "      <th>age</th>\n",
       "      <th>class</th>\n",
       "    </tr>\n",
       "  </thead>\n",
       "  <tbody>\n",
       "    <tr>\n",
       "      <th>75</th>\n",
       "      <td>1</td>\n",
       "      <td>0</td>\n",
       "      <td>48</td>\n",
       "      <td>20</td>\n",
       "      <td>0</td>\n",
       "      <td>24.7</td>\n",
       "      <td>0.140</td>\n",
       "      <td>22</td>\n",
       "      <td>0</td>\n",
       "    </tr>\n",
       "    <tr>\n",
       "      <th>182</th>\n",
       "      <td>1</td>\n",
       "      <td>0</td>\n",
       "      <td>74</td>\n",
       "      <td>20</td>\n",
       "      <td>23</td>\n",
       "      <td>27.7</td>\n",
       "      <td>0.299</td>\n",
       "      <td>21</td>\n",
       "      <td>0</td>\n",
       "    </tr>\n",
       "    <tr>\n",
       "      <th>342</th>\n",
       "      <td>1</td>\n",
       "      <td>0</td>\n",
       "      <td>68</td>\n",
       "      <td>35</td>\n",
       "      <td>0</td>\n",
       "      <td>32.0</td>\n",
       "      <td>0.389</td>\n",
       "      <td>22</td>\n",
       "      <td>0</td>\n",
       "    </tr>\n",
       "    <tr>\n",
       "      <th>349</th>\n",
       "      <td>5</td>\n",
       "      <td>0</td>\n",
       "      <td>80</td>\n",
       "      <td>32</td>\n",
       "      <td>0</td>\n",
       "      <td>41.0</td>\n",
       "      <td>0.346</td>\n",
       "      <td>37</td>\n",
       "      <td>1</td>\n",
       "    </tr>\n",
       "    <tr>\n",
       "      <th>502</th>\n",
       "      <td>6</td>\n",
       "      <td>0</td>\n",
       "      <td>68</td>\n",
       "      <td>41</td>\n",
       "      <td>0</td>\n",
       "      <td>39.0</td>\n",
       "      <td>0.727</td>\n",
       "      <td>41</td>\n",
       "      <td>1</td>\n",
       "    </tr>\n",
       "  </tbody>\n",
       "</table>\n",
       "</div>"
      ],
      "text/plain": [
       "     n_pregnant  glucose_concentration  blood_pressuer (mm Hg)  \\\n",
       "75            1                      0                      48   \n",
       "182           1                      0                      74   \n",
       "342           1                      0                      68   \n",
       "349           5                      0                      80   \n",
       "502           6                      0                      68   \n",
       "\n",
       "     skin_thickness (mm)  serum_insulin (mu U/ml)   BMI  pedigree_function  \\\n",
       "75                    20                        0  24.7              0.140   \n",
       "182                   20                       23  27.7              0.299   \n",
       "342                   35                        0  32.0              0.389   \n",
       "349                   32                        0  41.0              0.346   \n",
       "502                   41                        0  39.0              0.727   \n",
       "\n",
       "     age  class  \n",
       "75    22      0  \n",
       "182   21      0  \n",
       "342   22      0  \n",
       "349   37      1  \n",
       "502   41      1  "
      ]
     },
     "execution_count": 4,
     "metadata": {},
     "output_type": "execute_result"
    }
   ],
   "source": [
    "df[df['glucose_concentration']==0]"
   ]
  },
  {
   "cell_type": "code",
   "execution_count": 5,
   "metadata": {},
   "outputs": [],
   "source": [
    "columns = ['glucose_concentration', 'blood_pressuer (mm Hg)', 'skin_thickness (mm)', 'serum_insulin (mu U/ml)', 'BMI']\n",
    "for col in columns:\n",
    "    df[col].replace(0,np.NaN,inplace=True)\n"
   ]
  },
  {
   "cell_type": "code",
   "execution_count": 6,
   "metadata": {},
   "outputs": [
    {
     "data": {
      "text/html": [
       "<div>\n",
       "<style scoped>\n",
       "    .dataframe tbody tr th:only-of-type {\n",
       "        vertical-align: middle;\n",
       "    }\n",
       "\n",
       "    .dataframe tbody tr th {\n",
       "        vertical-align: top;\n",
       "    }\n",
       "\n",
       "    .dataframe thead th {\n",
       "        text-align: right;\n",
       "    }\n",
       "</style>\n",
       "<table border=\"1\" class=\"dataframe\">\n",
       "  <thead>\n",
       "    <tr style=\"text-align: right;\">\n",
       "      <th></th>\n",
       "      <th>n_pregnant</th>\n",
       "      <th>glucose_concentration</th>\n",
       "      <th>blood_pressuer (mm Hg)</th>\n",
       "      <th>skin_thickness (mm)</th>\n",
       "      <th>serum_insulin (mu U/ml)</th>\n",
       "      <th>BMI</th>\n",
       "      <th>pedigree_function</th>\n",
       "      <th>age</th>\n",
       "      <th>class</th>\n",
       "    </tr>\n",
       "  </thead>\n",
       "  <tbody>\n",
       "    <tr>\n",
       "      <th>count</th>\n",
       "      <td>392.000000</td>\n",
       "      <td>392.000000</td>\n",
       "      <td>392.000000</td>\n",
       "      <td>392.000000</td>\n",
       "      <td>392.000000</td>\n",
       "      <td>392.000000</td>\n",
       "      <td>392.000000</td>\n",
       "      <td>392.000000</td>\n",
       "      <td>392.000000</td>\n",
       "    </tr>\n",
       "    <tr>\n",
       "      <th>mean</th>\n",
       "      <td>3.301020</td>\n",
       "      <td>122.627551</td>\n",
       "      <td>70.663265</td>\n",
       "      <td>29.145408</td>\n",
       "      <td>156.056122</td>\n",
       "      <td>33.086224</td>\n",
       "      <td>0.523046</td>\n",
       "      <td>30.864796</td>\n",
       "      <td>0.331633</td>\n",
       "    </tr>\n",
       "    <tr>\n",
       "      <th>std</th>\n",
       "      <td>3.211424</td>\n",
       "      <td>30.860781</td>\n",
       "      <td>12.496092</td>\n",
       "      <td>10.516424</td>\n",
       "      <td>118.841690</td>\n",
       "      <td>7.027659</td>\n",
       "      <td>0.345488</td>\n",
       "      <td>10.200777</td>\n",
       "      <td>0.471401</td>\n",
       "    </tr>\n",
       "    <tr>\n",
       "      <th>min</th>\n",
       "      <td>0.000000</td>\n",
       "      <td>56.000000</td>\n",
       "      <td>24.000000</td>\n",
       "      <td>7.000000</td>\n",
       "      <td>14.000000</td>\n",
       "      <td>18.200000</td>\n",
       "      <td>0.085000</td>\n",
       "      <td>21.000000</td>\n",
       "      <td>0.000000</td>\n",
       "    </tr>\n",
       "    <tr>\n",
       "      <th>25%</th>\n",
       "      <td>1.000000</td>\n",
       "      <td>99.000000</td>\n",
       "      <td>62.000000</td>\n",
       "      <td>21.000000</td>\n",
       "      <td>76.750000</td>\n",
       "      <td>28.400000</td>\n",
       "      <td>0.269750</td>\n",
       "      <td>23.000000</td>\n",
       "      <td>0.000000</td>\n",
       "    </tr>\n",
       "    <tr>\n",
       "      <th>50%</th>\n",
       "      <td>2.000000</td>\n",
       "      <td>119.000000</td>\n",
       "      <td>70.000000</td>\n",
       "      <td>29.000000</td>\n",
       "      <td>125.500000</td>\n",
       "      <td>33.200000</td>\n",
       "      <td>0.449500</td>\n",
       "      <td>27.000000</td>\n",
       "      <td>0.000000</td>\n",
       "    </tr>\n",
       "    <tr>\n",
       "      <th>75%</th>\n",
       "      <td>5.000000</td>\n",
       "      <td>143.000000</td>\n",
       "      <td>78.000000</td>\n",
       "      <td>37.000000</td>\n",
       "      <td>190.000000</td>\n",
       "      <td>37.100000</td>\n",
       "      <td>0.687000</td>\n",
       "      <td>36.000000</td>\n",
       "      <td>1.000000</td>\n",
       "    </tr>\n",
       "    <tr>\n",
       "      <th>max</th>\n",
       "      <td>17.000000</td>\n",
       "      <td>198.000000</td>\n",
       "      <td>110.000000</td>\n",
       "      <td>63.000000</td>\n",
       "      <td>846.000000</td>\n",
       "      <td>67.100000</td>\n",
       "      <td>2.420000</td>\n",
       "      <td>81.000000</td>\n",
       "      <td>1.000000</td>\n",
       "    </tr>\n",
       "  </tbody>\n",
       "</table>\n",
       "</div>"
      ],
      "text/plain": [
       "       n_pregnant  glucose_concentration  blood_pressuer (mm Hg)  \\\n",
       "count  392.000000             392.000000              392.000000   \n",
       "mean     3.301020             122.627551               70.663265   \n",
       "std      3.211424              30.860781               12.496092   \n",
       "min      0.000000              56.000000               24.000000   \n",
       "25%      1.000000              99.000000               62.000000   \n",
       "50%      2.000000             119.000000               70.000000   \n",
       "75%      5.000000             143.000000               78.000000   \n",
       "max     17.000000             198.000000              110.000000   \n",
       "\n",
       "       skin_thickness (mm)  serum_insulin (mu U/ml)         BMI  \\\n",
       "count           392.000000               392.000000  392.000000   \n",
       "mean             29.145408               156.056122   33.086224   \n",
       "std              10.516424               118.841690    7.027659   \n",
       "min               7.000000                14.000000   18.200000   \n",
       "25%              21.000000                76.750000   28.400000   \n",
       "50%              29.000000               125.500000   33.200000   \n",
       "75%              37.000000               190.000000   37.100000   \n",
       "max              63.000000               846.000000   67.100000   \n",
       "\n",
       "       pedigree_function         age       class  \n",
       "count         392.000000  392.000000  392.000000  \n",
       "mean            0.523046   30.864796    0.331633  \n",
       "std             0.345488   10.200777    0.471401  \n",
       "min             0.085000   21.000000    0.000000  \n",
       "25%             0.269750   23.000000    0.000000  \n",
       "50%             0.449500   27.000000    0.000000  \n",
       "75%             0.687000   36.000000    1.000000  \n",
       "max             2.420000   81.000000    1.000000  "
      ]
     },
     "execution_count": 6,
     "metadata": {},
     "output_type": "execute_result"
    }
   ],
   "source": [
    "# Drop the rows with missing values\n",
    "df.dropna(inplace=True)\n",
    "\n",
    "# summarize the number of rows and columns in df\n",
    "df.describe()"
   ]
  },
  {
   "cell_type": "code",
   "execution_count": 7,
   "metadata": {},
   "outputs": [
    {
     "name": "stdout",
     "output_type": "stream",
     "text": [
      "(392, 9)\n"
     ]
    }
   ],
   "source": [
    "dataset = df.values\n",
    "print(dataset.shape)"
   ]
  },
  {
   "cell_type": "code",
   "execution_count": 8,
   "metadata": {},
   "outputs": [],
   "source": [
    "col = ['n_pregnant', 'glucose_concentration', 'blood_pressuer (mm Hg)', 'skin_thickness (mm)', 'serum_insulin (mu U/ml)', \n",
    "       'BMI', 'pedigree_function', 'age']\n",
    "target='class'\n",
    "X=df[col]\n",
    "Y=df[target].astype(int)"
   ]
  },
  {
   "cell_type": "code",
   "execution_count": 9,
   "metadata": {},
   "outputs": [
    {
     "name": "stdout",
     "output_type": "stream",
     "text": [
      "(392, 8)\n",
      "(392,)\n"
     ]
    }
   ],
   "source": [
    "print(X.shape)\n",
    "print(Y.shape)\n",
    "#print(X)"
   ]
  },
  {
   "cell_type": "code",
   "execution_count": 10,
   "metadata": {},
   "outputs": [
    {
     "name": "stdout",
     "output_type": "stream",
     "text": [
      "StandardScaler(copy=True, with_mean=True, with_std=True)\n"
     ]
    }
   ],
   "source": [
    "# Normalize the data using sklearn StandardScaler\n",
    "from sklearn.preprocessing import StandardScaler\n",
    "\n",
    "scaler=StandardScaler().fit(X)\n",
    "print(scaler)"
   ]
  },
  {
   "cell_type": "code",
   "execution_count": 11,
   "metadata": {},
   "outputs": [
    {
     "data": {
      "text/html": [
       "<div>\n",
       "<style scoped>\n",
       "    .dataframe tbody tr th:only-of-type {\n",
       "        vertical-align: middle;\n",
       "    }\n",
       "\n",
       "    .dataframe tbody tr th {\n",
       "        vertical-align: top;\n",
       "    }\n",
       "\n",
       "    .dataframe thead th {\n",
       "        text-align: right;\n",
       "    }\n",
       "</style>\n",
       "<table border=\"1\" class=\"dataframe\">\n",
       "  <thead>\n",
       "    <tr style=\"text-align: right;\">\n",
       "      <th></th>\n",
       "      <th>0</th>\n",
       "      <th>1</th>\n",
       "      <th>2</th>\n",
       "      <th>3</th>\n",
       "      <th>4</th>\n",
       "      <th>5</th>\n",
       "      <th>6</th>\n",
       "      <th>7</th>\n",
       "    </tr>\n",
       "  </thead>\n",
       "  <tbody>\n",
       "    <tr>\n",
       "      <th>count</th>\n",
       "      <td>3.920000e+02</td>\n",
       "      <td>3.920000e+02</td>\n",
       "      <td>3.920000e+02</td>\n",
       "      <td>3.920000e+02</td>\n",
       "      <td>3.920000e+02</td>\n",
       "      <td>3.920000e+02</td>\n",
       "      <td>3.920000e+02</td>\n",
       "      <td>3.920000e+02</td>\n",
       "    </tr>\n",
       "    <tr>\n",
       "      <th>mean</th>\n",
       "      <td>-4.021726e-17</td>\n",
       "      <td>3.129583e-17</td>\n",
       "      <td>-4.641624e-16</td>\n",
       "      <td>1.042250e-16</td>\n",
       "      <td>6.485742e-17</td>\n",
       "      <td>1.543550e-16</td>\n",
       "      <td>3.880116e-17</td>\n",
       "      <td>1.028089e-16</td>\n",
       "    </tr>\n",
       "    <tr>\n",
       "      <th>std</th>\n",
       "      <td>1.001278e+00</td>\n",
       "      <td>1.001278e+00</td>\n",
       "      <td>1.001278e+00</td>\n",
       "      <td>1.001278e+00</td>\n",
       "      <td>1.001278e+00</td>\n",
       "      <td>1.001278e+00</td>\n",
       "      <td>1.001278e+00</td>\n",
       "      <td>1.001278e+00</td>\n",
       "    </tr>\n",
       "    <tr>\n",
       "      <th>min</th>\n",
       "      <td>-1.029213e+00</td>\n",
       "      <td>-2.161731e+00</td>\n",
       "      <td>-3.739001e+00</td>\n",
       "      <td>-2.108484e+00</td>\n",
       "      <td>-1.196867e+00</td>\n",
       "      <td>-2.120941e+00</td>\n",
       "      <td>-1.269525e+00</td>\n",
       "      <td>-9.682991e-01</td>\n",
       "    </tr>\n",
       "    <tr>\n",
       "      <th>25%</th>\n",
       "      <td>-7.174265e-01</td>\n",
       "      <td>-7.665958e-01</td>\n",
       "      <td>-6.941640e-01</td>\n",
       "      <td>-7.755315e-01</td>\n",
       "      <td>-6.681786e-01</td>\n",
       "      <td>-6.676780e-01</td>\n",
       "      <td>-7.340909e-01</td>\n",
       "      <td>-7.719850e-01</td>\n",
       "    </tr>\n",
       "    <tr>\n",
       "      <th>50%</th>\n",
       "      <td>-4.056403e-01</td>\n",
       "      <td>-1.176959e-01</td>\n",
       "      <td>-5.314565e-02</td>\n",
       "      <td>-1.384444e-02</td>\n",
       "      <td>-2.574448e-01</td>\n",
       "      <td>1.621036e-02</td>\n",
       "      <td>-2.131475e-01</td>\n",
       "      <td>-3.793569e-01</td>\n",
       "    </tr>\n",
       "    <tr>\n",
       "      <th>75%</th>\n",
       "      <td>5.297185e-01</td>\n",
       "      <td>6.609841e-01</td>\n",
       "      <td>5.878727e-01</td>\n",
       "      <td>7.478426e-01</td>\n",
       "      <td>2.859877e-01</td>\n",
       "      <td>5.718696e-01</td>\n",
       "      <td>4.751644e-01</td>\n",
       "      <td>5.040564e-01</td>\n",
       "    </tr>\n",
       "    <tr>\n",
       "      <th>max</th>\n",
       "      <td>4.271153e+00</td>\n",
       "      <td>2.445459e+00</td>\n",
       "      <td>3.151946e+00</td>\n",
       "      <td>3.223325e+00</td>\n",
       "      <td>5.812990e+00</td>\n",
       "      <td>4.846172e+00</td>\n",
       "      <td>5.497667e+00</td>\n",
       "      <td>4.921123e+00</td>\n",
       "    </tr>\n",
       "  </tbody>\n",
       "</table>\n",
       "</div>"
      ],
      "text/plain": [
       "                  0             1             2             3             4  \\\n",
       "count  3.920000e+02  3.920000e+02  3.920000e+02  3.920000e+02  3.920000e+02   \n",
       "mean  -4.021726e-17  3.129583e-17 -4.641624e-16  1.042250e-16  6.485742e-17   \n",
       "std    1.001278e+00  1.001278e+00  1.001278e+00  1.001278e+00  1.001278e+00   \n",
       "min   -1.029213e+00 -2.161731e+00 -3.739001e+00 -2.108484e+00 -1.196867e+00   \n",
       "25%   -7.174265e-01 -7.665958e-01 -6.941640e-01 -7.755315e-01 -6.681786e-01   \n",
       "50%   -4.056403e-01 -1.176959e-01 -5.314565e-02 -1.384444e-02 -2.574448e-01   \n",
       "75%    5.297185e-01  6.609841e-01  5.878727e-01  7.478426e-01  2.859877e-01   \n",
       "max    4.271153e+00  2.445459e+00  3.151946e+00  3.223325e+00  5.812990e+00   \n",
       "\n",
       "                  5             6             7  \n",
       "count  3.920000e+02  3.920000e+02  3.920000e+02  \n",
       "mean   1.543550e-16  3.880116e-17  1.028089e-16  \n",
       "std    1.001278e+00  1.001278e+00  1.001278e+00  \n",
       "min   -2.120941e+00 -1.269525e+00 -9.682991e-01  \n",
       "25%   -6.676780e-01 -7.340909e-01 -7.719850e-01  \n",
       "50%    1.621036e-02 -2.131475e-01 -3.793569e-01  \n",
       "75%    5.718696e-01  4.751644e-01  5.040564e-01  \n",
       "max    4.846172e+00  5.497667e+00  4.921123e+00  "
      ]
     },
     "execution_count": 11,
     "metadata": {},
     "output_type": "execute_result"
    }
   ],
   "source": [
    "# Transform and display the training data\n",
    "X_standardized = scaler.transform(X)\n",
    "data = pd.DataFrame(X_standardized)\n",
    "data.describe()"
   ]
  },
  {
   "cell_type": "code",
   "execution_count": 12,
   "metadata": {},
   "outputs": [],
   "source": [
    "#import necessary packages\n",
    "from sklearn.model_selection import GridSearchCV, KFold\n",
    "from keras.models import Sequential\n",
    "from keras.layers import Dense\n",
    "from keras.wrappers.scikit_learn import KerasClassifier\n",
    "from keras.optimizers import Adam"
   ]
  },
  {
   "cell_type": "code",
   "execution_count": 13,
   "metadata": {},
   "outputs": [],
   "source": [
    "#Start defining the model\n",
    "def create_model():\n",
    "    model=Sequential()\n",
    "    model.add(Dense(8,input_dim=8,kernel_initializer='normal',activation='relu'))\n",
    "    model.add(Dense(4,input_dim=8,kernel_initializer='normal',activation='relu'))\n",
    "    model.add(Dense(1,activation='sigmoid'))\n",
    "    \n",
    "    adam = Adam(lr = 0.01)\n",
    "    model.compile(loss = 'binary_crossentropy', optimizer = adam, metrics = ['accuracy'])\n",
    "    return model"
   ]
  },
  {
   "cell_type": "code",
   "execution_count": 14,
   "metadata": {},
   "outputs": [
    {
     "name": "stdout",
     "output_type": "stream",
     "text": [
      "Model: \"sequential_1\"\n",
      "_________________________________________________________________\n",
      "Layer (type)                 Output Shape              Param #   \n",
      "=================================================================\n",
      "dense_1 (Dense)              (None, 8)                 72        \n",
      "_________________________________________________________________\n",
      "dense_2 (Dense)              (None, 4)                 36        \n",
      "_________________________________________________________________\n",
      "dense_3 (Dense)              (None, 1)                 5         \n",
      "=================================================================\n",
      "Total params: 113\n",
      "Trainable params: 113\n",
      "Non-trainable params: 0\n",
      "_________________________________________________________________\n",
      "None\n"
     ]
    }
   ],
   "source": [
    "model = create_model()\n",
    "print(model.summary())"
   ]
  },
  {
   "cell_type": "code",
   "execution_count": 15,
   "metadata": {
    "scrolled": true
   },
   "outputs": [
    {
     "name": "stderr",
     "output_type": "stream",
     "text": [
      "C:\\Users\\balsh\\anaconda3\\lib\\site-packages\\sklearn\\model_selection\\_split.py:296: FutureWarning: Setting a random_state has no effect since shuffle is False. This will raise an error in 0.24. You should leave random_state to its default (None), or set shuffle=True.\n",
      "  FutureWarning\n",
      "[Parallel(n_jobs=1)]: Using backend SequentialBackend with 1 concurrent workers.\n"
     ]
    },
    {
     "name": "stdout",
     "output_type": "stream",
     "text": [
      "Fitting 5 folds for each of 12 candidates, totalling 60 fits\n",
      "[CV] batch_size=10, epochs=10 ........................................\n",
      "[CV] ............ batch_size=10, epochs=10, score=0.722, total=   1.8s\n",
      "[CV] batch_size=10, epochs=10 ........................................\n"
     ]
    },
    {
     "name": "stderr",
     "output_type": "stream",
     "text": [
      "[Parallel(n_jobs=1)]: Done   1 out of   1 | elapsed:    1.7s remaining:    0.0s\n"
     ]
    },
    {
     "name": "stdout",
     "output_type": "stream",
     "text": [
      "[CV] ............ batch_size=10, epochs=10, score=0.582, total=   1.5s\n",
      "[CV] batch_size=10, epochs=10 ........................................\n"
     ]
    },
    {
     "name": "stderr",
     "output_type": "stream",
     "text": [
      "[Parallel(n_jobs=1)]: Done   2 out of   2 | elapsed:    3.2s remaining:    0.0s\n"
     ]
    },
    {
     "name": "stdout",
     "output_type": "stream",
     "text": [
      "[CV] ............ batch_size=10, epochs=10, score=0.808, total=   1.8s\n",
      "[CV] batch_size=10, epochs=10 ........................................\n"
     ]
    },
    {
     "name": "stderr",
     "output_type": "stream",
     "text": [
      "[Parallel(n_jobs=1)]: Done   3 out of   3 | elapsed:    5.0s remaining:    0.0s\n"
     ]
    },
    {
     "name": "stdout",
     "output_type": "stream",
     "text": [
      "[CV] ............ batch_size=10, epochs=10, score=0.795, total=   1.7s\n",
      "[CV] batch_size=10, epochs=10 ........................................\n"
     ]
    },
    {
     "name": "stderr",
     "output_type": "stream",
     "text": [
      "[Parallel(n_jobs=1)]: Done   4 out of   4 | elapsed:    6.8s remaining:    0.0s\n"
     ]
    },
    {
     "name": "stdout",
     "output_type": "stream",
     "text": [
      "[CV] ............ batch_size=10, epochs=10, score=0.846, total=   1.6s\n",
      "[CV] batch_size=10, epochs=50 ........................................\n"
     ]
    },
    {
     "name": "stderr",
     "output_type": "stream",
     "text": [
      "[Parallel(n_jobs=1)]: Done   5 out of   5 | elapsed:    8.4s remaining:    0.0s\n"
     ]
    },
    {
     "name": "stdout",
     "output_type": "stream",
     "text": [
      "[CV] ............ batch_size=10, epochs=50, score=0.722, total=   4.4s\n",
      "[CV] batch_size=10, epochs=50 ........................................\n"
     ]
    },
    {
     "name": "stderr",
     "output_type": "stream",
     "text": [
      "[Parallel(n_jobs=1)]: Done   6 out of   6 | elapsed:   12.8s remaining:    0.0s\n"
     ]
    },
    {
     "name": "stdout",
     "output_type": "stream",
     "text": [
      "[CV] ............ batch_size=10, epochs=50, score=0.709, total=   4.4s\n",
      "[CV] batch_size=10, epochs=50 ........................................\n"
     ]
    },
    {
     "name": "stderr",
     "output_type": "stream",
     "text": [
      "[Parallel(n_jobs=1)]: Done   7 out of   7 | elapsed:   17.2s remaining:    0.0s\n"
     ]
    },
    {
     "name": "stdout",
     "output_type": "stream",
     "text": [
      "[CV] ............ batch_size=10, epochs=50, score=0.821, total=   4.5s\n",
      "[CV] batch_size=10, epochs=50 ........................................\n"
     ]
    },
    {
     "name": "stderr",
     "output_type": "stream",
     "text": [
      "[Parallel(n_jobs=1)]: Done   8 out of   8 | elapsed:   21.7s remaining:    0.0s\n"
     ]
    },
    {
     "name": "stdout",
     "output_type": "stream",
     "text": [
      "[CV] ............ batch_size=10, epochs=50, score=0.846, total=   4.4s\n",
      "[CV] batch_size=10, epochs=50 ........................................\n"
     ]
    },
    {
     "name": "stderr",
     "output_type": "stream",
     "text": [
      "[Parallel(n_jobs=1)]: Done   9 out of   9 | elapsed:   26.1s remaining:    0.0s\n"
     ]
    },
    {
     "name": "stdout",
     "output_type": "stream",
     "text": [
      "[CV] ............ batch_size=10, epochs=50, score=0.859, total=   4.0s\n",
      "[CV] batch_size=10, epochs=100 .......................................\n",
      "[CV] ........... batch_size=10, epochs=100, score=0.772, total=   8.4s\n",
      "[CV] batch_size=10, epochs=100 .......................................\n",
      "[CV] ........... batch_size=10, epochs=100, score=0.671, total=   8.2s\n",
      "[CV] batch_size=10, epochs=100 .......................................\n",
      "[CV] ........... batch_size=10, epochs=100, score=0.795, total=   7.4s\n",
      "[CV] batch_size=10, epochs=100 .......................................\n",
      "[CV] ........... batch_size=10, epochs=100, score=0.833, total=   7.7s\n",
      "[CV] batch_size=10, epochs=100 .......................................\n",
      "[CV] ........... batch_size=10, epochs=100, score=0.756, total=   7.8s\n",
      "[CV] batch_size=20, epochs=10 ........................................\n",
      "[CV] ............ batch_size=20, epochs=10, score=0.772, total=   1.3s\n",
      "[CV] batch_size=20, epochs=10 ........................................\n",
      "[CV] ............ batch_size=20, epochs=10, score=0.582, total=   1.1s\n",
      "[CV] batch_size=20, epochs=10 ........................................\n",
      "[CV] ............ batch_size=20, epochs=10, score=0.808, total=   1.2s\n",
      "[CV] batch_size=20, epochs=10 ........................................\n",
      "[CV] ............ batch_size=20, epochs=10, score=0.808, total=   1.1s\n",
      "[CV] batch_size=20, epochs=10 ........................................\n",
      "[CV] ............ batch_size=20, epochs=10, score=0.821, total=   1.3s\n",
      "[CV] batch_size=20, epochs=50 ........................................\n",
      "[CV] ............ batch_size=20, epochs=50, score=0.759, total=   2.5s\n",
      "[CV] batch_size=20, epochs=50 ........................................\n",
      "[CV] ............ batch_size=20, epochs=50, score=0.620, total=   2.6s\n",
      "[CV] batch_size=20, epochs=50 ........................................\n",
      "[CV] ............ batch_size=20, epochs=50, score=0.833, total=   2.6s\n",
      "[CV] batch_size=20, epochs=50 ........................................\n",
      "[CV] ............ batch_size=20, epochs=50, score=0.872, total=   2.6s\n",
      "[CV] batch_size=20, epochs=50 ........................................\n",
      "[CV] ............ batch_size=20, epochs=50, score=0.859, total=   2.5s\n",
      "[CV] batch_size=20, epochs=100 .......................................\n",
      "[CV] ........... batch_size=20, epochs=100, score=0.759, total=   4.4s\n",
      "[CV] batch_size=20, epochs=100 .......................................\n",
      "[CV] ........... batch_size=20, epochs=100, score=0.646, total=   4.2s\n",
      "[CV] batch_size=20, epochs=100 .......................................\n",
      "[CV] ........... batch_size=20, epochs=100, score=0.795, total=   4.5s\n",
      "[CV] batch_size=20, epochs=100 .......................................\n",
      "[CV] ........... batch_size=20, epochs=100, score=0.782, total=   4.4s\n",
      "[CV] batch_size=20, epochs=100 .......................................\n",
      "[CV] ........... batch_size=20, epochs=100, score=0.833, total=   4.5s\n",
      "[CV] batch_size=30, epochs=10 ........................................\n",
      "[CV] ............ batch_size=30, epochs=10, score=0.734, total=   1.1s\n",
      "[CV] batch_size=30, epochs=10 ........................................\n",
      "[CV] ............ batch_size=30, epochs=10, score=0.608, total=   1.1s\n",
      "[CV] batch_size=30, epochs=10 ........................................\n",
      "[CV] ............ batch_size=30, epochs=10, score=0.808, total=   1.2s\n",
      "[CV] batch_size=30, epochs=10 ........................................\n",
      "[CV] ............ batch_size=30, epochs=10, score=0.808, total=   1.1s\n",
      "[CV] batch_size=30, epochs=10 ........................................\n",
      "[CV] ............ batch_size=30, epochs=10, score=0.821, total=   1.0s\n",
      "[CV] batch_size=30, epochs=50 ........................................\n",
      "[CV] ............ batch_size=30, epochs=50, score=0.709, total=   2.0s\n",
      "[CV] batch_size=30, epochs=50 ........................................\n",
      "[CV] ............ batch_size=30, epochs=50, score=0.658, total=   2.0s\n",
      "[CV] batch_size=30, epochs=50 ........................................\n",
      "[CV] ............ batch_size=30, epochs=50, score=0.859, total=   2.3s\n",
      "[CV] batch_size=30, epochs=50 ........................................\n",
      "[CV] ............ batch_size=30, epochs=50, score=0.846, total=   2.0s\n",
      "[CV] batch_size=30, epochs=50 ........................................\n",
      "[CV] ............ batch_size=30, epochs=50, score=0.846, total=   2.0s\n",
      "[CV] batch_size=30, epochs=100 .......................................\n",
      "[CV] ........... batch_size=30, epochs=100, score=0.722, total=   3.2s\n",
      "[CV] batch_size=30, epochs=100 .......................................\n",
      "[CV] ........... batch_size=30, epochs=100, score=0.671, total=   3.3s\n",
      "[CV] batch_size=30, epochs=100 .......................................\n",
      "[CV] ........... batch_size=30, epochs=100, score=0.821, total=   3.5s\n",
      "[CV] batch_size=30, epochs=100 .......................................\n",
      "[CV] ........... batch_size=30, epochs=100, score=0.859, total=   3.1s\n",
      "[CV] batch_size=30, epochs=100 .......................................\n",
      "[CV] ........... batch_size=30, epochs=100, score=0.833, total=   3.4s\n",
      "[CV] batch_size=40, epochs=10 ........................................\n",
      "[CV] ............ batch_size=40, epochs=10, score=0.785, total=   1.0s\n",
      "[CV] batch_size=40, epochs=10 ........................................\n",
      "[CV] ............ batch_size=40, epochs=10, score=0.620, total=   1.0s\n",
      "[CV] batch_size=40, epochs=10 ........................................\n",
      "[CV] ............ batch_size=40, epochs=10, score=0.795, total=   1.2s\n",
      "[CV] batch_size=40, epochs=10 ........................................\n",
      "[CV] ............ batch_size=40, epochs=10, score=0.846, total=   1.0s\n",
      "[CV] batch_size=40, epochs=10 ........................................\n",
      "[CV] ............ batch_size=40, epochs=10, score=0.859, total=   1.2s\n",
      "[CV] batch_size=40, epochs=50 ........................................\n",
      "[CV] ............ batch_size=40, epochs=50, score=0.785, total=   1.9s\n",
      "[CV] batch_size=40, epochs=50 ........................................\n",
      "[CV] ............ batch_size=40, epochs=50, score=0.633, total=   1.7s\n",
      "[CV] batch_size=40, epochs=50 ........................................\n",
      "[CV] ............ batch_size=40, epochs=50, score=0.833, total=   1.7s\n",
      "[CV] batch_size=40, epochs=50 ........................................\n",
      "[CV] ............ batch_size=40, epochs=50, score=0.821, total=   1.9s\n",
      "[CV] batch_size=40, epochs=50 ........................................\n",
      "[CV] ............ batch_size=40, epochs=50, score=0.846, total=   1.7s\n",
      "[CV] batch_size=40, epochs=100 .......................................\n",
      "[CV] ........... batch_size=40, epochs=100, score=0.722, total=   2.6s\n",
      "[CV] batch_size=40, epochs=100 .......................................\n",
      "[CV] ........... batch_size=40, epochs=100, score=0.658, total=   2.7s\n",
      "[CV] batch_size=40, epochs=100 .......................................\n",
      "[CV] ........... batch_size=40, epochs=100, score=0.769, total=   2.6s\n",
      "[CV] batch_size=40, epochs=100 .......................................\n",
      "[CV] ........... batch_size=40, epochs=100, score=0.821, total=   2.8s\n",
      "[CV] batch_size=40, epochs=100 .......................................\n",
      "[CV] ........... batch_size=40, epochs=100, score=0.859, total=   2.7s\n"
     ]
    },
    {
     "name": "stderr",
     "output_type": "stream",
     "text": [
      "[Parallel(n_jobs=1)]: Done  60 out of  60 | elapsed:  2.8min finished\n"
     ]
    },
    {
     "name": "stdout",
     "output_type": "stream",
     "text": [
      "Best: 0.7912041544914246, using {'batch_size': 10, 'epochs': 50}\n",
      "0.7505030870437622 (0.09330364448009798) with: {'batch_size': 10, 'epochs': 10}\n",
      "0.7912041544914246 (0.06341564947695214) with: {'batch_size': 10, 'epochs': 50}\n",
      "0.7655306696891785 (0.053930915597060584) with: {'batch_size': 10, 'epochs': 100}\n",
      "0.7580655574798584 (0.08935860875152117) with: {'batch_size': 20, 'epochs': 10}\n",
      "0.7887698650360108 (0.09280377518135459) with: {'batch_size': 20, 'epochs': 50}\n",
      "0.763063931465149 (0.06344715185877535) with: {'batch_size': 20, 'epochs': 100}\n",
      "0.7555339097976684 (0.08000663660471047) with: {'batch_size': 30, 'epochs': 10}\n",
      "0.783674132823944 (0.08344023121060123) with: {'batch_size': 30, 'epochs': 50}\n",
      "0.781045114994049 (0.07217075299611107) with: {'batch_size': 30, 'epochs': 100}\n",
      "0.7810126543045044 (0.08528952648905208) with: {'batch_size': 40, 'epochs': 10}\n",
      "0.7835443019866943 (0.078048000929465) with: {'batch_size': 40, 'epochs': 50}\n",
      "0.7656929612159729 (0.07102004888718165) with: {'batch_size': 40, 'epochs': 100}\n"
     ]
    }
   ],
   "source": [
    "#define a random seed\n",
    "seed=6\n",
    "np.random.seed(seed)\n",
    "#Start defining the model\n",
    "def create_model():\n",
    "    model=Sequential()\n",
    "    model.add(Dense(8,input_dim=8,kernel_initializer='normal',activation='relu'))\n",
    "    model.add(Dense(4,input_dim=8,kernel_initializer='normal',activation='relu'))\n",
    "    model.add(Dense(1,activation='sigmoid'))\n",
    "    \n",
    "    adam = Adam(lr = 0.01)\n",
    "    model.compile(loss = 'binary_crossentropy', optimizer = adam, metrics = ['accuracy'])\n",
    "    return model\n",
    "\n",
    "#create model\n",
    "model=KerasClassifier(build_fn=create_model, verbose=0)\n",
    "\n",
    "# Define the grid search parameters\n",
    "batch_size = [10,20,30,40]\n",
    "epochs = [10, 50, 100]\n",
    "\n",
    "# make a dictionary of the grid search parameters\n",
    "param_grid = dict(batch_size=batch_size, epochs=epochs)\n",
    "\n",
    "# build and fit the GridSearchCV\n",
    "grid = GridSearchCV(estimator=model, param_grid=param_grid, cv = KFold(random_state=seed), verbose=10)\n",
    "grid_result = grid.fit(X_standardized, Y)\n",
    "\n",
    "# summarize the results\n",
    "print(\"Best: {0}, using {1}\".format(grid_result.best_score_, grid_result.best_params_))\n",
    "means = grid_result.cv_results_['mean_test_score']\n",
    "stds = grid_result.cv_results_['std_test_score']\n",
    "params = grid_result.cv_results_['params']\n",
    "for mean, stdev, param in zip(means, stds, params):\n",
    "    print('{0} ({1}) with: {2}'.format(mean, stdev, param))"
   ]
  },
  {
   "cell_type": "code",
   "execution_count": 16,
   "metadata": {
    "scrolled": true
   },
   "outputs": [
    {
     "name": "stdout",
     "output_type": "stream",
     "text": [
      "Fitting 5 folds for each of 16 candidates, totalling 80 fits\n",
      "[CV] dropout_rate=0.0, learn_rate=0.0001 .............................\n"
     ]
    },
    {
     "name": "stderr",
     "output_type": "stream",
     "text": [
      "[Parallel(n_jobs=1)]: Using backend SequentialBackend with 1 concurrent workers.\n"
     ]
    },
    {
     "name": "stdout",
     "output_type": "stream",
     "text": [
      "[CV] . dropout_rate=0.0, learn_rate=0.0001, score=0.759, total=   4.6s\n",
      "[CV] dropout_rate=0.0, learn_rate=0.0001 .............................\n"
     ]
    },
    {
     "name": "stderr",
     "output_type": "stream",
     "text": [
      "[Parallel(n_jobs=1)]: Done   1 out of   1 | elapsed:    4.5s remaining:    0.0s\n"
     ]
    },
    {
     "name": "stdout",
     "output_type": "stream",
     "text": [
      "[CV] . dropout_rate=0.0, learn_rate=0.0001, score=0.620, total=   4.2s\n",
      "[CV] dropout_rate=0.0, learn_rate=0.0001 .............................\n"
     ]
    },
    {
     "name": "stderr",
     "output_type": "stream",
     "text": [
      "[Parallel(n_jobs=1)]: Done   2 out of   2 | elapsed:    8.7s remaining:    0.0s\n"
     ]
    },
    {
     "name": "stdout",
     "output_type": "stream",
     "text": [
      "[CV] . dropout_rate=0.0, learn_rate=0.0001, score=0.821, total=   4.2s\n",
      "[CV] dropout_rate=0.0, learn_rate=0.0001 .............................\n"
     ]
    },
    {
     "name": "stderr",
     "output_type": "stream",
     "text": [
      "[Parallel(n_jobs=1)]: Done   3 out of   3 | elapsed:   13.0s remaining:    0.0s\n"
     ]
    },
    {
     "name": "stdout",
     "output_type": "stream",
     "text": [
      "[CV] . dropout_rate=0.0, learn_rate=0.0001, score=0.769, total=   4.5s\n",
      "[CV] dropout_rate=0.0, learn_rate=0.0001 .............................\n"
     ]
    },
    {
     "name": "stderr",
     "output_type": "stream",
     "text": [
      "[Parallel(n_jobs=1)]: Done   4 out of   4 | elapsed:   17.5s remaining:    0.0s\n"
     ]
    },
    {
     "name": "stdout",
     "output_type": "stream",
     "text": [
      "[CV] . dropout_rate=0.0, learn_rate=0.0001, score=0.769, total=   4.2s\n",
      "[CV] dropout_rate=0.0, learn_rate=0.001 ..............................\n"
     ]
    },
    {
     "name": "stderr",
     "output_type": "stream",
     "text": [
      "[Parallel(n_jobs=1)]: Done   5 out of   5 | elapsed:   21.7s remaining:    0.0s\n"
     ]
    },
    {
     "name": "stdout",
     "output_type": "stream",
     "text": [
      "[CV] .. dropout_rate=0.0, learn_rate=0.001, score=0.759, total=   4.3s\n",
      "[CV] dropout_rate=0.0, learn_rate=0.001 ..............................\n"
     ]
    },
    {
     "name": "stderr",
     "output_type": "stream",
     "text": [
      "[Parallel(n_jobs=1)]: Done   6 out of   6 | elapsed:   26.0s remaining:    0.0s\n"
     ]
    },
    {
     "name": "stdout",
     "output_type": "stream",
     "text": [
      "[CV] .. dropout_rate=0.0, learn_rate=0.001, score=0.633, total=   4.4s\n",
      "[CV] dropout_rate=0.0, learn_rate=0.001 ..............................\n"
     ]
    },
    {
     "name": "stderr",
     "output_type": "stream",
     "text": [
      "[Parallel(n_jobs=1)]: Done   7 out of   7 | elapsed:   30.4s remaining:    0.0s\n"
     ]
    },
    {
     "name": "stdout",
     "output_type": "stream",
     "text": [
      "[CV] .. dropout_rate=0.0, learn_rate=0.001, score=0.808, total=   4.3s\n",
      "[CV] dropout_rate=0.0, learn_rate=0.001 ..............................\n"
     ]
    },
    {
     "name": "stderr",
     "output_type": "stream",
     "text": [
      "[Parallel(n_jobs=1)]: Done   8 out of   8 | elapsed:   34.7s remaining:    0.0s\n"
     ]
    },
    {
     "name": "stdout",
     "output_type": "stream",
     "text": [
      "[CV] .. dropout_rate=0.0, learn_rate=0.001, score=0.808, total=   4.4s\n",
      "[CV] dropout_rate=0.0, learn_rate=0.001 ..............................\n"
     ]
    },
    {
     "name": "stderr",
     "output_type": "stream",
     "text": [
      "[Parallel(n_jobs=1)]: Done   9 out of   9 | elapsed:   39.1s remaining:    0.0s\n"
     ]
    },
    {
     "name": "stdout",
     "output_type": "stream",
     "text": [
      "[CV] .. dropout_rate=0.0, learn_rate=0.001, score=0.833, total=   4.6s\n",
      "[CV] dropout_rate=0.0, learn_rate=0.01 ...............................\n",
      "[CV] ... dropout_rate=0.0, learn_rate=0.01, score=0.747, total=   4.3s\n",
      "[CV] dropout_rate=0.0, learn_rate=0.01 ...............................\n",
      "[CV] ... dropout_rate=0.0, learn_rate=0.01, score=0.671, total=   4.3s\n",
      "[CV] dropout_rate=0.0, learn_rate=0.01 ...............................\n",
      "[CV] ... dropout_rate=0.0, learn_rate=0.01, score=0.769, total=   4.3s\n",
      "[CV] dropout_rate=0.0, learn_rate=0.01 ...............................\n",
      "[CV] ... dropout_rate=0.0, learn_rate=0.01, score=0.833, total=   4.3s\n",
      "[CV] dropout_rate=0.0, learn_rate=0.01 ...............................\n",
      "[CV] ... dropout_rate=0.0, learn_rate=0.01, score=0.859, total=   4.3s\n",
      "[CV] dropout_rate=0.0, learn_rate=0.1 ................................\n",
      "[CV] .... dropout_rate=0.0, learn_rate=0.1, score=0.734, total=   4.6s\n",
      "[CV] dropout_rate=0.0, learn_rate=0.1 ................................\n",
      "[CV] .... dropout_rate=0.0, learn_rate=0.1, score=0.658, total=   4.2s\n",
      "[CV] dropout_rate=0.0, learn_rate=0.1 ................................\n",
      "[CV] .... dropout_rate=0.0, learn_rate=0.1, score=0.705, total=   4.2s\n",
      "[CV] dropout_rate=0.0, learn_rate=0.1 ................................\n",
      "[CV] .... dropout_rate=0.0, learn_rate=0.1, score=0.821, total=   4.4s\n",
      "[CV] dropout_rate=0.0, learn_rate=0.1 ................................\n",
      "[CV] .... dropout_rate=0.0, learn_rate=0.1, score=0.795, total=   4.4s\n",
      "[CV] dropout_rate=0.1, learn_rate=0.0001 .............................\n",
      "[CV] . dropout_rate=0.1, learn_rate=0.0001, score=0.684, total=   5.0s\n",
      "[CV] dropout_rate=0.1, learn_rate=0.0001 .............................\n",
      "[CV] . dropout_rate=0.1, learn_rate=0.0001, score=0.570, total=   5.3s\n",
      "[CV] dropout_rate=0.1, learn_rate=0.0001 .............................\n",
      "[CV] . dropout_rate=0.1, learn_rate=0.0001, score=0.718, total=   5.1s\n",
      "[CV] dropout_rate=0.1, learn_rate=0.0001 .............................\n",
      "[CV] . dropout_rate=0.1, learn_rate=0.0001, score=0.744, total=   5.0s\n",
      "[CV] dropout_rate=0.1, learn_rate=0.0001 .............................\n",
      "[CV] . dropout_rate=0.1, learn_rate=0.0001, score=0.679, total=   5.1s\n",
      "[CV] dropout_rate=0.1, learn_rate=0.001 ..............................\n",
      "[CV] .. dropout_rate=0.1, learn_rate=0.001, score=0.759, total=   5.1s\n",
      "[CV] dropout_rate=0.1, learn_rate=0.001 ..............................\n",
      "[CV] .. dropout_rate=0.1, learn_rate=0.001, score=0.633, total=   5.4s\n",
      "[CV] dropout_rate=0.1, learn_rate=0.001 ..............................\n",
      "[CV] .. dropout_rate=0.1, learn_rate=0.001, score=0.821, total=   5.3s\n",
      "[CV] dropout_rate=0.1, learn_rate=0.001 ..............................\n",
      "[CV] .. dropout_rate=0.1, learn_rate=0.001, score=0.833, total=   5.2s\n",
      "[CV] dropout_rate=0.1, learn_rate=0.001 ..............................\n",
      "[CV] .. dropout_rate=0.1, learn_rate=0.001, score=0.833, total=   5.1s\n",
      "[CV] dropout_rate=0.1, learn_rate=0.01 ...............................\n",
      "[CV] ... dropout_rate=0.1, learn_rate=0.01, score=0.772, total=   5.3s\n",
      "[CV] dropout_rate=0.1, learn_rate=0.01 ...............................\n",
      "[CV] ... dropout_rate=0.1, learn_rate=0.01, score=0.658, total=   5.4s\n",
      "[CV] dropout_rate=0.1, learn_rate=0.01 ...............................\n",
      "[CV] ... dropout_rate=0.1, learn_rate=0.01, score=0.821, total=   5.1s\n",
      "[CV] dropout_rate=0.1, learn_rate=0.01 ...............................\n",
      "[CV] ... dropout_rate=0.1, learn_rate=0.01, score=0.885, total=   5.1s\n",
      "[CV] dropout_rate=0.1, learn_rate=0.01 ...............................\n",
      "[CV] ... dropout_rate=0.1, learn_rate=0.01, score=0.808, total=   5.2s\n",
      "[CV] dropout_rate=0.1, learn_rate=0.1 ................................\n",
      "[CV] .... dropout_rate=0.1, learn_rate=0.1, score=0.658, total=   5.2s\n",
      "[CV] dropout_rate=0.1, learn_rate=0.1 ................................\n",
      "[CV] .... dropout_rate=0.1, learn_rate=0.1, score=0.570, total=   5.0s\n",
      "[CV] dropout_rate=0.1, learn_rate=0.1 ................................\n",
      "[CV] .... dropout_rate=0.1, learn_rate=0.1, score=0.782, total=   5.3s\n",
      "[CV] dropout_rate=0.1, learn_rate=0.1 ................................\n",
      "[CV] .... dropout_rate=0.1, learn_rate=0.1, score=0.769, total=   5.0s\n",
      "[CV] dropout_rate=0.1, learn_rate=0.1 ................................\n",
      "[CV] .... dropout_rate=0.1, learn_rate=0.1, score=0.731, total=   4.9s\n",
      "[CV] dropout_rate=0.2, learn_rate=0.0001 .............................\n",
      "[CV] . dropout_rate=0.2, learn_rate=0.0001, score=0.759, total=   4.9s\n",
      "[CV] dropout_rate=0.2, learn_rate=0.0001 .............................\n",
      "[CV] . dropout_rate=0.2, learn_rate=0.0001, score=0.633, total=   5.1s\n",
      "[CV] dropout_rate=0.2, learn_rate=0.0001 .............................\n",
      "[CV] . dropout_rate=0.2, learn_rate=0.0001, score=0.705, total=   5.2s\n",
      "[CV] dropout_rate=0.2, learn_rate=0.0001 .............................\n",
      "[CV] . dropout_rate=0.2, learn_rate=0.0001, score=0.833, total=   5.3s\n",
      "[CV] dropout_rate=0.2, learn_rate=0.0001 .............................\n",
      "[CV] . dropout_rate=0.2, learn_rate=0.0001, score=0.705, total=   4.9s\n",
      "[CV] dropout_rate=0.2, learn_rate=0.001 ..............................\n",
      "[CV] .. dropout_rate=0.2, learn_rate=0.001, score=0.759, total=   5.1s\n",
      "[CV] dropout_rate=0.2, learn_rate=0.001 ..............................\n",
      "[CV] .. dropout_rate=0.2, learn_rate=0.001, score=0.620, total=   5.2s\n",
      "[CV] dropout_rate=0.2, learn_rate=0.001 ..............................\n",
      "[CV] .. dropout_rate=0.2, learn_rate=0.001, score=0.821, total=   5.0s\n",
      "[CV] dropout_rate=0.2, learn_rate=0.001 ..............................\n",
      "[CV] .. dropout_rate=0.2, learn_rate=0.001, score=0.859, total=   5.0s\n",
      "[CV] dropout_rate=0.2, learn_rate=0.001 ..............................\n",
      "[CV] .. dropout_rate=0.2, learn_rate=0.001, score=0.846, total=   5.2s\n",
      "[CV] dropout_rate=0.2, learn_rate=0.01 ...............................\n",
      "[CV] ... dropout_rate=0.2, learn_rate=0.01, score=0.747, total=   5.5s\n",
      "[CV] dropout_rate=0.2, learn_rate=0.01 ...............................\n",
      "[CV] ... dropout_rate=0.2, learn_rate=0.01, score=0.658, total=   4.9s\n",
      "[CV] dropout_rate=0.2, learn_rate=0.01 ...............................\n",
      "[CV] ... dropout_rate=0.2, learn_rate=0.01, score=0.833, total=   5.1s\n",
      "[CV] dropout_rate=0.2, learn_rate=0.01 ...............................\n",
      "[CV] ... dropout_rate=0.2, learn_rate=0.01, score=0.833, total=   5.1s\n",
      "[CV] dropout_rate=0.2, learn_rate=0.01 ...............................\n",
      "[CV] ... dropout_rate=0.2, learn_rate=0.01, score=0.795, total=   4.9s\n",
      "[CV] dropout_rate=0.2, learn_rate=0.1 ................................\n",
      "[CV] .... dropout_rate=0.2, learn_rate=0.1, score=0.646, total=   5.0s\n",
      "[CV] dropout_rate=0.2, learn_rate=0.1 ................................\n",
      "[CV] .... dropout_rate=0.2, learn_rate=0.1, score=0.646, total=   5.1s\n",
      "[CV] dropout_rate=0.2, learn_rate=0.1 ................................\n",
      "[CV] .... dropout_rate=0.2, learn_rate=0.1, score=0.769, total=   5.4s\n",
      "[CV] dropout_rate=0.2, learn_rate=0.1 ................................\n",
      "[CV] .... dropout_rate=0.2, learn_rate=0.1, score=0.808, total=   4.8s\n",
      "[CV] dropout_rate=0.2, learn_rate=0.1 ................................\n",
      "[CV] .... dropout_rate=0.2, learn_rate=0.1, score=0.808, total=   5.0s\n",
      "[CV] dropout_rate=0.3, learn_rate=0.0001 .............................\n",
      "[CV] . dropout_rate=0.3, learn_rate=0.0001, score=0.722, total=   5.0s\n",
      "[CV] dropout_rate=0.3, learn_rate=0.0001 .............................\n",
      "[CV] . dropout_rate=0.3, learn_rate=0.0001, score=0.595, total=   4.9s\n",
      "[CV] dropout_rate=0.3, learn_rate=0.0001 .............................\n",
      "[CV] . dropout_rate=0.3, learn_rate=0.0001, score=0.705, total=   5.0s\n",
      "[CV] dropout_rate=0.3, learn_rate=0.0001 .............................\n",
      "[CV] . dropout_rate=0.3, learn_rate=0.0001, score=0.808, total=   5.1s\n",
      "[CV] dropout_rate=0.3, learn_rate=0.0001 .............................\n",
      "[CV] . dropout_rate=0.3, learn_rate=0.0001, score=0.731, total=   5.2s\n",
      "[CV] dropout_rate=0.3, learn_rate=0.001 ..............................\n",
      "[CV] .. dropout_rate=0.3, learn_rate=0.001, score=0.734, total=   4.9s\n",
      "[CV] dropout_rate=0.3, learn_rate=0.001 ..............................\n",
      "[CV] .. dropout_rate=0.3, learn_rate=0.001, score=0.582, total=   5.1s\n",
      "[CV] dropout_rate=0.3, learn_rate=0.001 ..............................\n"
     ]
    },
    {
     "name": "stdout",
     "output_type": "stream",
     "text": [
      "[CV] .. dropout_rate=0.3, learn_rate=0.001, score=0.821, total=   5.1s\n",
      "[CV] dropout_rate=0.3, learn_rate=0.001 ..............................\n",
      "[CV] .. dropout_rate=0.3, learn_rate=0.001, score=0.808, total=   5.0s\n",
      "[CV] dropout_rate=0.3, learn_rate=0.001 ..............................\n",
      "[CV] .. dropout_rate=0.3, learn_rate=0.001, score=0.859, total=   6.2s\n",
      "[CV] dropout_rate=0.3, learn_rate=0.01 ...............................\n",
      "[CV] ... dropout_rate=0.3, learn_rate=0.01, score=0.747, total=   5.6s\n",
      "[CV] dropout_rate=0.3, learn_rate=0.01 ...............................\n",
      "[CV] ... dropout_rate=0.3, learn_rate=0.01, score=0.646, total=   5.8s\n",
      "[CV] dropout_rate=0.3, learn_rate=0.01 ...............................\n",
      "[CV] ... dropout_rate=0.3, learn_rate=0.01, score=0.782, total=   6.3s\n",
      "[CV] dropout_rate=0.3, learn_rate=0.01 ...............................\n",
      "[CV] ... dropout_rate=0.3, learn_rate=0.01, score=0.795, total=   5.3s\n",
      "[CV] dropout_rate=0.3, learn_rate=0.01 ...............................\n",
      "[CV] ... dropout_rate=0.3, learn_rate=0.01, score=0.821, total=   5.5s\n",
      "[CV] dropout_rate=0.3, learn_rate=0.1 ................................\n",
      "[CV] .... dropout_rate=0.3, learn_rate=0.1, score=0.646, total=   5.0s\n",
      "[CV] dropout_rate=0.3, learn_rate=0.1 ................................\n",
      "[CV] .... dropout_rate=0.3, learn_rate=0.1, score=0.595, total=   5.1s\n",
      "[CV] dropout_rate=0.3, learn_rate=0.1 ................................\n",
      "[CV] .... dropout_rate=0.3, learn_rate=0.1, score=0.795, total=   4.9s\n",
      "[CV] dropout_rate=0.3, learn_rate=0.1 ................................\n",
      "[CV] .... dropout_rate=0.3, learn_rate=0.1, score=0.744, total=   4.9s\n",
      "[CV] dropout_rate=0.3, learn_rate=0.1 ................................\n",
      "[CV] .... dropout_rate=0.3, learn_rate=0.1, score=0.679, total=   4.9s\n"
     ]
    },
    {
     "name": "stderr",
     "output_type": "stream",
     "text": [
      "[Parallel(n_jobs=1)]: Done  80 out of  80 | elapsed:  6.6min finished\n"
     ]
    },
    {
     "name": "stdout",
     "output_type": "stream",
     "text": [
      "Best: 0.78864004611969, using {'dropout_rate': 0.1, 'learn_rate': 0.01}\n",
      "0.7477442383766174 (0.06724676745381974) with: {'dropout_rate': 0.0, 'learn_rate': 0.0001}\n",
      "0.768224585056305 (0.07175017418186987) with: {'dropout_rate': 0.0, 'learn_rate': 0.001}\n",
      "0.7758520007133484 (0.06650874261352188) with: {'dropout_rate': 0.0, 'learn_rate': 0.01}\n",
      "0.7425835847854614 (0.05898556932094381) with: {'dropout_rate': 0.0, 'learn_rate': 0.1}\n",
      "0.6788380384445191 (0.05945338826029287) with: {'dropout_rate': 0.1, 'learn_rate': 0.0001}\n",
      "0.7759168982505799 (0.07655375483984386) with: {'dropout_rate': 0.1, 'learn_rate': 0.001}\n",
      "0.78864004611969 (0.07465831638149004) with: {'dropout_rate': 0.1, 'learn_rate': 0.01}\n",
      "0.7019798755645752 (0.07898891947698417) with: {'dropout_rate': 0.1, 'learn_rate': 0.1}\n",
      "0.7271989464759827 (0.06659103905495732) with: {'dropout_rate': 0.2, 'learn_rate': 0.0001}\n",
      "0.7810775637626648 (0.08739374146471103) with: {'dropout_rate': 0.2, 'learn_rate': 0.001}\n",
      "0.7733203530311584 (0.0657499912847478) with: {'dropout_rate': 0.2, 'learn_rate': 0.01}\n",
      "0.7351509213447571 (0.0744789303276814) with: {'dropout_rate': 0.2, 'learn_rate': 0.1}\n",
      "0.7120090842247009 (0.06833877353815908) with: {'dropout_rate': 0.3, 'learn_rate': 0.0001}\n",
      "0.7607270359992981 (0.09796058824673763) with: {'dropout_rate': 0.3, 'learn_rate': 0.001}\n",
      "0.7579681992530822 (0.06100996481663896) with: {'dropout_rate': 0.3, 'learn_rate': 0.01}\n",
      "0.6916910171508789 (0.07067851744494327) with: {'dropout_rate': 0.3, 'learn_rate': 0.1}\n"
     ]
    }
   ],
   "source": [
    "# import necessary packages\n",
    "from keras.layers import Dropout\n",
    "# Define a random seed\n",
    "seed = 6\n",
    "np.random.seed(seed)\n",
    "epochs=50\n",
    "batch_size=10\n",
    "# Start defining the model\n",
    "def create_model(learn_rate, dropout_rate):\n",
    "    # Create model\n",
    "    model = Sequential()\n",
    "    model.add(Dense(8, input_dim = 8, kernel_initializer = 'normal', activation = 'relu'))\n",
    "    model.add(Dropout(dropout_rate))\n",
    "    model.add(Dense(4, input_dim = 8, kernel_initializer = 'normal', activation = 'relu'))\n",
    "    model.add(Dropout(dropout_rate))\n",
    "    model.add(Dense(1, activation = 'sigmoid'))\n",
    "    \n",
    "    # Compile the model\n",
    "    adam = Adam(lr = learn_rate)\n",
    "    model.compile(loss = 'binary_crossentropy', optimizer = adam, metrics = ['accuracy'])\n",
    "    return model\n",
    "\n",
    "# Create the model\n",
    "model = KerasClassifier(build_fn = create_model, epochs=epochs, batch_size=batch_size, verbose = 0) # This comes from the previous best\n",
    "\n",
    "# define the grid search parameters\n",
    "learn_rate = [0.0001, 0.001, 0.01, 0.1]\n",
    "dropout_rate = [0.0, 0.1, 0.2, 0.3]\n",
    "\n",
    "# make a dictionary of the grid search parameters\n",
    "param_grid = dict(learn_rate=learn_rate, dropout_rate=dropout_rate)\n",
    "\n",
    "# build and fit the GridSearchCV\n",
    "grid = GridSearchCV(estimator=model, param_grid=param_grid, cv = KFold(random_state=seed), verbose=10)\n",
    "grid_result = grid.fit(X_standardized, Y)\n",
    "\n",
    "# summarize the results\n",
    "print(\"Best: {0}, using {1}\".format(grid_result.best_score_, grid_result.best_params_))\n",
    "means = grid_result.cv_results_['mean_test_score']\n",
    "stds = grid_result.cv_results_['std_test_score']\n",
    "params = grid_result.cv_results_['params']\n",
    "for mean, stdev, param in zip(means, stds, params):\n",
    "    print('{0} ({1}) with: {2}'.format(mean, stdev, param))"
   ]
  },
  {
   "cell_type": "code",
   "execution_count": 17,
   "metadata": {
    "scrolled": true
   },
   "outputs": [
    {
     "name": "stdout",
     "output_type": "stream",
     "text": [
      "Fitting 5 folds for each of 12 candidates, totalling 60 fits\n",
      "[CV] activation=softmax, init=uniform ................................\n"
     ]
    },
    {
     "name": "stderr",
     "output_type": "stream",
     "text": [
      "[Parallel(n_jobs=1)]: Using backend SequentialBackend with 1 concurrent workers.\n"
     ]
    },
    {
     "name": "stdout",
     "output_type": "stream",
     "text": [
      "[CV] .... activation=softmax, init=uniform, score=0.722, total=   4.8s\n",
      "[CV] activation=softmax, init=uniform ................................\n"
     ]
    },
    {
     "name": "stderr",
     "output_type": "stream",
     "text": [
      "[Parallel(n_jobs=1)]: Done   1 out of   1 | elapsed:    4.7s remaining:    0.0s\n"
     ]
    },
    {
     "name": "stdout",
     "output_type": "stream",
     "text": [
      "[CV] .... activation=softmax, init=uniform, score=0.658, total=   5.2s\n",
      "[CV] activation=softmax, init=uniform ................................\n"
     ]
    },
    {
     "name": "stderr",
     "output_type": "stream",
     "text": [
      "[Parallel(n_jobs=1)]: Done   2 out of   2 | elapsed:    9.9s remaining:    0.0s\n"
     ]
    },
    {
     "name": "stdout",
     "output_type": "stream",
     "text": [
      "[CV] .... activation=softmax, init=uniform, score=0.821, total=   4.4s\n",
      "[CV] activation=softmax, init=uniform ................................\n"
     ]
    },
    {
     "name": "stderr",
     "output_type": "stream",
     "text": [
      "[Parallel(n_jobs=1)]: Done   3 out of   3 | elapsed:   14.3s remaining:    0.0s\n"
     ]
    },
    {
     "name": "stdout",
     "output_type": "stream",
     "text": [
      "[CV] .... activation=softmax, init=uniform, score=0.833, total=   4.5s\n",
      "[CV] activation=softmax, init=uniform ................................\n"
     ]
    },
    {
     "name": "stderr",
     "output_type": "stream",
     "text": [
      "[Parallel(n_jobs=1)]: Done   4 out of   4 | elapsed:   18.8s remaining:    0.0s\n"
     ]
    },
    {
     "name": "stdout",
     "output_type": "stream",
     "text": [
      "[CV] .... activation=softmax, init=uniform, score=0.846, total=   4.5s\n",
      "[CV] activation=softmax, init=normal .................................\n"
     ]
    },
    {
     "name": "stderr",
     "output_type": "stream",
     "text": [
      "[Parallel(n_jobs=1)]: Done   5 out of   5 | elapsed:   23.3s remaining:    0.0s\n"
     ]
    },
    {
     "name": "stdout",
     "output_type": "stream",
     "text": [
      "[CV] ..... activation=softmax, init=normal, score=0.734, total=   4.6s\n",
      "[CV] activation=softmax, init=normal .................................\n"
     ]
    },
    {
     "name": "stderr",
     "output_type": "stream",
     "text": [
      "[Parallel(n_jobs=1)]: Done   6 out of   6 | elapsed:   28.0s remaining:    0.0s\n"
     ]
    },
    {
     "name": "stdout",
     "output_type": "stream",
     "text": [
      "[CV] ..... activation=softmax, init=normal, score=0.620, total=   4.5s\n",
      "[CV] activation=softmax, init=normal .................................\n"
     ]
    },
    {
     "name": "stderr",
     "output_type": "stream",
     "text": [
      "[Parallel(n_jobs=1)]: Done   7 out of   7 | elapsed:   32.5s remaining:    0.0s\n"
     ]
    },
    {
     "name": "stdout",
     "output_type": "stream",
     "text": [
      "[CV] ..... activation=softmax, init=normal, score=0.795, total=   4.7s\n",
      "[CV] activation=softmax, init=normal .................................\n"
     ]
    },
    {
     "name": "stderr",
     "output_type": "stream",
     "text": [
      "[Parallel(n_jobs=1)]: Done   8 out of   8 | elapsed:   37.2s remaining:    0.0s\n"
     ]
    },
    {
     "name": "stdout",
     "output_type": "stream",
     "text": [
      "[CV] ..... activation=softmax, init=normal, score=0.846, total=   4.8s\n",
      "[CV] activation=softmax, init=normal .................................\n"
     ]
    },
    {
     "name": "stderr",
     "output_type": "stream",
     "text": [
      "[Parallel(n_jobs=1)]: Done   9 out of   9 | elapsed:   41.9s remaining:    0.0s\n"
     ]
    },
    {
     "name": "stdout",
     "output_type": "stream",
     "text": [
      "[CV] ..... activation=softmax, init=normal, score=0.859, total=   4.5s\n",
      "[CV] activation=softmax, init=zero ...................................\n",
      "[CV] ....... activation=softmax, init=zero, score=0.646, total=   4.4s\n",
      "[CV] activation=softmax, init=zero ...................................\n",
      "[CV] ....... activation=softmax, init=zero, score=0.570, total=   4.3s\n",
      "[CV] activation=softmax, init=zero ...................................\n",
      "[CV] ....... activation=softmax, init=zero, score=0.705, total=   5.0s\n",
      "[CV] activation=softmax, init=zero ...................................\n",
      "[CV] ....... activation=softmax, init=zero, score=0.744, total=   4.7s\n",
      "[CV] activation=softmax, init=zero ...................................\n",
      "[CV] ....... activation=softmax, init=zero, score=0.679, total=   4.6s\n",
      "[CV] activation=relu, init=uniform ...................................\n",
      "[CV] ....... activation=relu, init=uniform, score=0.747, total=   4.7s\n",
      "[CV] activation=relu, init=uniform ...................................\n",
      "[CV] ....... activation=relu, init=uniform, score=0.633, total=   4.7s\n",
      "[CV] activation=relu, init=uniform ...................................\n",
      "[CV] ....... activation=relu, init=uniform, score=0.782, total=   4.3s\n",
      "[CV] activation=relu, init=uniform ...................................\n",
      "[CV] ....... activation=relu, init=uniform, score=0.808, total=   4.5s\n",
      "[CV] activation=relu, init=uniform ...................................\n",
      "[CV] ....... activation=relu, init=uniform, score=0.833, total=   4.4s\n",
      "[CV] activation=relu, init=normal ....................................\n",
      "[CV] ........ activation=relu, init=normal, score=0.772, total=   4.4s\n",
      "[CV] activation=relu, init=normal ....................................\n",
      "[CV] ........ activation=relu, init=normal, score=0.633, total=   4.5s\n",
      "[CV] activation=relu, init=normal ....................................\n",
      "[CV] ........ activation=relu, init=normal, score=0.731, total=   4.4s\n",
      "[CV] activation=relu, init=normal ....................................\n",
      "[CV] ........ activation=relu, init=normal, score=0.808, total=   4.3s\n",
      "[CV] activation=relu, init=normal ....................................\n",
      "[CV] ........ activation=relu, init=normal, score=0.795, total=   4.5s\n",
      "[CV] activation=relu, init=zero ......................................\n",
      "[CV] .......... activation=relu, init=zero, score=0.646, total=   4.8s\n",
      "[CV] activation=relu, init=zero ......................................\n",
      "[CV] .......... activation=relu, init=zero, score=0.570, total=   4.4s\n",
      "[CV] activation=relu, init=zero ......................................\n",
      "[CV] .......... activation=relu, init=zero, score=0.705, total=   4.4s\n",
      "[CV] activation=relu, init=zero ......................................\n",
      "[CV] .......... activation=relu, init=zero, score=0.744, total=   4.5s\n",
      "[CV] activation=relu, init=zero ......................................\n",
      "[CV] .......... activation=relu, init=zero, score=0.679, total=   4.5s\n",
      "[CV] activation=tanh, init=uniform ...................................\n",
      "[CV] ....... activation=tanh, init=uniform, score=0.772, total=   4.5s\n",
      "[CV] activation=tanh, init=uniform ...................................\n",
      "[CV] ....... activation=tanh, init=uniform, score=0.570, total=   4.4s\n",
      "[CV] activation=tanh, init=uniform ...................................\n",
      "[CV] ....... activation=tanh, init=uniform, score=0.833, total=   4.5s\n",
      "[CV] activation=tanh, init=uniform ...................................\n",
      "[CV] ....... activation=tanh, init=uniform, score=0.808, total=   4.5s\n",
      "[CV] activation=tanh, init=uniform ...................................\n",
      "[CV] ....... activation=tanh, init=uniform, score=0.833, total=   4.6s\n",
      "[CV] activation=tanh, init=normal ....................................\n",
      "[CV] ........ activation=tanh, init=normal, score=0.747, total=   4.4s\n",
      "[CV] activation=tanh, init=normal ....................................\n",
      "[CV] ........ activation=tanh, init=normal, score=0.620, total=   4.4s\n",
      "[CV] activation=tanh, init=normal ....................................\n",
      "[CV] ........ activation=tanh, init=normal, score=0.808, total=   5.0s\n",
      "[CV] activation=tanh, init=normal ....................................\n",
      "[CV] ........ activation=tanh, init=normal, score=0.795, total=   4.5s\n",
      "[CV] activation=tanh, init=normal ....................................\n",
      "[CV] ........ activation=tanh, init=normal, score=0.833, total=   4.5s\n",
      "[CV] activation=tanh, init=zero ......................................\n",
      "[CV] .......... activation=tanh, init=zero, score=0.646, total=   4.4s\n",
      "[CV] activation=tanh, init=zero ......................................\n",
      "[CV] .......... activation=tanh, init=zero, score=0.570, total=   4.5s\n",
      "[CV] activation=tanh, init=zero ......................................\n",
      "[CV] .......... activation=tanh, init=zero, score=0.705, total=   4.5s\n",
      "[CV] activation=tanh, init=zero ......................................\n",
      "[CV] .......... activation=tanh, init=zero, score=0.744, total=   4.6s\n",
      "[CV] activation=tanh, init=zero ......................................\n",
      "[CV] .......... activation=tanh, init=zero, score=0.679, total=   4.4s\n",
      "[CV] activation=linear, init=uniform .................................\n",
      "[CV] ..... activation=linear, init=uniform, score=0.835, total=   4.4s\n",
      "[CV] activation=linear, init=uniform .................................\n",
      "[CV] ..... activation=linear, init=uniform, score=0.633, total=   4.5s\n",
      "[CV] activation=linear, init=uniform .................................\n",
      "[CV] ..... activation=linear, init=uniform, score=0.821, total=   4.5s\n",
      "[CV] activation=linear, init=uniform .................................\n",
      "[CV] ..... activation=linear, init=uniform, score=0.846, total=   4.5s\n",
      "[CV] activation=linear, init=uniform .................................\n",
      "[CV] ..... activation=linear, init=uniform, score=0.821, total=   4.3s\n",
      "[CV] activation=linear, init=normal ..................................\n",
      "[CV] ...... activation=linear, init=normal, score=0.835, total=   5.1s\n",
      "[CV] activation=linear, init=normal ..................................\n",
      "[CV] ...... activation=linear, init=normal, score=0.620, total=   4.4s\n",
      "[CV] activation=linear, init=normal ..................................\n",
      "[CV] ...... activation=linear, init=normal, score=0.821, total=   4.3s\n",
      "[CV] activation=linear, init=normal ..................................\n",
      "[CV] ...... activation=linear, init=normal, score=0.859, total=   4.4s\n",
      "[CV] activation=linear, init=normal ..................................\n",
      "[CV] ...... activation=linear, init=normal, score=0.808, total=   4.4s\n",
      "[CV] activation=linear, init=zero ....................................\n",
      "[CV] ........ activation=linear, init=zero, score=0.646, total=   4.2s\n",
      "[CV] activation=linear, init=zero ....................................\n",
      "[CV] ........ activation=linear, init=zero, score=0.570, total=   4.4s\n",
      "[CV] activation=linear, init=zero ....................................\n",
      "[CV] ........ activation=linear, init=zero, score=0.705, total=   4.5s\n",
      "[CV] activation=linear, init=zero ....................................\n",
      "[CV] ........ activation=linear, init=zero, score=0.744, total=   4.4s\n",
      "[CV] activation=linear, init=zero ....................................\n",
      "[CV] ........ activation=linear, init=zero, score=0.679, total=   4.4s\n"
     ]
    },
    {
     "name": "stderr",
     "output_type": "stream",
     "text": [
      "[Parallel(n_jobs=1)]: Done  60 out of  60 | elapsed:  4.5min finished\n"
     ]
    },
    {
     "name": "stdout",
     "output_type": "stream",
     "text": [
      "Best: 0.7911067843437195, using {'activation': 'linear', 'init': 'uniform'}\n",
      "0.7759493708610534 (0.07352347706662563) with: {'activation': 'softmax', 'init': 'uniform'}\n",
      "0.7708860754966735 (0.08722145913036237) with: {'activation': 'softmax', 'init': 'normal'}\n",
      "0.6686789989471436 (0.05899773033245815) with: {'activation': 'softmax', 'init': 'zero'}\n",
      "0.7605647444725037 (0.06994542741212405) with: {'activation': 'relu', 'init': 'uniform'}\n",
      "0.7476793169975281 (0.06306381621409568) with: {'activation': 'relu', 'init': 'normal'}\n",
      "0.6686789989471436 (0.05899773033245815) with: {'activation': 'relu', 'init': 'zero'}\n",
      "0.7632262110710144 (0.09936818298562612) with: {'activation': 'tanh', 'init': 'uniform'}\n",
      "0.7605972051620483 (0.07558978386106281) with: {'activation': 'tanh', 'init': 'normal'}\n",
      "0.6686789989471436 (0.05899773033245815) with: {'activation': 'tanh', 'init': 'zero'}\n",
      "0.7911067843437195 (0.07968826468817176) with: {'activation': 'linear', 'init': 'uniform'}\n",
      "0.7885751247406005 (0.08587248740892742) with: {'activation': 'linear', 'init': 'normal'}\n",
      "0.6686789989471436 (0.05899773033245815) with: {'activation': 'linear', 'init': 'zero'}\n"
     ]
    }
   ],
   "source": [
    "# Define a random seed\n",
    "seed = 6\n",
    "np.random.seed(seed)\n",
    "learn_rate = 0.01\n",
    "# Start defining the model\n",
    "def create_model(activation, init):\n",
    "    # Create model\n",
    "    model = Sequential()\n",
    "    model.add(Dense(8, input_dim = 8, kernel_initializer = init, activation = activation))\n",
    "    #model.add(Dropout(dropout_rate))\n",
    "    model.add(Dense(4, input_dim = 8, kernel_initializer = init, activation = activation))\n",
    "    #model.add(Dropout(dropout_rate))\n",
    "    model.add(Dense(1, activation = 'sigmoid'))\n",
    "    \n",
    "    # Compile the model\n",
    "    adam = Adam(lr = learn_rate)\n",
    "    model.compile(loss = 'binary_crossentropy', optimizer = adam, metrics = ['accuracy'])\n",
    "    return model\n",
    "\n",
    "# Create the model\n",
    "model = KerasClassifier(build_fn = create_model, epochs=epochs, batch_size=batch_size, verbose = 0) # This comes from the previous best\n",
    "\n",
    "# define the grid search parameters\n",
    "activations = ['softmax', 'relu', 'tanh', 'linear']\n",
    "initializers = ['uniform', 'normal', 'zero']\n",
    "\n",
    "# make a dictionary of the grid search parameters\n",
    "param_grid = dict(activation = activations, init = initializers)\n",
    "\n",
    "# build and fit the GridSearchCV\n",
    "grid = GridSearchCV(estimator=model, param_grid=param_grid, cv = KFold(random_state=seed), verbose=10)\n",
    "grid_result = grid.fit(X_standardized, Y)\n",
    "\n",
    "# summarize the results\n",
    "print(\"Best: {0}, using {1}\".format(grid_result.best_score_, grid_result.best_params_))\n",
    "means = grid_result.cv_results_['mean_test_score']\n",
    "stds = grid_result.cv_results_['std_test_score']\n",
    "params = grid_result.cv_results_['params']\n",
    "for mean, stdev, param in zip(means, stds, params):\n",
    "    print('{0} ({1}) with: {2}'.format(mean, stdev, param))"
   ]
  },
  {
   "cell_type": "code",
   "execution_count": 18,
   "metadata": {
    "scrolled": true
   },
   "outputs": [
    {
     "name": "stdout",
     "output_type": "stream",
     "text": [
      "Fitting 5 folds for each of 9 candidates, totalling 45 fits\n",
      "[CV] neuron1=4, neuron2=2 ............................................\n"
     ]
    },
    {
     "name": "stderr",
     "output_type": "stream",
     "text": [
      "[Parallel(n_jobs=1)]: Using backend SequentialBackend with 1 concurrent workers.\n"
     ]
    },
    {
     "name": "stdout",
     "output_type": "stream",
     "text": [
      "[CV] ................ neuron1=4, neuron2=2, score=0.835, total=   4.6s\n",
      "[CV] neuron1=4, neuron2=2 ............................................\n"
     ]
    },
    {
     "name": "stderr",
     "output_type": "stream",
     "text": [
      "[Parallel(n_jobs=1)]: Done   1 out of   1 | elapsed:    4.5s remaining:    0.0s\n"
     ]
    },
    {
     "name": "stdout",
     "output_type": "stream",
     "text": [
      "[CV] ................ neuron1=4, neuron2=2, score=0.633, total=   4.1s\n",
      "[CV] neuron1=4, neuron2=2 ............................................\n"
     ]
    },
    {
     "name": "stderr",
     "output_type": "stream",
     "text": [
      "[Parallel(n_jobs=1)]: Done   2 out of   2 | elapsed:    8.6s remaining:    0.0s\n"
     ]
    },
    {
     "name": "stdout",
     "output_type": "stream",
     "text": [
      "[CV] ................ neuron1=4, neuron2=2, score=0.821, total=   4.5s\n",
      "[CV] neuron1=4, neuron2=2 ............................................\n"
     ]
    },
    {
     "name": "stderr",
     "output_type": "stream",
     "text": [
      "[Parallel(n_jobs=1)]: Done   3 out of   3 | elapsed:   13.1s remaining:    0.0s\n"
     ]
    },
    {
     "name": "stdout",
     "output_type": "stream",
     "text": [
      "[CV] ................ neuron1=4, neuron2=2, score=0.846, total=   5.1s\n",
      "[CV] neuron1=4, neuron2=2 ............................................\n"
     ]
    },
    {
     "name": "stderr",
     "output_type": "stream",
     "text": [
      "[Parallel(n_jobs=1)]: Done   4 out of   4 | elapsed:   18.2s remaining:    0.0s\n"
     ]
    },
    {
     "name": "stdout",
     "output_type": "stream",
     "text": [
      "[CV] ................ neuron1=4, neuron2=2, score=0.833, total=   4.5s\n",
      "[CV] neuron1=4, neuron2=4 ............................................\n"
     ]
    },
    {
     "name": "stderr",
     "output_type": "stream",
     "text": [
      "[Parallel(n_jobs=1)]: Done   5 out of   5 | elapsed:   22.7s remaining:    0.0s\n"
     ]
    },
    {
     "name": "stdout",
     "output_type": "stream",
     "text": [
      "[CV] ................ neuron1=4, neuron2=4, score=0.835, total=   4.5s\n",
      "[CV] neuron1=4, neuron2=4 ............................................\n"
     ]
    },
    {
     "name": "stderr",
     "output_type": "stream",
     "text": [
      "[Parallel(n_jobs=1)]: Done   6 out of   6 | elapsed:   27.1s remaining:    0.0s\n"
     ]
    },
    {
     "name": "stdout",
     "output_type": "stream",
     "text": [
      "[CV] ................ neuron1=4, neuron2=4, score=0.608, total=   4.4s\n",
      "[CV] neuron1=4, neuron2=4 ............................................\n"
     ]
    },
    {
     "name": "stderr",
     "output_type": "stream",
     "text": [
      "[Parallel(n_jobs=1)]: Done   7 out of   7 | elapsed:   31.6s remaining:    0.0s\n"
     ]
    },
    {
     "name": "stdout",
     "output_type": "stream",
     "text": [
      "[CV] ................ neuron1=4, neuron2=4, score=0.821, total=   4.2s\n",
      "[CV] neuron1=4, neuron2=4 ............................................\n"
     ]
    },
    {
     "name": "stderr",
     "output_type": "stream",
     "text": [
      "[Parallel(n_jobs=1)]: Done   8 out of   8 | elapsed:   35.8s remaining:    0.0s\n"
     ]
    },
    {
     "name": "stdout",
     "output_type": "stream",
     "text": [
      "[CV] ................ neuron1=4, neuron2=4, score=0.846, total=   4.3s\n",
      "[CV] neuron1=4, neuron2=4 ............................................\n"
     ]
    },
    {
     "name": "stderr",
     "output_type": "stream",
     "text": [
      "[Parallel(n_jobs=1)]: Done   9 out of   9 | elapsed:   40.1s remaining:    0.0s\n"
     ]
    },
    {
     "name": "stdout",
     "output_type": "stream",
     "text": [
      "[CV] ................ neuron1=4, neuron2=4, score=0.808, total=   4.2s\n",
      "[CV] neuron1=4, neuron2=8 ............................................\n",
      "[CV] ................ neuron1=4, neuron2=8, score=0.835, total=   4.3s\n",
      "[CV] neuron1=4, neuron2=8 ............................................\n",
      "[CV] ................ neuron1=4, neuron2=8, score=0.633, total=   4.5s\n",
      "[CV] neuron1=4, neuron2=8 ............................................\n",
      "[CV] ................ neuron1=4, neuron2=8, score=0.821, total=   4.5s\n",
      "[CV] neuron1=4, neuron2=8 ............................................\n",
      "[CV] ................ neuron1=4, neuron2=8, score=0.846, total=   4.5s\n",
      "[CV] neuron1=4, neuron2=8 ............................................\n",
      "[CV] ................ neuron1=4, neuron2=8, score=0.821, total=   4.4s\n",
      "[CV] neuron1=8, neuron2=2 ............................................\n",
      "[CV] ................ neuron1=8, neuron2=2, score=0.835, total=   4.5s\n",
      "[CV] neuron1=8, neuron2=2 ............................................\n",
      "[CV] ................ neuron1=8, neuron2=2, score=0.633, total=   5.0s\n",
      "[CV] neuron1=8, neuron2=2 ............................................\n",
      "[CV] ................ neuron1=8, neuron2=2, score=0.833, total=   4.4s\n",
      "[CV] neuron1=8, neuron2=2 ............................................\n",
      "[CV] ................ neuron1=8, neuron2=2, score=0.846, total=   4.4s\n",
      "[CV] neuron1=8, neuron2=2 ............................................\n",
      "[CV] ................ neuron1=8, neuron2=2, score=0.808, total=   4.2s\n",
      "[CV] neuron1=8, neuron2=4 ............................................\n",
      "[CV] ................ neuron1=8, neuron2=4, score=0.835, total=   4.3s\n",
      "[CV] neuron1=8, neuron2=4 ............................................\n",
      "[CV] ................ neuron1=8, neuron2=4, score=0.608, total=   4.3s\n",
      "[CV] neuron1=8, neuron2=4 ............................................\n",
      "[CV] ................ neuron1=8, neuron2=4, score=0.821, total=   4.5s\n",
      "[CV] neuron1=8, neuron2=4 ............................................\n",
      "[CV] ................ neuron1=8, neuron2=4, score=0.846, total=   4.5s\n",
      "[CV] neuron1=8, neuron2=4 ............................................\n",
      "[CV] ................ neuron1=8, neuron2=4, score=0.833, total=   4.4s\n",
      "[CV] neuron1=8, neuron2=8 ............................................\n",
      "[CV] ................ neuron1=8, neuron2=8, score=0.835, total=   4.4s\n",
      "[CV] neuron1=8, neuron2=8 ............................................\n",
      "[CV] ................ neuron1=8, neuron2=8, score=0.620, total=   4.9s\n",
      "[CV] neuron1=8, neuron2=8 ............................................\n",
      "[CV] ................ neuron1=8, neuron2=8, score=0.821, total=   4.6s\n",
      "[CV] neuron1=8, neuron2=8 ............................................\n",
      "[CV] ................ neuron1=8, neuron2=8, score=0.833, total=   4.8s\n",
      "[CV] neuron1=8, neuron2=8 ............................................\n",
      "[CV] ................ neuron1=8, neuron2=8, score=0.833, total=   4.5s\n",
      "[CV] neuron1=16, neuron2=2 ...........................................\n",
      "[CV] ............... neuron1=16, neuron2=2, score=0.835, total=   5.2s\n",
      "[CV] neuron1=16, neuron2=2 ...........................................\n",
      "[CV] ............... neuron1=16, neuron2=2, score=0.620, total=   4.5s\n",
      "[CV] neuron1=16, neuron2=2 ...........................................\n",
      "[CV] ............... neuron1=16, neuron2=2, score=0.821, total=   4.5s\n",
      "[CV] neuron1=16, neuron2=2 ...........................................\n",
      "[CV] ............... neuron1=16, neuron2=2, score=0.833, total=   4.4s\n",
      "[CV] neuron1=16, neuron2=2 ...........................................\n",
      "[CV] ............... neuron1=16, neuron2=2, score=0.833, total=   4.5s\n",
      "[CV] neuron1=16, neuron2=4 ...........................................\n",
      "[CV] ............... neuron1=16, neuron2=4, score=0.835, total=   4.5s\n",
      "[CV] neuron1=16, neuron2=4 ...........................................\n",
      "[CV] ............... neuron1=16, neuron2=4, score=0.633, total=   4.2s\n",
      "[CV] neuron1=16, neuron2=4 ...........................................\n",
      "[CV] ............... neuron1=16, neuron2=4, score=0.821, total=   5.0s\n",
      "[CV] neuron1=16, neuron2=4 ...........................................\n",
      "[CV] ............... neuron1=16, neuron2=4, score=0.846, total=   4.6s\n",
      "[CV] neuron1=16, neuron2=4 ...........................................\n",
      "[CV] ............... neuron1=16, neuron2=4, score=0.833, total=   4.9s\n",
      "[CV] neuron1=16, neuron2=8 ...........................................\n",
      "[CV] ............... neuron1=16, neuron2=8, score=0.835, total=   4.3s\n",
      "[CV] neuron1=16, neuron2=8 ...........................................\n",
      "[CV] ............... neuron1=16, neuron2=8, score=0.633, total=   4.6s\n",
      "[CV] neuron1=16, neuron2=8 ...........................................\n",
      "[CV] ............... neuron1=16, neuron2=8, score=0.833, total=   4.8s\n",
      "[CV] neuron1=16, neuron2=8 ...........................................\n",
      "[CV] ............... neuron1=16, neuron2=8, score=0.833, total=   4.6s\n",
      "[CV] neuron1=16, neuron2=8 ...........................................\n",
      "[CV] ............... neuron1=16, neuron2=8, score=0.821, total=   5.2s\n"
     ]
    },
    {
     "name": "stderr",
     "output_type": "stream",
     "text": [
      "[Parallel(n_jobs=1)]: Done  45 out of  45 | elapsed:  3.4min finished\n"
     ]
    },
    {
     "name": "stdout",
     "output_type": "stream",
     "text": [
      "Best: 0.7936708807945252, using {'neuron1': 4, 'neuron2': 2}\n",
      "0.7936708807945252 (0.08079181748331918) with: {'neuron1': 4, 'neuron2': 2}\n",
      "0.783479380607605 (0.08890601661969585) with: {'neuron1': 4, 'neuron2': 4}\n",
      "0.7911067843437195 (0.07968826468817176) with: {'neuron1': 4, 'neuron2': 8}\n",
      "0.7911067724227905 (0.08009971934827462) with: {'neuron1': 8, 'neuron2': 2}\n",
      "0.7886075854301453 (0.09087249991485369) with: {'neuron1': 8, 'neuron2': 4}\n",
      "0.7885751247406005 (0.08432733392428071) with: {'neuron1': 8, 'neuron2': 8}\n",
      "0.7885751247406005 (0.08432733392428071) with: {'neuron1': 16, 'neuron2': 2}\n",
      "0.7936708807945252 (0.08079181748331918) with: {'neuron1': 16, 'neuron2': 4}\n",
      "0.7911067724227905 (0.0792746637362651) with: {'neuron1': 16, 'neuron2': 8}\n"
     ]
    }
   ],
   "source": [
    "# Define a random seed\n",
    "seed = 6\n",
    "np.random.seed(seed)\n",
    "init = 'uniform'   # taken from previous results\n",
    "activation = 'linear'\n",
    "# Start defining the model\n",
    "def create_model(neuron1, neuron2):\n",
    "    # Create model\n",
    "    model = Sequential()\n",
    "    model.add(Dense(neuron1, input_dim = 8, kernel_initializer = init, activation = activation))\n",
    "#    model.add(Dropout(dropout_rate))\n",
    "    model.add(Dense(neuron2, input_dim = neuron1, kernel_initializer = init, activation = activation))\n",
    "#    model.add(Dropout(dropout_rate))\n",
    "    model.add(Dense(1, activation = 'sigmoid'))\n",
    "    \n",
    "    # Compile the model\n",
    "    adam = Adam(lr = learn_rate)\n",
    "    model.compile(loss = 'binary_crossentropy', optimizer = adam, metrics = ['accuracy'])\n",
    "    return model\n",
    "\n",
    "# Create the model\n",
    "model = KerasClassifier(build_fn = create_model, epochs=50, batch_size=10, verbose = 0) \n",
    "\n",
    "# define the grid search parameters\n",
    "neuron1 = [4, 8, 16]\n",
    "neuron2 = [2, 4, 8]\n",
    "\n",
    "# make a dictionary of the grid search parameters\n",
    "param_grid = dict(neuron1 = neuron1, neuron2 = neuron2)\n",
    "\n",
    "# build and fit the GridSearchCV\n",
    "grid = GridSearchCV(estimator=model, param_grid=param_grid, cv = KFold(random_state=seed), refit=True, verbose=10) # To retrain with the best parameters found so far\n",
    "grid_result = grid.fit(X_standardized, Y)\n",
    "\n",
    "# summarize the results\n",
    "print(\"Best: {0}, using {1}\".format(grid_result.best_score_, grid_result.best_params_))\n",
    "means = grid_result.cv_results_['mean_test_score']\n",
    "stds = grid_result.cv_results_['std_test_score']\n",
    "params = grid_result.cv_results_['params']\n",
    "for mean, stdev, param in zip(means, stds, params):\n",
    "    print('{0} ({1}) with: {2}'.format(mean, stdev, param))"
   ]
  },
  {
   "cell_type": "code",
   "execution_count": 19,
   "metadata": {},
   "outputs": [],
   "source": [
    "# generate predictions with optimal hyperparameters\n",
    "y_pred = grid.predict(X_standardized)"
   ]
  },
  {
   "cell_type": "code",
   "execution_count": 20,
   "metadata": {},
   "outputs": [
    {
     "name": "stdout",
     "output_type": "stream",
     "text": [
      "0.7857142857142857\n",
      "              precision    recall  f1-score   support\n",
      "\n",
      "           0       0.81      0.89      0.85       262\n",
      "           1       0.72      0.58      0.64       130\n",
      "\n",
      "    accuracy                           0.79       392\n",
      "   macro avg       0.76      0.74      0.75       392\n",
      "weighted avg       0.78      0.79      0.78       392\n",
      "\n"
     ]
    }
   ],
   "source": [
    "from sklearn.metrics import classification_report, accuracy_score\n",
    "\n",
    "print(accuracy_score(Y, y_pred))\n",
    "print(classification_report(Y, y_pred))"
   ]
  },
  {
   "cell_type": "code",
   "execution_count": 21,
   "metadata": {},
   "outputs": [
    {
     "name": "stdout",
     "output_type": "stream",
     "text": [
      "n_pregnant                   0.000\n",
      "glucose_concentration      137.000\n",
      "blood_pressuer (mm Hg)      40.000\n",
      "skin_thickness (mm)         35.000\n",
      "serum_insulin (mu U/ml)    168.000\n",
      "BMI                         43.100\n",
      "pedigree_function            2.288\n",
      "age                         33.000\n",
      "class                        1.000\n",
      "Name: 4, dtype: float64\n"
     ]
    }
   ],
   "source": [
    "# example datapoint\n",
    "example = df.iloc[1]\n",
    "print(example)"
   ]
  },
  {
   "cell_type": "code",
   "execution_count": 22,
   "metadata": {},
   "outputs": [
    {
     "name": "stdout",
     "output_type": "stream",
     "text": [
      "[[1]]\n"
     ]
    }
   ],
   "source": [
    "# make a prediction using our optimized deep neural network\n",
    "prediction = grid.predict(X_standardized[1].reshape(1, -1))\n",
    "print(prediction)"
   ]
  }
 ],
 "metadata": {
  "kernelspec": {
   "display_name": "Python 3",
   "language": "python",
   "name": "python3"
  },
  "language_info": {
   "codemirror_mode": {
    "name": "ipython",
    "version": 3
   },
   "file_extension": ".py",
   "mimetype": "text/x-python",
   "name": "python",
   "nbconvert_exporter": "python",
   "pygments_lexer": "ipython3",
   "version": "3.7.6"
  }
 },
 "nbformat": 4,
 "nbformat_minor": 4
}
