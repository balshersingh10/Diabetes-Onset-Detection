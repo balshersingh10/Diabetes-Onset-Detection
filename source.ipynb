{
 "cells": [
  {
   "cell_type": "code",
   "execution_count": 99,
   "metadata": {},
   "outputs": [
    {
     "name": "stdout",
     "output_type": "stream",
     "text": [
      "3.7.6 (default, Jan  8 2020, 20:23:39) [MSC v.1916 64 bit (AMD64)]\n",
      "0.24.2\n",
      "1.18.1\n",
      "0.22.1\n",
      "2.3.1\n"
     ]
    }
   ],
   "source": [
    "import sys\n",
    "import pandas as pd\n",
    "import numpy as np\n",
    "import sklearn\n",
    "import keras\n",
    "\n",
    "print(sys.version)\n",
    "print(pd.__version__)\n",
    "print(np.__version__)\n",
    "print(sklearn.__version__)\n",
    "print(keras.__version__)"
   ]
  },
  {
   "cell_type": "code",
   "execution_count": 100,
   "metadata": {},
   "outputs": [],
   "source": [
    "# import the uci pima indians diabetes dataset\n",
    "url = \"diabetes.csv\"\n",
    "names = ['n_pregnant', 'glucose_concentration', 'blood_pressuer (mm Hg)', 'skin_thickness (mm)', 'serum_insulin (mu U/ml)',\n",
    "        'BMI', 'pedigree_function', 'age', 'class']\n",
    "df = pd.read_csv(url, names = names)"
   ]
  },
  {
   "cell_type": "code",
   "execution_count": 101,
   "metadata": {},
   "outputs": [
    {
     "data": {
      "text/html": [
       "<div>\n",
       "<style scoped>\n",
       "    .dataframe tbody tr th:only-of-type {\n",
       "        vertical-align: middle;\n",
       "    }\n",
       "\n",
       "    .dataframe tbody tr th {\n",
       "        vertical-align: top;\n",
       "    }\n",
       "\n",
       "    .dataframe thead th {\n",
       "        text-align: right;\n",
       "    }\n",
       "</style>\n",
       "<table border=\"1\" class=\"dataframe\">\n",
       "  <thead>\n",
       "    <tr style=\"text-align: right;\">\n",
       "      <th></th>\n",
       "      <th>n_pregnant</th>\n",
       "      <th>glucose_concentration</th>\n",
       "      <th>blood_pressuer (mm Hg)</th>\n",
       "      <th>skin_thickness (mm)</th>\n",
       "      <th>serum_insulin (mu U/ml)</th>\n",
       "      <th>BMI</th>\n",
       "      <th>pedigree_function</th>\n",
       "      <th>age</th>\n",
       "      <th>class</th>\n",
       "    </tr>\n",
       "  </thead>\n",
       "  <tbody>\n",
       "    <tr>\n",
       "      <th>count</th>\n",
       "      <td>768.000000</td>\n",
       "      <td>768.000000</td>\n",
       "      <td>768.000000</td>\n",
       "      <td>768.000000</td>\n",
       "      <td>768.000000</td>\n",
       "      <td>768.000000</td>\n",
       "      <td>768.000000</td>\n",
       "      <td>768.000000</td>\n",
       "      <td>768.000000</td>\n",
       "    </tr>\n",
       "    <tr>\n",
       "      <th>mean</th>\n",
       "      <td>3.845052</td>\n",
       "      <td>120.894531</td>\n",
       "      <td>69.105469</td>\n",
       "      <td>20.536458</td>\n",
       "      <td>79.799479</td>\n",
       "      <td>31.992578</td>\n",
       "      <td>0.471876</td>\n",
       "      <td>33.240885</td>\n",
       "      <td>0.348958</td>\n",
       "    </tr>\n",
       "    <tr>\n",
       "      <th>std</th>\n",
       "      <td>3.369578</td>\n",
       "      <td>31.972618</td>\n",
       "      <td>19.355807</td>\n",
       "      <td>15.952218</td>\n",
       "      <td>115.244002</td>\n",
       "      <td>7.884160</td>\n",
       "      <td>0.331329</td>\n",
       "      <td>11.760232</td>\n",
       "      <td>0.476951</td>\n",
       "    </tr>\n",
       "    <tr>\n",
       "      <th>min</th>\n",
       "      <td>0.000000</td>\n",
       "      <td>0.000000</td>\n",
       "      <td>0.000000</td>\n",
       "      <td>0.000000</td>\n",
       "      <td>0.000000</td>\n",
       "      <td>0.000000</td>\n",
       "      <td>0.078000</td>\n",
       "      <td>21.000000</td>\n",
       "      <td>0.000000</td>\n",
       "    </tr>\n",
       "    <tr>\n",
       "      <th>25%</th>\n",
       "      <td>1.000000</td>\n",
       "      <td>99.000000</td>\n",
       "      <td>62.000000</td>\n",
       "      <td>0.000000</td>\n",
       "      <td>0.000000</td>\n",
       "      <td>27.300000</td>\n",
       "      <td>0.243750</td>\n",
       "      <td>24.000000</td>\n",
       "      <td>0.000000</td>\n",
       "    </tr>\n",
       "    <tr>\n",
       "      <th>50%</th>\n",
       "      <td>3.000000</td>\n",
       "      <td>117.000000</td>\n",
       "      <td>72.000000</td>\n",
       "      <td>23.000000</td>\n",
       "      <td>30.500000</td>\n",
       "      <td>32.000000</td>\n",
       "      <td>0.372500</td>\n",
       "      <td>29.000000</td>\n",
       "      <td>0.000000</td>\n",
       "    </tr>\n",
       "    <tr>\n",
       "      <th>75%</th>\n",
       "      <td>6.000000</td>\n",
       "      <td>140.250000</td>\n",
       "      <td>80.000000</td>\n",
       "      <td>32.000000</td>\n",
       "      <td>127.250000</td>\n",
       "      <td>36.600000</td>\n",
       "      <td>0.626250</td>\n",
       "      <td>41.000000</td>\n",
       "      <td>1.000000</td>\n",
       "    </tr>\n",
       "    <tr>\n",
       "      <th>max</th>\n",
       "      <td>17.000000</td>\n",
       "      <td>199.000000</td>\n",
       "      <td>122.000000</td>\n",
       "      <td>99.000000</td>\n",
       "      <td>846.000000</td>\n",
       "      <td>67.100000</td>\n",
       "      <td>2.420000</td>\n",
       "      <td>81.000000</td>\n",
       "      <td>1.000000</td>\n",
       "    </tr>\n",
       "  </tbody>\n",
       "</table>\n",
       "</div>"
      ],
      "text/plain": [
       "       n_pregnant  glucose_concentration  blood_pressuer (mm Hg)  \\\n",
       "count  768.000000             768.000000              768.000000   \n",
       "mean     3.845052             120.894531               69.105469   \n",
       "std      3.369578              31.972618               19.355807   \n",
       "min      0.000000               0.000000                0.000000   \n",
       "25%      1.000000              99.000000               62.000000   \n",
       "50%      3.000000             117.000000               72.000000   \n",
       "75%      6.000000             140.250000               80.000000   \n",
       "max     17.000000             199.000000              122.000000   \n",
       "\n",
       "       skin_thickness (mm)  serum_insulin (mu U/ml)         BMI  \\\n",
       "count           768.000000               768.000000  768.000000   \n",
       "mean             20.536458                79.799479   31.992578   \n",
       "std              15.952218               115.244002    7.884160   \n",
       "min               0.000000                 0.000000    0.000000   \n",
       "25%               0.000000                 0.000000   27.300000   \n",
       "50%              23.000000                30.500000   32.000000   \n",
       "75%              32.000000               127.250000   36.600000   \n",
       "max              99.000000               846.000000   67.100000   \n",
       "\n",
       "       pedigree_function         age       class  \n",
       "count         768.000000  768.000000  768.000000  \n",
       "mean            0.471876   33.240885    0.348958  \n",
       "std             0.331329   11.760232    0.476951  \n",
       "min             0.078000   21.000000    0.000000  \n",
       "25%             0.243750   24.000000    0.000000  \n",
       "50%             0.372500   29.000000    0.000000  \n",
       "75%             0.626250   41.000000    1.000000  \n",
       "max             2.420000   81.000000    1.000000  "
      ]
     },
     "execution_count": 101,
     "metadata": {},
     "output_type": "execute_result"
    }
   ],
   "source": [
    "df.describe()"
   ]
  },
  {
   "cell_type": "code",
   "execution_count": 102,
   "metadata": {},
   "outputs": [
    {
     "data": {
      "text/html": [
       "<div>\n",
       "<style scoped>\n",
       "    .dataframe tbody tr th:only-of-type {\n",
       "        vertical-align: middle;\n",
       "    }\n",
       "\n",
       "    .dataframe tbody tr th {\n",
       "        vertical-align: top;\n",
       "    }\n",
       "\n",
       "    .dataframe thead th {\n",
       "        text-align: right;\n",
       "    }\n",
       "</style>\n",
       "<table border=\"1\" class=\"dataframe\">\n",
       "  <thead>\n",
       "    <tr style=\"text-align: right;\">\n",
       "      <th></th>\n",
       "      <th>n_pregnant</th>\n",
       "      <th>glucose_concentration</th>\n",
       "      <th>blood_pressuer (mm Hg)</th>\n",
       "      <th>skin_thickness (mm)</th>\n",
       "      <th>serum_insulin (mu U/ml)</th>\n",
       "      <th>BMI</th>\n",
       "      <th>pedigree_function</th>\n",
       "      <th>age</th>\n",
       "      <th>class</th>\n",
       "    </tr>\n",
       "  </thead>\n",
       "  <tbody>\n",
       "    <tr>\n",
       "      <th>75</th>\n",
       "      <td>1</td>\n",
       "      <td>0</td>\n",
       "      <td>48</td>\n",
       "      <td>20</td>\n",
       "      <td>0</td>\n",
       "      <td>24.7</td>\n",
       "      <td>0.140</td>\n",
       "      <td>22</td>\n",
       "      <td>0</td>\n",
       "    </tr>\n",
       "    <tr>\n",
       "      <th>182</th>\n",
       "      <td>1</td>\n",
       "      <td>0</td>\n",
       "      <td>74</td>\n",
       "      <td>20</td>\n",
       "      <td>23</td>\n",
       "      <td>27.7</td>\n",
       "      <td>0.299</td>\n",
       "      <td>21</td>\n",
       "      <td>0</td>\n",
       "    </tr>\n",
       "    <tr>\n",
       "      <th>342</th>\n",
       "      <td>1</td>\n",
       "      <td>0</td>\n",
       "      <td>68</td>\n",
       "      <td>35</td>\n",
       "      <td>0</td>\n",
       "      <td>32.0</td>\n",
       "      <td>0.389</td>\n",
       "      <td>22</td>\n",
       "      <td>0</td>\n",
       "    </tr>\n",
       "    <tr>\n",
       "      <th>349</th>\n",
       "      <td>5</td>\n",
       "      <td>0</td>\n",
       "      <td>80</td>\n",
       "      <td>32</td>\n",
       "      <td>0</td>\n",
       "      <td>41.0</td>\n",
       "      <td>0.346</td>\n",
       "      <td>37</td>\n",
       "      <td>1</td>\n",
       "    </tr>\n",
       "    <tr>\n",
       "      <th>502</th>\n",
       "      <td>6</td>\n",
       "      <td>0</td>\n",
       "      <td>68</td>\n",
       "      <td>41</td>\n",
       "      <td>0</td>\n",
       "      <td>39.0</td>\n",
       "      <td>0.727</td>\n",
       "      <td>41</td>\n",
       "      <td>1</td>\n",
       "    </tr>\n",
       "  </tbody>\n",
       "</table>\n",
       "</div>"
      ],
      "text/plain": [
       "     n_pregnant  glucose_concentration  blood_pressuer (mm Hg)  \\\n",
       "75            1                      0                      48   \n",
       "182           1                      0                      74   \n",
       "342           1                      0                      68   \n",
       "349           5                      0                      80   \n",
       "502           6                      0                      68   \n",
       "\n",
       "     skin_thickness (mm)  serum_insulin (mu U/ml)   BMI  pedigree_function  \\\n",
       "75                    20                        0  24.7              0.140   \n",
       "182                   20                       23  27.7              0.299   \n",
       "342                   35                        0  32.0              0.389   \n",
       "349                   32                        0  41.0              0.346   \n",
       "502                   41                        0  39.0              0.727   \n",
       "\n",
       "     age  class  \n",
       "75    22      0  \n",
       "182   21      0  \n",
       "342   22      0  \n",
       "349   37      1  \n",
       "502   41      1  "
      ]
     },
     "execution_count": 102,
     "metadata": {},
     "output_type": "execute_result"
    }
   ],
   "source": [
    "df[df['glucose_concentration']==0]"
   ]
  },
  {
   "cell_type": "code",
   "execution_count": 103,
   "metadata": {},
   "outputs": [],
   "source": [
    "columns = ['glucose_concentration', 'blood_pressuer (mm Hg)', 'skin_thickness (mm)', 'serum_insulin (mu U/ml)', 'BMI']\n",
    "for col in columns:\n",
    "    df[col].replace(0,np.NaN,inplace=True)\n"
   ]
  },
  {
   "cell_type": "code",
   "execution_count": 104,
   "metadata": {},
   "outputs": [
    {
     "data": {
      "text/html": [
       "<div>\n",
       "<style scoped>\n",
       "    .dataframe tbody tr th:only-of-type {\n",
       "        vertical-align: middle;\n",
       "    }\n",
       "\n",
       "    .dataframe tbody tr th {\n",
       "        vertical-align: top;\n",
       "    }\n",
       "\n",
       "    .dataframe thead th {\n",
       "        text-align: right;\n",
       "    }\n",
       "</style>\n",
       "<table border=\"1\" class=\"dataframe\">\n",
       "  <thead>\n",
       "    <tr style=\"text-align: right;\">\n",
       "      <th></th>\n",
       "      <th>n_pregnant</th>\n",
       "      <th>glucose_concentration</th>\n",
       "      <th>blood_pressuer (mm Hg)</th>\n",
       "      <th>skin_thickness (mm)</th>\n",
       "      <th>serum_insulin (mu U/ml)</th>\n",
       "      <th>BMI</th>\n",
       "      <th>pedigree_function</th>\n",
       "      <th>age</th>\n",
       "      <th>class</th>\n",
       "    </tr>\n",
       "  </thead>\n",
       "  <tbody>\n",
       "    <tr>\n",
       "      <th>count</th>\n",
       "      <td>392.000000</td>\n",
       "      <td>392.000000</td>\n",
       "      <td>392.000000</td>\n",
       "      <td>392.000000</td>\n",
       "      <td>392.000000</td>\n",
       "      <td>392.000000</td>\n",
       "      <td>392.000000</td>\n",
       "      <td>392.000000</td>\n",
       "      <td>392.000000</td>\n",
       "    </tr>\n",
       "    <tr>\n",
       "      <th>mean</th>\n",
       "      <td>3.301020</td>\n",
       "      <td>122.627551</td>\n",
       "      <td>70.663265</td>\n",
       "      <td>29.145408</td>\n",
       "      <td>156.056122</td>\n",
       "      <td>33.086224</td>\n",
       "      <td>0.523046</td>\n",
       "      <td>30.864796</td>\n",
       "      <td>0.331633</td>\n",
       "    </tr>\n",
       "    <tr>\n",
       "      <th>std</th>\n",
       "      <td>3.211424</td>\n",
       "      <td>30.860781</td>\n",
       "      <td>12.496092</td>\n",
       "      <td>10.516424</td>\n",
       "      <td>118.841690</td>\n",
       "      <td>7.027659</td>\n",
       "      <td>0.345488</td>\n",
       "      <td>10.200777</td>\n",
       "      <td>0.471401</td>\n",
       "    </tr>\n",
       "    <tr>\n",
       "      <th>min</th>\n",
       "      <td>0.000000</td>\n",
       "      <td>56.000000</td>\n",
       "      <td>24.000000</td>\n",
       "      <td>7.000000</td>\n",
       "      <td>14.000000</td>\n",
       "      <td>18.200000</td>\n",
       "      <td>0.085000</td>\n",
       "      <td>21.000000</td>\n",
       "      <td>0.000000</td>\n",
       "    </tr>\n",
       "    <tr>\n",
       "      <th>25%</th>\n",
       "      <td>1.000000</td>\n",
       "      <td>99.000000</td>\n",
       "      <td>62.000000</td>\n",
       "      <td>21.000000</td>\n",
       "      <td>76.750000</td>\n",
       "      <td>28.400000</td>\n",
       "      <td>0.269750</td>\n",
       "      <td>23.000000</td>\n",
       "      <td>0.000000</td>\n",
       "    </tr>\n",
       "    <tr>\n",
       "      <th>50%</th>\n",
       "      <td>2.000000</td>\n",
       "      <td>119.000000</td>\n",
       "      <td>70.000000</td>\n",
       "      <td>29.000000</td>\n",
       "      <td>125.500000</td>\n",
       "      <td>33.200000</td>\n",
       "      <td>0.449500</td>\n",
       "      <td>27.000000</td>\n",
       "      <td>0.000000</td>\n",
       "    </tr>\n",
       "    <tr>\n",
       "      <th>75%</th>\n",
       "      <td>5.000000</td>\n",
       "      <td>143.000000</td>\n",
       "      <td>78.000000</td>\n",
       "      <td>37.000000</td>\n",
       "      <td>190.000000</td>\n",
       "      <td>37.100000</td>\n",
       "      <td>0.687000</td>\n",
       "      <td>36.000000</td>\n",
       "      <td>1.000000</td>\n",
       "    </tr>\n",
       "    <tr>\n",
       "      <th>max</th>\n",
       "      <td>17.000000</td>\n",
       "      <td>198.000000</td>\n",
       "      <td>110.000000</td>\n",
       "      <td>63.000000</td>\n",
       "      <td>846.000000</td>\n",
       "      <td>67.100000</td>\n",
       "      <td>2.420000</td>\n",
       "      <td>81.000000</td>\n",
       "      <td>1.000000</td>\n",
       "    </tr>\n",
       "  </tbody>\n",
       "</table>\n",
       "</div>"
      ],
      "text/plain": [
       "       n_pregnant  glucose_concentration  blood_pressuer (mm Hg)  \\\n",
       "count  392.000000             392.000000              392.000000   \n",
       "mean     3.301020             122.627551               70.663265   \n",
       "std      3.211424              30.860781               12.496092   \n",
       "min      0.000000              56.000000               24.000000   \n",
       "25%      1.000000              99.000000               62.000000   \n",
       "50%      2.000000             119.000000               70.000000   \n",
       "75%      5.000000             143.000000               78.000000   \n",
       "max     17.000000             198.000000              110.000000   \n",
       "\n",
       "       skin_thickness (mm)  serum_insulin (mu U/ml)         BMI  \\\n",
       "count           392.000000               392.000000  392.000000   \n",
       "mean             29.145408               156.056122   33.086224   \n",
       "std              10.516424               118.841690    7.027659   \n",
       "min               7.000000                14.000000   18.200000   \n",
       "25%              21.000000                76.750000   28.400000   \n",
       "50%              29.000000               125.500000   33.200000   \n",
       "75%              37.000000               190.000000   37.100000   \n",
       "max              63.000000               846.000000   67.100000   \n",
       "\n",
       "       pedigree_function         age       class  \n",
       "count         392.000000  392.000000  392.000000  \n",
       "mean            0.523046   30.864796    0.331633  \n",
       "std             0.345488   10.200777    0.471401  \n",
       "min             0.085000   21.000000    0.000000  \n",
       "25%             0.269750   23.000000    0.000000  \n",
       "50%             0.449500   27.000000    0.000000  \n",
       "75%             0.687000   36.000000    1.000000  \n",
       "max             2.420000   81.000000    1.000000  "
      ]
     },
     "execution_count": 104,
     "metadata": {},
     "output_type": "execute_result"
    }
   ],
   "source": [
    "# Drop the rows with missing values\n",
    "df.dropna(inplace=True)\n",
    "\n",
    "# summarize the number of rows and columns in df\n",
    "df.describe()"
   ]
  },
  {
   "cell_type": "code",
   "execution_count": 105,
   "metadata": {},
   "outputs": [
    {
     "name": "stdout",
     "output_type": "stream",
     "text": [
      "(392, 9)\n"
     ]
    }
   ],
   "source": [
    "dataset = df.values\n",
    "print(dataset.shape)"
   ]
  },
  {
   "cell_type": "code",
   "execution_count": 106,
   "metadata": {},
   "outputs": [],
   "source": [
    "col = ['n_pregnant', 'glucose_concentration', 'blood_pressuer (mm Hg)', 'skin_thickness (mm)', 'serum_insulin (mu U/ml)', \n",
    "       'BMI', 'pedigree_function', 'age']\n",
    "target='class'\n",
    "X=df[col]\n",
    "Y=df[target].astype(int)"
   ]
  },
  {
   "cell_type": "code",
   "execution_count": 107,
   "metadata": {},
   "outputs": [
    {
     "name": "stdout",
     "output_type": "stream",
     "text": [
      "(392, 8)\n",
      "(392,)\n"
     ]
    }
   ],
   "source": [
    "print(X.shape)\n",
    "print(Y.shape)\n",
    "#print(X)"
   ]
  },
  {
   "cell_type": "code",
   "execution_count": 108,
   "metadata": {},
   "outputs": [
    {
     "name": "stdout",
     "output_type": "stream",
     "text": [
      "StandardScaler(copy=True, with_mean=True, with_std=True)\n"
     ]
    }
   ],
   "source": [
    "# Normalize the data using sklearn StandardScaler\n",
    "from sklearn.preprocessing import StandardScaler\n",
    "\n",
    "scaler=StandardScaler().fit(X)\n",
    "print(scaler)"
   ]
  },
  {
   "cell_type": "code",
   "execution_count": 109,
   "metadata": {},
   "outputs": [
    {
     "data": {
      "text/html": [
       "<div>\n",
       "<style scoped>\n",
       "    .dataframe tbody tr th:only-of-type {\n",
       "        vertical-align: middle;\n",
       "    }\n",
       "\n",
       "    .dataframe tbody tr th {\n",
       "        vertical-align: top;\n",
       "    }\n",
       "\n",
       "    .dataframe thead th {\n",
       "        text-align: right;\n",
       "    }\n",
       "</style>\n",
       "<table border=\"1\" class=\"dataframe\">\n",
       "  <thead>\n",
       "    <tr style=\"text-align: right;\">\n",
       "      <th></th>\n",
       "      <th>0</th>\n",
       "      <th>1</th>\n",
       "      <th>2</th>\n",
       "      <th>3</th>\n",
       "      <th>4</th>\n",
       "      <th>5</th>\n",
       "      <th>6</th>\n",
       "      <th>7</th>\n",
       "    </tr>\n",
       "  </thead>\n",
       "  <tbody>\n",
       "    <tr>\n",
       "      <th>count</th>\n",
       "      <td>3.920000e+02</td>\n",
       "      <td>3.920000e+02</td>\n",
       "      <td>3.920000e+02</td>\n",
       "      <td>3.920000e+02</td>\n",
       "      <td>3.920000e+02</td>\n",
       "      <td>3.920000e+02</td>\n",
       "      <td>3.920000e+02</td>\n",
       "      <td>3.920000e+02</td>\n",
       "    </tr>\n",
       "    <tr>\n",
       "      <th>mean</th>\n",
       "      <td>-4.021726e-17</td>\n",
       "      <td>3.129583e-17</td>\n",
       "      <td>-4.641624e-16</td>\n",
       "      <td>1.042250e-16</td>\n",
       "      <td>6.485742e-17</td>\n",
       "      <td>1.543550e-16</td>\n",
       "      <td>3.880116e-17</td>\n",
       "      <td>1.028089e-16</td>\n",
       "    </tr>\n",
       "    <tr>\n",
       "      <th>std</th>\n",
       "      <td>1.001278e+00</td>\n",
       "      <td>1.001278e+00</td>\n",
       "      <td>1.001278e+00</td>\n",
       "      <td>1.001278e+00</td>\n",
       "      <td>1.001278e+00</td>\n",
       "      <td>1.001278e+00</td>\n",
       "      <td>1.001278e+00</td>\n",
       "      <td>1.001278e+00</td>\n",
       "    </tr>\n",
       "    <tr>\n",
       "      <th>min</th>\n",
       "      <td>-1.029213e+00</td>\n",
       "      <td>-2.161731e+00</td>\n",
       "      <td>-3.739001e+00</td>\n",
       "      <td>-2.108484e+00</td>\n",
       "      <td>-1.196867e+00</td>\n",
       "      <td>-2.120941e+00</td>\n",
       "      <td>-1.269525e+00</td>\n",
       "      <td>-9.682991e-01</td>\n",
       "    </tr>\n",
       "    <tr>\n",
       "      <th>25%</th>\n",
       "      <td>-7.174265e-01</td>\n",
       "      <td>-7.665958e-01</td>\n",
       "      <td>-6.941640e-01</td>\n",
       "      <td>-7.755315e-01</td>\n",
       "      <td>-6.681786e-01</td>\n",
       "      <td>-6.676780e-01</td>\n",
       "      <td>-7.340909e-01</td>\n",
       "      <td>-7.719850e-01</td>\n",
       "    </tr>\n",
       "    <tr>\n",
       "      <th>50%</th>\n",
       "      <td>-4.056403e-01</td>\n",
       "      <td>-1.176959e-01</td>\n",
       "      <td>-5.314565e-02</td>\n",
       "      <td>-1.384444e-02</td>\n",
       "      <td>-2.574448e-01</td>\n",
       "      <td>1.621036e-02</td>\n",
       "      <td>-2.131475e-01</td>\n",
       "      <td>-3.793569e-01</td>\n",
       "    </tr>\n",
       "    <tr>\n",
       "      <th>75%</th>\n",
       "      <td>5.297185e-01</td>\n",
       "      <td>6.609841e-01</td>\n",
       "      <td>5.878727e-01</td>\n",
       "      <td>7.478426e-01</td>\n",
       "      <td>2.859877e-01</td>\n",
       "      <td>5.718696e-01</td>\n",
       "      <td>4.751644e-01</td>\n",
       "      <td>5.040564e-01</td>\n",
       "    </tr>\n",
       "    <tr>\n",
       "      <th>max</th>\n",
       "      <td>4.271153e+00</td>\n",
       "      <td>2.445459e+00</td>\n",
       "      <td>3.151946e+00</td>\n",
       "      <td>3.223325e+00</td>\n",
       "      <td>5.812990e+00</td>\n",
       "      <td>4.846172e+00</td>\n",
       "      <td>5.497667e+00</td>\n",
       "      <td>4.921123e+00</td>\n",
       "    </tr>\n",
       "  </tbody>\n",
       "</table>\n",
       "</div>"
      ],
      "text/plain": [
       "                  0             1             2             3             4  \\\n",
       "count  3.920000e+02  3.920000e+02  3.920000e+02  3.920000e+02  3.920000e+02   \n",
       "mean  -4.021726e-17  3.129583e-17 -4.641624e-16  1.042250e-16  6.485742e-17   \n",
       "std    1.001278e+00  1.001278e+00  1.001278e+00  1.001278e+00  1.001278e+00   \n",
       "min   -1.029213e+00 -2.161731e+00 -3.739001e+00 -2.108484e+00 -1.196867e+00   \n",
       "25%   -7.174265e-01 -7.665958e-01 -6.941640e-01 -7.755315e-01 -6.681786e-01   \n",
       "50%   -4.056403e-01 -1.176959e-01 -5.314565e-02 -1.384444e-02 -2.574448e-01   \n",
       "75%    5.297185e-01  6.609841e-01  5.878727e-01  7.478426e-01  2.859877e-01   \n",
       "max    4.271153e+00  2.445459e+00  3.151946e+00  3.223325e+00  5.812990e+00   \n",
       "\n",
       "                  5             6             7  \n",
       "count  3.920000e+02  3.920000e+02  3.920000e+02  \n",
       "mean   1.543550e-16  3.880116e-17  1.028089e-16  \n",
       "std    1.001278e+00  1.001278e+00  1.001278e+00  \n",
       "min   -2.120941e+00 -1.269525e+00 -9.682991e-01  \n",
       "25%   -6.676780e-01 -7.340909e-01 -7.719850e-01  \n",
       "50%    1.621036e-02 -2.131475e-01 -3.793569e-01  \n",
       "75%    5.718696e-01  4.751644e-01  5.040564e-01  \n",
       "max    4.846172e+00  5.497667e+00  4.921123e+00  "
      ]
     },
     "execution_count": 109,
     "metadata": {},
     "output_type": "execute_result"
    }
   ],
   "source": [
    "# Transform and display the training data\n",
    "X_standardized = scaler.transform(X)\n",
    "data = pd.DataFrame(X_standardized)\n",
    "data.describe()"
   ]
  },
  {
   "cell_type": "code",
   "execution_count": 110,
   "metadata": {},
   "outputs": [],
   "source": [
    "#import necessary packages\n",
    "from sklearn.model_selection import GridSearchCV, KFold\n",
    "from keras.models import Sequential\n",
    "from keras.layers import Dense\n",
    "from keras.wrappers.scikit_learn import KerasClassifier\n",
    "from keras.optimizers import Adam"
   ]
  },
  {
   "cell_type": "code",
   "execution_count": 119,
   "metadata": {},
   "outputs": [],
   "source": [
    "#Start defining the model\n",
    "def create_model():\n",
    "    model=Sequential()\n",
    "    model.add(Dense(8,input_dim=8,kernel_initializer='normal',activation='relu'))\n",
    "    model.add(Dense(4,input_dim=8,kernel_initializer='normal',activation='relu'))\n",
    "    model.add(Dense(1,activation='sigmoid'))\n",
    "    \n",
    "    adam = Adam(lr = 0.01)\n",
    "    model.compile(loss = 'binary_crossentropy', optimizer = adam, metrics = ['accuracy'])\n",
    "    return model"
   ]
  },
  {
   "cell_type": "code",
   "execution_count": 120,
   "metadata": {},
   "outputs": [
    {
     "name": "stdout",
     "output_type": "stream",
     "text": [
      "Model: \"sequential_328\"\n",
      "_________________________________________________________________\n",
      "Layer (type)                 Output Shape              Param #   \n",
      "=================================================================\n",
      "dense_982 (Dense)            (None, 8)                 72        \n",
      "_________________________________________________________________\n",
      "dense_983 (Dense)            (None, 4)                 36        \n",
      "_________________________________________________________________\n",
      "dense_984 (Dense)            (None, 1)                 5         \n",
      "=================================================================\n",
      "Total params: 113\n",
      "Trainable params: 113\n",
      "Non-trainable params: 0\n",
      "_________________________________________________________________\n",
      "None\n"
     ]
    }
   ],
   "source": [
    "model = create_model()\n",
    "print(model.summary())"
   ]
  },
  {
   "cell_type": "code",
   "execution_count": 123,
   "metadata": {
    "scrolled": true
   },
   "outputs": [
    {
     "name": "stdout",
     "output_type": "stream",
     "text": [
      "Fitting 5 folds for each of 72 candidates, totalling 360 fits\n",
      "[CV] batch_size=5, epochs=10 .........................................\n"
     ]
    },
    {
     "name": "stderr",
     "output_type": "stream",
     "text": [
      "[Parallel(n_jobs=1)]: Using backend SequentialBackend with 1 concurrent workers.\n"
     ]
    },
    {
     "name": "stdout",
     "output_type": "stream",
     "text": [
      "[CV] ............. batch_size=5, epochs=10, score=0.722, total=   1.1s\n",
      "[CV] batch_size=5, epochs=10 .........................................\n"
     ]
    },
    {
     "name": "stderr",
     "output_type": "stream",
     "text": [
      "[Parallel(n_jobs=1)]: Done   1 out of   1 | elapsed:    1.0s remaining:    0.0s\n"
     ]
    },
    {
     "name": "stdout",
     "output_type": "stream",
     "text": [
      "[CV] ............. batch_size=5, epochs=10, score=0.582, total=   1.1s\n",
      "[CV] batch_size=5, epochs=10 .........................................\n"
     ]
    },
    {
     "name": "stderr",
     "output_type": "stream",
     "text": [
      "[Parallel(n_jobs=1)]: Done   2 out of   2 | elapsed:    2.0s remaining:    0.0s\n"
     ]
    },
    {
     "name": "stdout",
     "output_type": "stream",
     "text": [
      "[CV] ............. batch_size=5, epochs=10, score=0.821, total=   1.0s\n",
      "[CV] batch_size=5, epochs=10 .........................................\n"
     ]
    },
    {
     "name": "stderr",
     "output_type": "stream",
     "text": [
      "[Parallel(n_jobs=1)]: Done   3 out of   3 | elapsed:    3.1s remaining:    0.0s\n"
     ]
    },
    {
     "name": "stdout",
     "output_type": "stream",
     "text": [
      "[CV] ............. batch_size=5, epochs=10, score=0.821, total=   1.0s\n",
      "[CV] batch_size=5, epochs=10 .........................................\n"
     ]
    },
    {
     "name": "stderr",
     "output_type": "stream",
     "text": [
      "[Parallel(n_jobs=1)]: Done   4 out of   4 | elapsed:    4.1s remaining:    0.0s\n"
     ]
    },
    {
     "name": "stdout",
     "output_type": "stream",
     "text": [
      "[CV] ............. batch_size=5, epochs=10, score=0.821, total=   1.1s\n",
      "[CV] batch_size=5, epochs=20 .........................................\n"
     ]
    },
    {
     "name": "stderr",
     "output_type": "stream",
     "text": [
      "[Parallel(n_jobs=1)]: Done   5 out of   5 | elapsed:    5.2s remaining:    0.0s\n"
     ]
    },
    {
     "name": "stdout",
     "output_type": "stream",
     "text": [
      "[CV] ............. batch_size=5, epochs=20, score=0.785, total=   1.4s\n",
      "[CV] batch_size=5, epochs=20 .........................................\n"
     ]
    },
    {
     "name": "stderr",
     "output_type": "stream",
     "text": [
      "[Parallel(n_jobs=1)]: Done   6 out of   6 | elapsed:    6.6s remaining:    0.0s\n"
     ]
    },
    {
     "name": "stdout",
     "output_type": "stream",
     "text": [
      "[CV] ............. batch_size=5, epochs=20, score=0.582, total=   1.5s\n",
      "[CV] batch_size=5, epochs=20 .........................................\n"
     ]
    },
    {
     "name": "stderr",
     "output_type": "stream",
     "text": [
      "[Parallel(n_jobs=1)]: Done   7 out of   7 | elapsed:    8.1s remaining:    0.0s\n"
     ]
    },
    {
     "name": "stdout",
     "output_type": "stream",
     "text": [
      "[CV] ............. batch_size=5, epochs=20, score=0.821, total=   2.0s\n",
      "[CV] batch_size=5, epochs=20 .........................................\n"
     ]
    },
    {
     "name": "stderr",
     "output_type": "stream",
     "text": [
      "[Parallel(n_jobs=1)]: Done   8 out of   8 | elapsed:   10.0s remaining:    0.0s\n"
     ]
    },
    {
     "name": "stdout",
     "output_type": "stream",
     "text": [
      "[CV] ............. batch_size=5, epochs=20, score=0.872, total=   1.6s\n",
      "[CV] batch_size=5, epochs=20 .........................................\n"
     ]
    },
    {
     "name": "stderr",
     "output_type": "stream",
     "text": [
      "[Parallel(n_jobs=1)]: Done   9 out of   9 | elapsed:   11.7s remaining:    0.0s\n"
     ]
    },
    {
     "name": "stdout",
     "output_type": "stream",
     "text": [
      "[CV] ............. batch_size=5, epochs=20, score=0.821, total=   1.5s\n",
      "[CV] batch_size=5, epochs=30 .........................................\n",
      "[CV] ............. batch_size=5, epochs=30, score=0.722, total=   2.0s\n",
      "[CV] batch_size=5, epochs=30 .........................................\n",
      "[CV] ............. batch_size=5, epochs=30, score=0.658, total=   2.0s\n",
      "[CV] batch_size=5, epochs=30 .........................................\n",
      "[CV] ............. batch_size=5, epochs=30, score=0.782, total=   1.9s\n",
      "[CV] batch_size=5, epochs=30 .........................................\n",
      "[CV] ............. batch_size=5, epochs=30, score=0.859, total=   1.8s\n",
      "[CV] batch_size=5, epochs=30 .........................................\n",
      "[CV] ............. batch_size=5, epochs=30, score=0.679, total=   1.9s\n",
      "[CV] batch_size=5, epochs=40 .........................................\n",
      "[CV] ............. batch_size=5, epochs=40, score=0.734, total=   2.2s\n",
      "[CV] batch_size=5, epochs=40 .........................................\n",
      "[CV] ............. batch_size=5, epochs=40, score=0.608, total=   2.3s\n",
      "[CV] batch_size=5, epochs=40 .........................................\n",
      "[CV] ............. batch_size=5, epochs=40, score=0.808, total=   2.4s\n",
      "[CV] batch_size=5, epochs=40 .........................................\n",
      "[CV] ............. batch_size=5, epochs=40, score=0.833, total=   2.3s\n",
      "[CV] batch_size=5, epochs=40 .........................................\n",
      "[CV] ............. batch_size=5, epochs=40, score=0.808, total=   2.8s\n",
      "[CV] batch_size=5, epochs=50 .........................................\n",
      "[CV] ............. batch_size=5, epochs=50, score=0.759, total=   2.7s\n",
      "[CV] batch_size=5, epochs=50 .........................................\n",
      "[CV] ............. batch_size=5, epochs=50, score=0.646, total=   2.9s\n",
      "[CV] batch_size=5, epochs=50 .........................................\n",
      "[CV] ............. batch_size=5, epochs=50, score=0.705, total=   2.7s\n",
      "[CV] batch_size=5, epochs=50 .........................................\n",
      "[CV] ............. batch_size=5, epochs=50, score=0.833, total=   2.6s\n",
      "[CV] batch_size=5, epochs=50 .........................................\n",
      "[CV] ............. batch_size=5, epochs=50, score=0.846, total=   2.7s\n",
      "[CV] batch_size=5, epochs=60 .........................................\n",
      "[CV] ............. batch_size=5, epochs=60, score=0.772, total=   3.2s\n",
      "[CV] batch_size=5, epochs=60 .........................................\n",
      "[CV] ............. batch_size=5, epochs=60, score=0.684, total=   3.2s\n",
      "[CV] batch_size=5, epochs=60 .........................................\n",
      "[CV] ............. batch_size=5, epochs=60, score=0.782, total=   3.1s\n",
      "[CV] batch_size=5, epochs=60 .........................................\n",
      "[CV] ............. batch_size=5, epochs=60, score=0.808, total=   3.1s\n",
      "[CV] batch_size=5, epochs=60 .........................................\n",
      "[CV] ............. batch_size=5, epochs=60, score=0.808, total=   3.0s\n",
      "[CV] batch_size=5, epochs=70 .........................................\n",
      "[CV] ............. batch_size=5, epochs=70, score=0.810, total=   3.5s\n",
      "[CV] batch_size=5, epochs=70 .........................................\n",
      "[CV] ............. batch_size=5, epochs=70, score=0.570, total=   3.5s\n",
      "[CV] batch_size=5, epochs=70 .........................................\n",
      "[CV] ............. batch_size=5, epochs=70, score=0.769, total=   4.1s\n",
      "[CV] batch_size=5, epochs=70 .........................................\n",
      "[CV] ............. batch_size=5, epochs=70, score=0.782, total=   3.5s\n",
      "[CV] batch_size=5, epochs=70 .........................................\n",
      "[CV] ............. batch_size=5, epochs=70, score=0.808, total=   3.3s\n",
      "[CV] batch_size=5, epochs=80 .........................................\n",
      "[CV] ............. batch_size=5, epochs=80, score=0.734, total=   4.0s\n",
      "[CV] batch_size=5, epochs=80 .........................................\n",
      "[CV] ............. batch_size=5, epochs=80, score=0.671, total=   3.9s\n",
      "[CV] batch_size=5, epochs=80 .........................................\n",
      "[CV] ............. batch_size=5, epochs=80, score=0.744, total=   3.7s\n",
      "[CV] batch_size=5, epochs=80 .........................................\n",
      "[CV] ............. batch_size=5, epochs=80, score=0.859, total=   3.9s\n",
      "[CV] batch_size=5, epochs=80 .........................................\n",
      "[CV] ............. batch_size=5, epochs=80, score=0.782, total=   3.9s\n",
      "[CV] batch_size=5, epochs=90 .........................................\n",
      "[CV] ............. batch_size=5, epochs=90, score=0.759, total=   4.1s\n",
      "[CV] batch_size=5, epochs=90 .........................................\n",
      "[CV] ............. batch_size=5, epochs=90, score=0.608, total=   4.4s\n",
      "[CV] batch_size=5, epochs=90 .........................................\n",
      "[CV] ............. batch_size=5, epochs=90, score=0.821, total=   4.3s\n",
      "[CV] batch_size=5, epochs=90 .........................................\n",
      "[CV] ............. batch_size=5, epochs=90, score=0.744, total=   4.4s\n",
      "[CV] batch_size=5, epochs=90 .........................................\n",
      "[CV] ............. batch_size=5, epochs=90, score=0.833, total=   4.4s\n",
      "[CV] batch_size=10, epochs=10 ........................................\n",
      "[CV] ............ batch_size=10, epochs=10, score=0.810, total=   0.9s\n",
      "[CV] batch_size=10, epochs=10 ........................................\n",
      "[CV] ............ batch_size=10, epochs=10, score=0.608, total=   1.5s\n",
      "[CV] batch_size=10, epochs=10 ........................................\n",
      "[CV] ............ batch_size=10, epochs=10, score=0.821, total=   0.9s\n",
      "[CV] batch_size=10, epochs=10 ........................................\n",
      "[CV] ............ batch_size=10, epochs=10, score=0.821, total=   0.9s\n",
      "[CV] batch_size=10, epochs=10 ........................................\n",
      "[CV] ............ batch_size=10, epochs=10, score=0.833, total=   0.9s\n",
      "[CV] batch_size=10, epochs=20 ........................................\n",
      "[CV] ............ batch_size=10, epochs=20, score=0.722, total=   1.1s\n",
      "[CV] batch_size=10, epochs=20 ........................................\n",
      "[CV] ............ batch_size=10, epochs=20, score=0.620, total=   1.1s\n",
      "[CV] batch_size=10, epochs=20 ........................................\n",
      "[CV] ............ batch_size=10, epochs=20, score=0.795, total=   1.1s\n",
      "[CV] batch_size=10, epochs=20 ........................................\n",
      "[CV] ............ batch_size=10, epochs=20, score=0.808, total=   1.1s\n",
      "[CV] batch_size=10, epochs=20 ........................................\n",
      "[CV] ............ batch_size=10, epochs=20, score=0.833, total=   1.1s\n",
      "[CV] batch_size=10, epochs=30 ........................................\n",
      "[CV] ............ batch_size=10, epochs=30, score=0.747, total=   1.3s\n",
      "[CV] batch_size=10, epochs=30 ........................................\n",
      "[CV] ............ batch_size=10, epochs=30, score=0.709, total=   1.3s\n",
      "[CV] batch_size=10, epochs=30 ........................................\n",
      "[CV] ............ batch_size=10, epochs=30, score=0.821, total=   1.3s\n",
      "[CV] batch_size=10, epochs=30 ........................................\n",
      "[CV] ............ batch_size=10, epochs=30, score=0.808, total=   1.4s\n",
      "[CV] batch_size=10, epochs=30 ........................................\n",
      "[CV] ............ batch_size=10, epochs=30, score=0.808, total=   1.5s\n",
      "[CV] batch_size=10, epochs=40 ........................................\n",
      "[CV] ............ batch_size=10, epochs=40, score=0.747, total=   2.3s\n",
      "[CV] batch_size=10, epochs=40 ........................................\n",
      "[CV] ............ batch_size=10, epochs=40, score=0.620, total=   1.5s\n",
      "[CV] batch_size=10, epochs=40 ........................................\n",
      "[CV] ............ batch_size=10, epochs=40, score=0.795, total=   1.6s\n",
      "[CV] batch_size=10, epochs=40 ........................................\n",
      "[CV] ............ batch_size=10, epochs=40, score=0.821, total=   1.7s\n",
      "[CV] batch_size=10, epochs=40 ........................................\n",
      "[CV] ............ batch_size=10, epochs=40, score=0.821, total=   1.6s\n",
      "[CV] batch_size=10, epochs=50 ........................................\n",
      "[CV] ............ batch_size=10, epochs=50, score=0.734, total=   1.7s\n",
      "[CV] batch_size=10, epochs=50 ........................................\n",
      "[CV] ............ batch_size=10, epochs=50, score=0.696, total=   1.8s\n",
      "[CV] batch_size=10, epochs=50 ........................................\n"
     ]
    },
    {
     "name": "stdout",
     "output_type": "stream",
     "text": [
      "[CV] ............ batch_size=10, epochs=50, score=0.769, total=   1.7s\n",
      "[CV] batch_size=10, epochs=50 ........................................\n",
      "[CV] ............ batch_size=10, epochs=50, score=0.833, total=   1.9s\n",
      "[CV] batch_size=10, epochs=50 ........................................\n",
      "[CV] ............ batch_size=10, epochs=50, score=0.846, total=   1.9s\n",
      "[CV] batch_size=10, epochs=60 ........................................\n",
      "[CV] ............ batch_size=10, epochs=60, score=0.734, total=   2.3s\n",
      "[CV] batch_size=10, epochs=60 ........................................\n",
      "[CV] ............ batch_size=10, epochs=60, score=0.633, total=   2.2s\n",
      "[CV] batch_size=10, epochs=60 ........................................\n",
      "[CV] ............ batch_size=10, epochs=60, score=0.821, total=   2.0s\n",
      "[CV] batch_size=10, epochs=60 ........................................\n",
      "[CV] ............ batch_size=10, epochs=60, score=0.808, total=   2.8s\n",
      "[CV] batch_size=10, epochs=60 ........................................\n",
      "[CV] ............ batch_size=10, epochs=60, score=0.833, total=   2.2s\n",
      "[CV] batch_size=10, epochs=70 ........................................\n",
      "[CV] ............ batch_size=10, epochs=70, score=0.759, total=   2.4s\n",
      "[CV] batch_size=10, epochs=70 ........................................\n",
      "[CV] ............ batch_size=10, epochs=70, score=0.671, total=   2.3s\n",
      "[CV] batch_size=10, epochs=70 ........................................\n",
      "[CV] ............ batch_size=10, epochs=70, score=0.821, total=   2.4s\n",
      "[CV] batch_size=10, epochs=70 ........................................\n",
      "[CV] ............ batch_size=10, epochs=70, score=0.782, total=   2.3s\n",
      "[CV] batch_size=10, epochs=70 ........................................\n",
      "[CV] ............ batch_size=10, epochs=70, score=0.846, total=   2.4s\n",
      "[CV] batch_size=10, epochs=80 ........................................\n",
      "[CV] ............ batch_size=10, epochs=80, score=0.747, total=   2.5s\n",
      "[CV] batch_size=10, epochs=80 ........................................\n",
      "[CV] ............ batch_size=10, epochs=80, score=0.658, total=   2.4s\n",
      "[CV] batch_size=10, epochs=80 ........................................\n",
      "[CV] ............ batch_size=10, epochs=80, score=0.782, total=   2.4s\n",
      "[CV] batch_size=10, epochs=80 ........................................\n",
      "[CV] ............ batch_size=10, epochs=80, score=0.808, total=   2.5s\n",
      "[CV] batch_size=10, epochs=80 ........................................\n",
      "[CV] ............ batch_size=10, epochs=80, score=0.833, total=   2.5s\n",
      "[CV] batch_size=10, epochs=90 ........................................\n",
      "[CV] ............ batch_size=10, epochs=90, score=0.759, total=   2.6s\n",
      "[CV] batch_size=10, epochs=90 ........................................\n",
      "[CV] ............ batch_size=10, epochs=90, score=0.620, total=   2.6s\n",
      "[CV] batch_size=10, epochs=90 ........................................\n",
      "[CV] ............ batch_size=10, epochs=90, score=0.756, total=   3.3s\n",
      "[CV] batch_size=10, epochs=90 ........................................\n",
      "[CV] ............ batch_size=10, epochs=90, score=0.846, total=   2.7s\n",
      "[CV] batch_size=10, epochs=90 ........................................\n",
      "[CV] ............ batch_size=10, epochs=90, score=0.769, total=   2.6s\n",
      "[CV] batch_size=15, epochs=10 ........................................\n",
      "[CV] ............ batch_size=15, epochs=10, score=0.759, total=   0.9s\n",
      "[CV] batch_size=15, epochs=10 ........................................\n",
      "[CV] ............ batch_size=15, epochs=10, score=0.633, total=   0.9s\n",
      "[CV] batch_size=15, epochs=10 ........................................\n",
      "[CV] ............ batch_size=15, epochs=10, score=0.821, total=   0.9s\n",
      "[CV] batch_size=15, epochs=10 ........................................\n",
      "[CV] ............ batch_size=15, epochs=10, score=0.833, total=   1.0s\n",
      "[CV] batch_size=15, epochs=10 ........................................\n",
      "[CV] ............ batch_size=15, epochs=10, score=0.846, total=   0.9s\n",
      "[CV] batch_size=15, epochs=20 ........................................\n",
      "[CV] ............ batch_size=15, epochs=20, score=0.734, total=   1.0s\n",
      "[CV] batch_size=15, epochs=20 ........................................\n",
      "[CV] ............ batch_size=15, epochs=20, score=0.582, total=   1.0s\n",
      "[CV] batch_size=15, epochs=20 ........................................\n",
      "[CV] ............ batch_size=15, epochs=20, score=0.833, total=   1.1s\n",
      "[CV] batch_size=15, epochs=20 ........................................\n",
      "[CV] ............ batch_size=15, epochs=20, score=0.833, total=   1.0s\n",
      "[CV] batch_size=15, epochs=20 ........................................\n",
      "[CV] ............ batch_size=15, epochs=20, score=0.846, total=   1.1s\n",
      "[CV] batch_size=15, epochs=30 ........................................\n",
      "[CV] ............ batch_size=15, epochs=30, score=0.734, total=   1.1s\n",
      "[CV] batch_size=15, epochs=30 ........................................\n",
      "[CV] ............ batch_size=15, epochs=30, score=0.595, total=   1.7s\n",
      "[CV] batch_size=15, epochs=30 ........................................\n",
      "[CV] ............ batch_size=15, epochs=30, score=0.808, total=   1.1s\n",
      "[CV] batch_size=15, epochs=30 ........................................\n",
      "[CV] ............ batch_size=15, epochs=30, score=0.859, total=   1.2s\n",
      "[CV] batch_size=15, epochs=30 ........................................\n",
      "[CV] ............ batch_size=15, epochs=30, score=0.821, total=   1.2s\n",
      "[CV] batch_size=15, epochs=40 ........................................\n",
      "[CV] ............ batch_size=15, epochs=40, score=0.772, total=   1.3s\n",
      "[CV] batch_size=15, epochs=40 ........................................\n",
      "[CV] ............ batch_size=15, epochs=40, score=0.658, total=   1.3s\n",
      "[CV] batch_size=15, epochs=40 ........................................\n",
      "[CV] ............ batch_size=15, epochs=40, score=0.846, total=   1.3s\n",
      "[CV] batch_size=15, epochs=40 ........................................\n",
      "[CV] ............ batch_size=15, epochs=40, score=0.833, total=   1.3s\n",
      "[CV] batch_size=15, epochs=40 ........................................\n",
      "[CV] ............ batch_size=15, epochs=40, score=0.859, total=   1.3s\n",
      "[CV] batch_size=15, epochs=50 ........................................\n",
      "[CV] ............ batch_size=15, epochs=50, score=0.734, total=   1.4s\n",
      "[CV] batch_size=15, epochs=50 ........................................\n",
      "[CV] ............ batch_size=15, epochs=50, score=0.658, total=   1.5s\n",
      "[CV] batch_size=15, epochs=50 ........................................\n",
      "[CV] ............ batch_size=15, epochs=50, score=0.821, total=   1.4s\n",
      "[CV] batch_size=15, epochs=50 ........................................\n",
      "[CV] ............ batch_size=15, epochs=50, score=0.859, total=   1.4s\n",
      "[CV] batch_size=15, epochs=50 ........................................\n",
      "[CV] ............ batch_size=15, epochs=50, score=0.833, total=   1.4s\n",
      "[CV] batch_size=15, epochs=60 ........................................\n",
      "[CV] ............ batch_size=15, epochs=60, score=0.684, total=   1.5s\n",
      "[CV] batch_size=15, epochs=60 ........................................\n",
      "[CV] ............ batch_size=15, epochs=60, score=0.696, total=   2.2s\n",
      "[CV] batch_size=15, epochs=60 ........................................\n",
      "[CV] ............ batch_size=15, epochs=60, score=0.833, total=   1.6s\n",
      "[CV] batch_size=15, epochs=60 ........................................\n",
      "[CV] ............ batch_size=15, epochs=60, score=0.859, total=   1.5s\n",
      "[CV] batch_size=15, epochs=60 ........................................\n",
      "[CV] ............ batch_size=15, epochs=60, score=0.846, total=   1.6s\n",
      "[CV] batch_size=15, epochs=70 ........................................\n",
      "[CV] ............ batch_size=15, epochs=70, score=0.759, total=   1.8s\n",
      "[CV] batch_size=15, epochs=70 ........................................\n",
      "[CV] ............ batch_size=15, epochs=70, score=0.722, total=   1.7s\n",
      "[CV] batch_size=15, epochs=70 ........................................\n",
      "[CV] ............ batch_size=15, epochs=70, score=0.808, total=   1.9s\n",
      "[CV] batch_size=15, epochs=70 ........................................\n",
      "[CV] ............ batch_size=15, epochs=70, score=0.821, total=   1.7s\n",
      "[CV] batch_size=15, epochs=70 ........................................\n",
      "[CV] ............ batch_size=15, epochs=70, score=0.846, total=   1.7s\n",
      "[CV] batch_size=15, epochs=80 ........................................\n"
     ]
    },
    {
     "name": "stdout",
     "output_type": "stream",
     "text": [
      "[CV] ............ batch_size=15, epochs=80, score=0.747, total=   1.8s\n",
      "[CV] batch_size=15, epochs=80 ........................................\n",
      "[CV] ............ batch_size=15, epochs=80, score=0.658, total=   1.7s\n",
      "[CV] batch_size=15, epochs=80 ........................................\n",
      "[CV] ............ batch_size=15, epochs=80, score=0.744, total=   1.8s\n",
      "[CV] batch_size=15, epochs=80 ........................................\n",
      "[CV] ............ batch_size=15, epochs=80, score=0.821, total=   1.8s\n",
      "[CV] batch_size=15, epochs=80 ........................................\n",
      "[CV] ............ batch_size=15, epochs=80, score=0.821, total=   1.8s\n",
      "[CV] batch_size=15, epochs=90 ........................................\n",
      "[CV] ............ batch_size=15, epochs=90, score=0.772, total=   2.7s\n",
      "[CV] batch_size=15, epochs=90 ........................................\n",
      "[CV] ............ batch_size=15, epochs=90, score=0.671, total=   2.0s\n",
      "[CV] batch_size=15, epochs=90 ........................................\n",
      "[CV] ............ batch_size=15, epochs=90, score=0.833, total=   2.0s\n",
      "[CV] batch_size=15, epochs=90 ........................................\n",
      "[CV] ............ batch_size=15, epochs=90, score=0.795, total=   1.9s\n",
      "[CV] batch_size=15, epochs=90 ........................................\n",
      "[CV] ............ batch_size=15, epochs=90, score=0.795, total=   1.9s\n",
      "[CV] batch_size=20, epochs=10 ........................................\n",
      "[CV] ............ batch_size=20, epochs=10, score=0.747, total=   1.0s\n",
      "[CV] batch_size=20, epochs=10 ........................................\n",
      "[CV] ............ batch_size=20, epochs=10, score=0.595, total=   0.9s\n",
      "[CV] batch_size=20, epochs=10 ........................................\n",
      "[CV] ............ batch_size=20, epochs=10, score=0.808, total=   1.0s\n",
      "[CV] batch_size=20, epochs=10 ........................................\n",
      "[CV] ............ batch_size=20, epochs=10, score=0.859, total=   0.9s\n",
      "[CV] batch_size=20, epochs=10 ........................................\n",
      "[CV] ............ batch_size=20, epochs=10, score=0.846, total=   1.0s\n",
      "[CV] batch_size=20, epochs=20 ........................................\n",
      "[CV] ............ batch_size=20, epochs=20, score=0.734, total=   1.1s\n",
      "[CV] batch_size=20, epochs=20 ........................................\n",
      "[CV] ............ batch_size=20, epochs=20, score=0.620, total=   1.0s\n",
      "[CV] batch_size=20, epochs=20 ........................................\n",
      "[CV] ............ batch_size=20, epochs=20, score=0.821, total=   1.0s\n",
      "[CV] batch_size=20, epochs=20 ........................................\n",
      "[CV] ............ batch_size=20, epochs=20, score=0.833, total=   1.0s\n",
      "[CV] batch_size=20, epochs=20 ........................................\n",
      "[CV] ............ batch_size=20, epochs=20, score=0.833, total=   1.6s\n",
      "[CV] batch_size=20, epochs=30 ........................................\n",
      "[CV] ............ batch_size=20, epochs=30, score=0.734, total=   1.1s\n",
      "[CV] batch_size=20, epochs=30 ........................................\n",
      "[CV] ............ batch_size=20, epochs=30, score=0.608, total=   1.1s\n",
      "[CV] batch_size=20, epochs=30 ........................................\n",
      "[CV] ............ batch_size=20, epochs=30, score=0.833, total=   1.1s\n",
      "[CV] batch_size=20, epochs=30 ........................................\n",
      "[CV] ............ batch_size=20, epochs=30, score=0.846, total=   1.1s\n",
      "[CV] batch_size=20, epochs=30 ........................................\n",
      "[CV] ............ batch_size=20, epochs=30, score=0.833, total=   1.1s\n",
      "[CV] batch_size=20, epochs=40 ........................................\n",
      "[CV] ............ batch_size=20, epochs=40, score=0.646, total=   1.2s\n",
      "[CV] batch_size=20, epochs=40 ........................................\n",
      "[CV] ............ batch_size=20, epochs=40, score=0.658, total=   1.3s\n",
      "[CV] batch_size=20, epochs=40 ........................................\n",
      "[CV] ............ batch_size=20, epochs=40, score=0.821, total=   1.2s\n",
      "[CV] batch_size=20, epochs=40 ........................................\n",
      "[CV] ............ batch_size=20, epochs=40, score=0.808, total=   1.2s\n",
      "[CV] batch_size=20, epochs=40 ........................................\n",
      "[CV] ............ batch_size=20, epochs=40, score=0.846, total=   1.2s\n",
      "[CV] batch_size=20, epochs=50 ........................................\n",
      "[CV] ............ batch_size=20, epochs=50, score=0.747, total=   1.4s\n",
      "[CV] batch_size=20, epochs=50 ........................................\n",
      "[CV] ............ batch_size=20, epochs=50, score=0.658, total=   1.4s\n",
      "[CV] batch_size=20, epochs=50 ........................................\n",
      "[CV] ............ batch_size=20, epochs=50, score=0.821, total=   1.3s\n",
      "[CV] batch_size=20, epochs=50 ........................................\n",
      "[CV] ............ batch_size=20, epochs=50, score=0.872, total=   2.0s\n",
      "[CV] batch_size=20, epochs=50 ........................................\n",
      "[CV] ............ batch_size=20, epochs=50, score=0.821, total=   1.3s\n",
      "[CV] batch_size=20, epochs=60 ........................................\n",
      "[CV] ............ batch_size=20, epochs=60, score=0.747, total=   1.4s\n",
      "[CV] batch_size=20, epochs=60 ........................................\n",
      "[CV] ............ batch_size=20, epochs=60, score=0.620, total=   1.4s\n",
      "[CV] batch_size=20, epochs=60 ........................................\n",
      "[CV] ............ batch_size=20, epochs=60, score=0.846, total=   1.5s\n",
      "[CV] batch_size=20, epochs=60 ........................................\n",
      "[CV] ............ batch_size=20, epochs=60, score=0.859, total=   1.5s\n",
      "[CV] batch_size=20, epochs=60 ........................................\n",
      "[CV] ............ batch_size=20, epochs=60, score=0.782, total=   1.4s\n",
      "[CV] batch_size=20, epochs=70 ........................................\n",
      "[CV] ............ batch_size=20, epochs=70, score=0.759, total=   1.5s\n",
      "[CV] batch_size=20, epochs=70 ........................................\n",
      "[CV] ............ batch_size=20, epochs=70, score=0.709, total=   1.5s\n",
      "[CV] batch_size=20, epochs=70 ........................................\n",
      "[CV] ............ batch_size=20, epochs=70, score=0.782, total=   1.5s\n",
      "[CV] batch_size=20, epochs=70 ........................................\n",
      "[CV] ............ batch_size=20, epochs=70, score=0.833, total=   1.5s\n",
      "[CV] batch_size=20, epochs=70 ........................................\n",
      "[CV] ............ batch_size=20, epochs=70, score=0.821, total=   1.5s\n",
      "[CV] batch_size=20, epochs=80 ........................................\n",
      "[CV] ............ batch_size=20, epochs=80, score=0.759, total=   1.6s\n",
      "[CV] batch_size=20, epochs=80 ........................................\n",
      "[CV] ............ batch_size=20, epochs=80, score=0.646, total=   1.7s\n",
      "[CV] batch_size=20, epochs=80 ........................................\n",
      "[CV] ............ batch_size=20, epochs=80, score=0.846, total=   1.7s\n",
      "[CV] batch_size=20, epochs=80 ........................................\n",
      "[CV] ............ batch_size=20, epochs=80, score=0.846, total=   2.4s\n",
      "[CV] batch_size=20, epochs=80 ........................................\n",
      "[CV] ............ batch_size=20, epochs=80, score=0.769, total=   1.7s\n",
      "[CV] batch_size=20, epochs=90 ........................................\n",
      "[CV] ............ batch_size=20, epochs=90, score=0.772, total=   1.8s\n",
      "[CV] batch_size=20, epochs=90 ........................................\n",
      "[CV] ............ batch_size=20, epochs=90, score=0.684, total=   1.8s\n",
      "[CV] batch_size=20, epochs=90 ........................................\n",
      "[CV] ............ batch_size=20, epochs=90, score=0.821, total=   1.9s\n",
      "[CV] batch_size=20, epochs=90 ........................................\n",
      "[CV] ............ batch_size=20, epochs=90, score=0.833, total=   1.9s\n",
      "[CV] batch_size=20, epochs=90 ........................................\n",
      "[CV] ............ batch_size=20, epochs=90, score=0.808, total=   1.8s\n",
      "[CV] batch_size=25, epochs=10 ........................................\n",
      "[CV] ............ batch_size=25, epochs=10, score=0.772, total=   1.0s\n",
      "[CV] batch_size=25, epochs=10 ........................................\n",
      "[CV] ............ batch_size=25, epochs=10, score=0.646, total=   0.9s\n",
      "[CV] batch_size=25, epochs=10 ........................................\n",
      "[CV] ............ batch_size=25, epochs=10, score=0.808, total=   0.9s\n",
      "[CV] batch_size=25, epochs=10 ........................................\n"
     ]
    },
    {
     "name": "stdout",
     "output_type": "stream",
     "text": [
      "[CV] ............ batch_size=25, epochs=10, score=0.833, total=   0.9s\n",
      "[CV] batch_size=25, epochs=10 ........................................\n",
      "[CV] ............ batch_size=25, epochs=10, score=0.821, total=   0.9s\n",
      "[CV] batch_size=25, epochs=20 ........................................\n",
      "[CV] ............ batch_size=25, epochs=20, score=0.734, total=   1.0s\n",
      "[CV] batch_size=25, epochs=20 ........................................\n",
      "[CV] ............ batch_size=25, epochs=20, score=0.608, total=   1.0s\n",
      "[CV] batch_size=25, epochs=20 ........................................\n",
      "[CV] ............ batch_size=25, epochs=20, score=0.846, total=   1.0s\n",
      "[CV] batch_size=25, epochs=20 ........................................\n",
      "[CV] ............ batch_size=25, epochs=20, score=0.846, total=   1.7s\n",
      "[CV] batch_size=25, epochs=20 ........................................\n",
      "[CV] ............ batch_size=25, epochs=20, score=0.859, total=   1.0s\n",
      "[CV] batch_size=25, epochs=30 ........................................\n",
      "[CV] ............ batch_size=25, epochs=30, score=0.709, total=   1.1s\n",
      "[CV] batch_size=25, epochs=30 ........................................\n",
      "[CV] ............ batch_size=25, epochs=30, score=0.633, total=   1.1s\n",
      "[CV] batch_size=25, epochs=30 ........................................\n",
      "[CV] ............ batch_size=25, epochs=30, score=0.859, total=   1.2s\n",
      "[CV] batch_size=25, epochs=30 ........................................\n",
      "[CV] ............ batch_size=25, epochs=30, score=0.859, total=   1.1s\n",
      "[CV] batch_size=25, epochs=30 ........................................\n",
      "[CV] ............ batch_size=25, epochs=30, score=0.795, total=   1.4s\n",
      "[CV] batch_size=25, epochs=40 ........................................\n",
      "[CV] ............ batch_size=25, epochs=40, score=0.734, total=   1.3s\n",
      "[CV] batch_size=25, epochs=40 ........................................\n",
      "[CV] ............ batch_size=25, epochs=40, score=0.646, total=   1.7s\n",
      "[CV] batch_size=25, epochs=40 ........................................\n",
      "[CV] ............ batch_size=25, epochs=40, score=0.846, total=   1.2s\n",
      "[CV] batch_size=25, epochs=40 ........................................\n",
      "[CV] ............ batch_size=25, epochs=40, score=0.808, total=   1.3s\n",
      "[CV] batch_size=25, epochs=40 ........................................\n",
      "[CV] ............ batch_size=25, epochs=40, score=0.833, total=   1.2s\n",
      "[CV] batch_size=25, epochs=50 ........................................\n",
      "[CV] ............ batch_size=25, epochs=50, score=0.747, total=   1.3s\n",
      "[CV] batch_size=25, epochs=50 ........................................\n",
      "[CV] ............ batch_size=25, epochs=50, score=0.646, total=   1.3s\n",
      "[CV] batch_size=25, epochs=50 ........................................\n",
      "[CV] ............ batch_size=25, epochs=50, score=0.859, total=   1.2s\n",
      "[CV] batch_size=25, epochs=50 ........................................\n",
      "[CV] ............ batch_size=25, epochs=50, score=0.795, total=   1.3s\n",
      "[CV] batch_size=25, epochs=50 ........................................\n",
      "[CV] ............ batch_size=25, epochs=50, score=0.872, total=   2.1s\n",
      "[CV] batch_size=25, epochs=60 ........................................\n",
      "[CV] ............ batch_size=25, epochs=60, score=0.759, total=   1.5s\n",
      "[CV] batch_size=25, epochs=60 ........................................\n",
      "[CV] ............ batch_size=25, epochs=60, score=0.671, total=   1.3s\n",
      "[CV] batch_size=25, epochs=60 ........................................\n",
      "[CV] ............ batch_size=25, epochs=60, score=0.846, total=   1.3s\n",
      "[CV] batch_size=25, epochs=60 ........................................\n",
      "[CV] ............ batch_size=25, epochs=60, score=0.795, total=   1.3s\n",
      "[CV] batch_size=25, epochs=60 ........................................\n",
      "[CV] ............ batch_size=25, epochs=60, score=0.859, total=   1.4s\n",
      "[CV] batch_size=25, epochs=70 ........................................\n",
      "[CV] ............ batch_size=25, epochs=70, score=0.734, total=   1.4s\n",
      "[CV] batch_size=25, epochs=70 ........................................\n",
      "[CV] ............ batch_size=25, epochs=70, score=0.646, total=   1.4s\n",
      "[CV] batch_size=25, epochs=70 ........................................\n",
      "[CV] ............ batch_size=25, epochs=70, score=0.782, total=   1.4s\n",
      "[CV] batch_size=25, epochs=70 ........................................\n",
      "[CV] ............ batch_size=25, epochs=70, score=0.808, total=   1.4s\n",
      "[CV] batch_size=25, epochs=70 ........................................\n",
      "[CV] ............ batch_size=25, epochs=70, score=0.808, total=   1.4s\n",
      "[CV] batch_size=25, epochs=80 ........................................\n",
      "[CV] ............ batch_size=25, epochs=80, score=0.734, total=   1.4s\n",
      "[CV] batch_size=25, epochs=80 ........................................\n",
      "[CV] ............ batch_size=25, epochs=80, score=0.658, total=   1.5s\n",
      "[CV] batch_size=25, epochs=80 ........................................\n",
      "[CV] ............ batch_size=25, epochs=80, score=0.821, total=   1.5s\n",
      "[CV] batch_size=25, epochs=80 ........................................\n",
      "[CV] ............ batch_size=25, epochs=80, score=0.859, total=   1.6s\n",
      "[CV] batch_size=25, epochs=80 ........................................\n",
      "[CV] ............ batch_size=25, epochs=80, score=0.782, total=   2.6s\n",
      "[CV] batch_size=25, epochs=90 ........................................\n",
      "[CV] ............ batch_size=25, epochs=90, score=0.759, total=   1.6s\n",
      "[CV] batch_size=25, epochs=90 ........................................\n",
      "[CV] ............ batch_size=25, epochs=90, score=0.684, total=   1.8s\n",
      "[CV] batch_size=25, epochs=90 ........................................\n",
      "[CV] ............ batch_size=25, epochs=90, score=0.821, total=   1.7s\n",
      "[CV] batch_size=25, epochs=90 ........................................\n",
      "[CV] ............ batch_size=25, epochs=90, score=0.795, total=   1.6s\n",
      "[CV] batch_size=25, epochs=90 ........................................\n",
      "[CV] ............ batch_size=25, epochs=90, score=0.859, total=   1.5s\n",
      "[CV] batch_size=30, epochs=10 ........................................\n",
      "[CV] ............ batch_size=30, epochs=10, score=0.734, total=   0.9s\n",
      "[CV] batch_size=30, epochs=10 ........................................\n",
      "[CV] ............ batch_size=30, epochs=10, score=0.595, total=   0.9s\n",
      "[CV] batch_size=30, epochs=10 ........................................\n",
      "[CV] ............ batch_size=30, epochs=10, score=0.808, total=   0.9s\n",
      "[CV] batch_size=30, epochs=10 ........................................\n",
      "[CV] ............ batch_size=30, epochs=10, score=0.795, total=   0.9s\n",
      "[CV] batch_size=30, epochs=10 ........................................\n",
      "[CV] ............ batch_size=30, epochs=10, score=0.833, total=   0.9s\n",
      "[CV] batch_size=30, epochs=20 ........................................\n",
      "[CV] ............ batch_size=30, epochs=20, score=0.747, total=   0.9s\n",
      "[CV] batch_size=30, epochs=20 ........................................\n",
      "[CV] ............ batch_size=30, epochs=20, score=0.582, total=   0.9s\n",
      "[CV] batch_size=30, epochs=20 ........................................\n",
      "[CV] ............ batch_size=30, epochs=20, score=0.795, total=   0.9s\n",
      "[CV] batch_size=30, epochs=20 ........................................\n",
      "[CV] ............ batch_size=30, epochs=20, score=0.846, total=   0.9s\n",
      "[CV] batch_size=30, epochs=20 ........................................\n",
      "[CV] ............ batch_size=30, epochs=20, score=0.821, total=   1.7s\n",
      "[CV] batch_size=30, epochs=30 ........................................\n",
      "[CV] ............ batch_size=30, epochs=30, score=0.759, total=   1.0s\n",
      "[CV] batch_size=30, epochs=30 ........................................\n",
      "[CV] ............ batch_size=30, epochs=30, score=0.620, total=   1.0s\n",
      "[CV] batch_size=30, epochs=30 ........................................\n",
      "[CV] ............ batch_size=30, epochs=30, score=0.833, total=   1.0s\n",
      "[CV] batch_size=30, epochs=30 ........................................\n",
      "[CV] ............ batch_size=30, epochs=30, score=0.859, total=   1.0s\n",
      "[CV] batch_size=30, epochs=30 ........................................\n",
      "[CV] ............ batch_size=30, epochs=30, score=0.859, total=   1.1s\n",
      "[CV] batch_size=30, epochs=40 ........................................\n",
      "[CV] ............ batch_size=30, epochs=40, score=0.747, total=   1.2s\n",
      "[CV] batch_size=30, epochs=40 ........................................\n"
     ]
    },
    {
     "name": "stdout",
     "output_type": "stream",
     "text": [
      "[CV] ............ batch_size=30, epochs=40, score=0.658, total=   1.1s\n",
      "[CV] batch_size=30, epochs=40 ........................................\n",
      "[CV] ............ batch_size=30, epochs=40, score=0.833, total=   1.1s\n",
      "[CV] batch_size=30, epochs=40 ........................................\n",
      "[CV] ............ batch_size=30, epochs=40, score=0.782, total=   1.1s\n",
      "[CV] batch_size=30, epochs=40 ........................................\n",
      "[CV] ............ batch_size=30, epochs=40, score=0.833, total=   1.1s\n",
      "[CV] batch_size=30, epochs=50 ........................................\n",
      "[CV] ............ batch_size=30, epochs=50, score=0.734, total=   1.2s\n",
      "[CV] batch_size=30, epochs=50 ........................................\n",
      "[CV] ............ batch_size=30, epochs=50, score=0.646, total=   1.2s\n",
      "[CV] batch_size=30, epochs=50 ........................................\n",
      "[CV] ............ batch_size=30, epochs=50, score=0.833, total=   1.4s\n",
      "[CV] batch_size=30, epochs=50 ........................................\n",
      "[CV] ............ batch_size=30, epochs=50, score=0.744, total=   1.3s\n",
      "[CV] batch_size=30, epochs=50 ........................................\n",
      "[CV] ............ batch_size=30, epochs=50, score=0.821, total=   2.0s\n",
      "[CV] batch_size=30, epochs=60 ........................................\n",
      "[CV] ............ batch_size=30, epochs=60, score=0.747, total=   1.4s\n",
      "[CV] batch_size=30, epochs=60 ........................................\n",
      "[CV] ............ batch_size=30, epochs=60, score=0.646, total=   1.3s\n",
      "[CV] batch_size=30, epochs=60 ........................................\n",
      "[CV] ............ batch_size=30, epochs=60, score=0.782, total=   1.3s\n",
      "[CV] batch_size=30, epochs=60 ........................................\n",
      "[CV] ............ batch_size=30, epochs=60, score=0.833, total=   1.4s\n",
      "[CV] batch_size=30, epochs=60 ........................................\n",
      "[CV] ............ batch_size=30, epochs=60, score=0.872, total=   1.3s\n",
      "[CV] batch_size=30, epochs=70 ........................................\n",
      "[CV] ............ batch_size=30, epochs=70, score=0.722, total=   1.4s\n",
      "[CV] batch_size=30, epochs=70 ........................................\n",
      "[CV] ............ batch_size=30, epochs=70, score=0.633, total=   1.4s\n",
      "[CV] batch_size=30, epochs=70 ........................................\n",
      "[CV] ............ batch_size=30, epochs=70, score=0.833, total=   1.4s\n",
      "[CV] batch_size=30, epochs=70 ........................................\n",
      "[CV] ............ batch_size=30, epochs=70, score=0.808, total=   1.3s\n",
      "[CV] batch_size=30, epochs=70 ........................................\n",
      "[CV] ............ batch_size=30, epochs=70, score=0.808, total=   1.3s\n",
      "[CV] batch_size=30, epochs=80 ........................................\n",
      "[CV] ............ batch_size=30, epochs=80, score=0.759, total=   1.5s\n",
      "[CV] batch_size=30, epochs=80 ........................................\n",
      "[CV] ............ batch_size=30, epochs=80, score=0.671, total=   1.5s\n",
      "[CV] batch_size=30, epochs=80 ........................................\n",
      "[CV] ............ batch_size=30, epochs=80, score=0.833, total=   1.5s\n",
      "[CV] batch_size=30, epochs=80 ........................................\n",
      "[CV] ............ batch_size=30, epochs=80, score=0.846, total=   1.4s\n",
      "[CV] batch_size=30, epochs=80 ........................................\n",
      "[CV] ............ batch_size=30, epochs=80, score=0.846, total=   1.4s\n",
      "[CV] batch_size=30, epochs=90 ........................................\n",
      "[CV] ............ batch_size=30, epochs=90, score=0.759, total=   2.3s\n",
      "[CV] batch_size=30, epochs=90 ........................................\n",
      "[CV] ............ batch_size=30, epochs=90, score=0.671, total=   1.5s\n",
      "[CV] batch_size=30, epochs=90 ........................................\n",
      "[CV] ............ batch_size=30, epochs=90, score=0.756, total=   1.5s\n",
      "[CV] batch_size=30, epochs=90 ........................................\n",
      "[CV] ............ batch_size=30, epochs=90, score=0.808, total=   1.5s\n",
      "[CV] batch_size=30, epochs=90 ........................................\n",
      "[CV] ............ batch_size=30, epochs=90, score=0.833, total=   1.5s\n",
      "[CV] batch_size=35, epochs=10 ........................................\n",
      "[CV] ............ batch_size=35, epochs=10, score=0.785, total=   1.0s\n",
      "[CV] batch_size=35, epochs=10 ........................................\n",
      "[CV] ............ batch_size=35, epochs=10, score=0.595, total=   1.0s\n",
      "[CV] batch_size=35, epochs=10 ........................................\n",
      "[CV] ............ batch_size=35, epochs=10, score=0.821, total=   1.0s\n",
      "[CV] batch_size=35, epochs=10 ........................................\n",
      "[CV] ............ batch_size=35, epochs=10, score=0.795, total=   1.1s\n",
      "[CV] batch_size=35, epochs=10 ........................................\n",
      "[CV] ............ batch_size=35, epochs=10, score=0.833, total=   1.0s\n",
      "[CV] batch_size=35, epochs=20 ........................................\n",
      "[CV] ............ batch_size=35, epochs=20, score=0.759, total=   1.0s\n",
      "[CV] batch_size=35, epochs=20 ........................................\n",
      "[CV] ............ batch_size=35, epochs=20, score=0.633, total=   1.1s\n",
      "[CV] batch_size=35, epochs=20 ........................................\n",
      "[CV] ............ batch_size=35, epochs=20, score=0.833, total=   0.9s\n",
      "[CV] batch_size=35, epochs=20 ........................................\n",
      "[CV] ............ batch_size=35, epochs=20, score=0.808, total=   0.9s\n",
      "[CV] batch_size=35, epochs=20 ........................................\n",
      "[CV] ............ batch_size=35, epochs=20, score=0.808, total=   0.9s\n",
      "[CV] batch_size=35, epochs=30 ........................................\n",
      "[CV] ............ batch_size=35, epochs=30, score=0.734, total=   1.9s\n",
      "[CV] batch_size=35, epochs=30 ........................................\n",
      "[CV] ............ batch_size=35, epochs=30, score=0.633, total=   1.3s\n",
      "[CV] batch_size=35, epochs=30 ........................................\n",
      "[CV] ............ batch_size=35, epochs=30, score=0.846, total=   1.1s\n",
      "[CV] batch_size=35, epochs=30 ........................................\n",
      "[CV] ............ batch_size=35, epochs=30, score=0.859, total=   1.0s\n",
      "[CV] batch_size=35, epochs=30 ........................................\n",
      "[CV] ............ batch_size=35, epochs=30, score=0.833, total=   1.0s\n",
      "[CV] batch_size=35, epochs=40 ........................................\n",
      "[CV] ............ batch_size=35, epochs=40, score=0.747, total=   1.2s\n",
      "[CV] batch_size=35, epochs=40 ........................................\n",
      "[CV] ............ batch_size=35, epochs=40, score=0.646, total=   1.3s\n",
      "[CV] batch_size=35, epochs=40 ........................................\n",
      "[CV] ............ batch_size=35, epochs=40, score=0.833, total=   1.4s\n",
      "[CV] batch_size=35, epochs=40 ........................................\n",
      "[CV] ............ batch_size=35, epochs=40, score=0.859, total=   1.3s\n",
      "[CV] batch_size=35, epochs=40 ........................................\n",
      "[CV] ............ batch_size=35, epochs=40, score=0.846, total=   1.2s\n",
      "[CV] batch_size=35, epochs=50 ........................................\n",
      "[CV] ............ batch_size=35, epochs=50, score=0.747, total=   1.3s\n",
      "[CV] batch_size=35, epochs=50 ........................................\n",
      "[CV] ............ batch_size=35, epochs=50, score=0.620, total=   1.3s\n",
      "[CV] batch_size=35, epochs=50 ........................................\n",
      "[CV] ............ batch_size=35, epochs=50, score=0.821, total=   1.6s\n",
      "[CV] batch_size=35, epochs=50 ........................................\n",
      "[CV] ............ batch_size=35, epochs=50, score=0.833, total=   1.5s\n",
      "[CV] batch_size=35, epochs=50 ........................................\n",
      "[CV] ............ batch_size=35, epochs=50, score=0.833, total=   1.3s\n",
      "[CV] batch_size=35, epochs=60 ........................................\n",
      "[CV] ............ batch_size=35, epochs=60, score=0.734, total=   1.3s\n",
      "[CV] batch_size=35, epochs=60 ........................................\n",
      "[CV] ............ batch_size=35, epochs=60, score=0.671, total=   2.5s\n",
      "[CV] batch_size=35, epochs=60 ........................................\n",
      "[CV] ............ batch_size=35, epochs=60, score=0.808, total=   1.3s\n",
      "[CV] batch_size=35, epochs=60 ........................................\n",
      "[CV] ............ batch_size=35, epochs=60, score=0.821, total=   1.4s\n",
      "[CV] batch_size=35, epochs=60 ........................................\n"
     ]
    },
    {
     "name": "stdout",
     "output_type": "stream",
     "text": [
      "[CV] ............ batch_size=35, epochs=60, score=0.846, total=   1.7s\n",
      "[CV] batch_size=35, epochs=70 ........................................\n",
      "[CV] ............ batch_size=35, epochs=70, score=0.722, total=   1.5s\n",
      "[CV] batch_size=35, epochs=70 ........................................\n",
      "[CV] ............ batch_size=35, epochs=70, score=0.608, total=   1.3s\n",
      "[CV] batch_size=35, epochs=70 ........................................\n",
      "[CV] ............ batch_size=35, epochs=70, score=0.808, total=   1.4s\n",
      "[CV] batch_size=35, epochs=70 ........................................\n",
      "[CV] ............ batch_size=35, epochs=70, score=0.808, total=   1.4s\n",
      "[CV] batch_size=35, epochs=70 ........................................\n",
      "[CV] ............ batch_size=35, epochs=70, score=0.821, total=   1.4s\n",
      "[CV] batch_size=35, epochs=80 ........................................\n",
      "[CV] ............ batch_size=35, epochs=80, score=0.759, total=   1.4s\n",
      "[CV] batch_size=35, epochs=80 ........................................\n",
      "[CV] ............ batch_size=35, epochs=80, score=0.684, total=   1.5s\n",
      "[CV] batch_size=35, epochs=80 ........................................\n",
      "[CV] ............ batch_size=35, epochs=80, score=0.833, total=   1.4s\n",
      "[CV] batch_size=35, epochs=80 ........................................\n",
      "[CV] ............ batch_size=35, epochs=80, score=0.795, total=   1.3s\n",
      "[CV] batch_size=35, epochs=80 ........................................\n",
      "[CV] ............ batch_size=35, epochs=80, score=0.808, total=   1.4s\n",
      "[CV] batch_size=35, epochs=90 ........................................\n",
      "[CV] ............ batch_size=35, epochs=90, score=0.696, total=   1.5s\n",
      "[CV] batch_size=35, epochs=90 ........................................\n",
      "[CV] ............ batch_size=35, epochs=90, score=0.658, total=   1.4s\n",
      "[CV] batch_size=35, epochs=90 ........................................\n",
      "[CV] ............ batch_size=35, epochs=90, score=0.795, total=   2.3s\n",
      "[CV] batch_size=35, epochs=90 ........................................\n",
      "[CV] ............ batch_size=35, epochs=90, score=0.833, total=   1.4s\n",
      "[CV] batch_size=35, epochs=90 ........................................\n",
      "[CV] ............ batch_size=35, epochs=90, score=0.833, total=   1.5s\n",
      "[CV] batch_size=40, epochs=10 ........................................\n",
      "[CV] ............ batch_size=40, epochs=10, score=0.772, total=   1.0s\n",
      "[CV] batch_size=40, epochs=10 ........................................\n",
      "[CV] ............ batch_size=40, epochs=10, score=0.582, total=   0.9s\n",
      "[CV] batch_size=40, epochs=10 ........................................\n",
      "[CV] ............ batch_size=40, epochs=10, score=0.795, total=   0.9s\n",
      "[CV] batch_size=40, epochs=10 ........................................\n",
      "[CV] ............ batch_size=40, epochs=10, score=0.821, total=   1.0s\n",
      "[CV] batch_size=40, epochs=10 ........................................\n",
      "[CV] ............ batch_size=40, epochs=10, score=0.833, total=   0.9s\n",
      "[CV] batch_size=40, epochs=20 ........................................\n",
      "[CV] ............ batch_size=40, epochs=20, score=0.759, total=   1.0s\n",
      "[CV] batch_size=40, epochs=20 ........................................\n",
      "[CV] ............ batch_size=40, epochs=20, score=0.620, total=   1.0s\n",
      "[CV] batch_size=40, epochs=20 ........................................\n",
      "[CV] ............ batch_size=40, epochs=20, score=0.808, total=   1.0s\n",
      "[CV] batch_size=40, epochs=20 ........................................\n",
      "[CV] ............ batch_size=40, epochs=20, score=0.821, total=   1.1s\n",
      "[CV] batch_size=40, epochs=20 ........................................\n",
      "[CV] ............ batch_size=40, epochs=20, score=0.833, total=   1.1s\n",
      "[CV] batch_size=40, epochs=30 ........................................\n",
      "[CV] ............ batch_size=40, epochs=30, score=0.759, total=   1.2s\n",
      "[CV] batch_size=40, epochs=30 ........................................\n",
      "[CV] ............ batch_size=40, epochs=30, score=0.608, total=   1.1s\n",
      "[CV] batch_size=40, epochs=30 ........................................\n",
      "[CV] ............ batch_size=40, epochs=30, score=0.821, total=   1.1s\n",
      "[CV] batch_size=40, epochs=30 ........................................\n",
      "[CV] ............ batch_size=40, epochs=30, score=0.846, total=   2.2s\n",
      "[CV] batch_size=40, epochs=30 ........................................\n",
      "[CV] ............ batch_size=40, epochs=30, score=0.821, total=   1.2s\n",
      "[CV] batch_size=40, epochs=40 ........................................\n",
      "[CV] ............ batch_size=40, epochs=40, score=0.747, total=   1.3s\n",
      "[CV] batch_size=40, epochs=40 ........................................\n",
      "[CV] ............ batch_size=40, epochs=40, score=0.658, total=   1.2s\n",
      "[CV] batch_size=40, epochs=40 ........................................\n",
      "[CV] ............ batch_size=40, epochs=40, score=0.846, total=   1.1s\n",
      "[CV] batch_size=40, epochs=40 ........................................\n",
      "[CV] ............ batch_size=40, epochs=40, score=0.846, total=   1.2s\n",
      "[CV] batch_size=40, epochs=40 ........................................\n",
      "[CV] ............ batch_size=40, epochs=40, score=0.833, total=   1.3s\n",
      "[CV] batch_size=40, epochs=50 ........................................\n",
      "[CV] ............ batch_size=40, epochs=50, score=0.759, total=   1.3s\n",
      "[CV] batch_size=40, epochs=50 ........................................\n",
      "[CV] ............ batch_size=40, epochs=50, score=0.646, total=   1.2s\n",
      "[CV] batch_size=40, epochs=50 ........................................\n",
      "[CV] ............ batch_size=40, epochs=50, score=0.769, total=   1.2s\n",
      "[CV] batch_size=40, epochs=50 ........................................\n",
      "[CV] ............ batch_size=40, epochs=50, score=0.782, total=   1.2s\n",
      "[CV] batch_size=40, epochs=50 ........................................\n",
      "[CV] ............ batch_size=40, epochs=50, score=0.821, total=   1.4s\n",
      "[CV] batch_size=40, epochs=60 ........................................\n",
      "[CV] ............ batch_size=40, epochs=60, score=0.772, total=   1.4s\n",
      "[CV] batch_size=40, epochs=60 ........................................\n",
      "[CV] ............ batch_size=40, epochs=60, score=0.620, total=   1.3s\n",
      "[CV] batch_size=40, epochs=60 ........................................\n",
      "[CV] ............ batch_size=40, epochs=60, score=0.821, total=   1.2s\n",
      "[CV] batch_size=40, epochs=60 ........................................\n",
      "[CV] ............ batch_size=40, epochs=60, score=0.808, total=   1.3s\n",
      "[CV] batch_size=40, epochs=60 ........................................\n",
      "[CV] ............ batch_size=40, epochs=60, score=0.846, total=   2.1s\n",
      "[CV] batch_size=40, epochs=70 ........................................\n",
      "[CV] ............ batch_size=40, epochs=70, score=0.747, total=   1.4s\n",
      "[CV] batch_size=40, epochs=70 ........................................\n",
      "[CV] ............ batch_size=40, epochs=70, score=0.646, total=   1.4s\n",
      "[CV] batch_size=40, epochs=70 ........................................\n",
      "[CV] ............ batch_size=40, epochs=70, score=0.833, total=   1.3s\n",
      "[CV] batch_size=40, epochs=70 ........................................\n",
      "[CV] ............ batch_size=40, epochs=70, score=0.859, total=   1.3s\n",
      "[CV] batch_size=40, epochs=70 ........................................\n",
      "[CV] ............ batch_size=40, epochs=70, score=0.821, total=   1.4s\n",
      "[CV] batch_size=40, epochs=80 ........................................\n",
      "[CV] ............ batch_size=40, epochs=80, score=0.747, total=   1.4s\n",
      "[CV] batch_size=40, epochs=80 ........................................\n",
      "[CV] ............ batch_size=40, epochs=80, score=0.658, total=   1.4s\n",
      "[CV] batch_size=40, epochs=80 ........................................\n",
      "[CV] ............ batch_size=40, epochs=80, score=0.821, total=   1.4s\n",
      "[CV] batch_size=40, epochs=80 ........................................\n",
      "[CV] ............ batch_size=40, epochs=80, score=0.769, total=   1.4s\n",
      "[CV] batch_size=40, epochs=80 ........................................\n",
      "[CV] ............ batch_size=40, epochs=80, score=0.821, total=   1.5s\n",
      "[CV] batch_size=40, epochs=90 ........................................\n",
      "[CV] ............ batch_size=40, epochs=90, score=0.734, total=   1.4s\n",
      "[CV] batch_size=40, epochs=90 ........................................\n",
      "[CV] ............ batch_size=40, epochs=90, score=0.671, total=   1.5s\n",
      "[CV] batch_size=40, epochs=90 ........................................\n"
     ]
    },
    {
     "name": "stdout",
     "output_type": "stream",
     "text": [
      "[CV] ............ batch_size=40, epochs=90, score=0.833, total=   1.6s\n",
      "[CV] batch_size=40, epochs=90 ........................................\n",
      "[CV] ............ batch_size=40, epochs=90, score=0.859, total=   1.4s\n",
      "[CV] batch_size=40, epochs=90 ........................................\n",
      "[CV] ............ batch_size=40, epochs=90, score=0.833, total=   1.4s\n"
     ]
    },
    {
     "name": "stderr",
     "output_type": "stream",
     "text": [
      "[Parallel(n_jobs=1)]: Done 360 out of 360 | elapsed:  9.5min finished\n"
     ]
    },
    {
     "name": "stdout",
     "output_type": "stream",
     "text": [
      "Best: 0.7937682509422302, using {'batch_size': 15, 'epochs': 40}\n",
      "0.7530671954154968 (0.093606423166587) with: {'batch_size': 5, 'epochs': 10}\n",
      "0.7759818315505982 (0.10074232803409805) with: {'batch_size': 5, 'epochs': 20}\n",
      "0.7400519251823425 (0.07295645482704591) with: {'batch_size': 5, 'epochs': 30}\n",
      "0.7580980062484741 (0.0822227748667059) with: {'batch_size': 5, 'epochs': 40}\n",
      "0.7579357266426087 (0.07600583980854896) with: {'batch_size': 5, 'epochs': 50}\n",
      "0.7706264019012451 (0.04574693631572146) with: {'batch_size': 5, 'epochs': 60}\n",
      "0.7477442383766174 (0.09039040493870455) with: {'batch_size': 5, 'epochs': 70}\n",
      "0.7579357385635376 (0.061868037926375026) with: {'batch_size': 5, 'epochs': 80}\n",
      "0.7529048919677734 (0.0803551361221236) with: {'batch_size': 5, 'epochs': 90}\n",
      "0.778416097164154 (0.08572701528850489) with: {'batch_size': 10, 'epochs': 10}\n",
      "0.7555339097976684 (0.07717332908221937) with: {'batch_size': 10, 'epochs': 20}\n",
      "0.778318727016449 (0.04317767964690455) with: {'batch_size': 10, 'epochs': 30}\n",
      "0.7605972170829773 (0.07515364689026557) with: {'batch_size': 10, 'epochs': 40}\n",
      "0.7758195400238037 (0.05722082492335101) with: {'batch_size': 10, 'epochs': 50}\n",
      "0.7657254099845886 (0.07479112530133906) with: {'batch_size': 10, 'epochs': 60}\n",
      "0.7758195400238037 (0.06043310727840269) with: {'batch_size': 10, 'epochs': 70}\n",
      "0.7656280398368835 (0.06084584883183763) with: {'batch_size': 10, 'epochs': 80}\n",
      "0.7503083348274231 (0.0729114234134926) with: {'batch_size': 10, 'epochs': 90}\n",
      "0.7784810066223145 (0.07862073396312258) with: {'batch_size': 15, 'epochs': 10}\n",
      "0.7658552408218384 (0.10025803483055287) with: {'batch_size': 15, 'epochs': 20}\n",
      "0.7632586836814881 (0.09337224488139984) with: {'batch_size': 15, 'epochs': 30}\n",
      "0.7937682509422302 (0.07402694637842949) with: {'batch_size': 15, 'epochs': 40}\n",
      "0.781045114994049 (0.07435777891765352) with: {'batch_size': 15, 'epochs': 50}\n",
      "0.7836416602134705 (0.07709362744073893) with: {'batch_size': 15, 'epochs': 60}\n",
      "0.7910743236541748 (0.04474778274100997) with: {'batch_size': 15, 'epochs': 70}\n",
      "0.7579357504844666 (0.06017053930644174) with: {'batch_size': 15, 'epochs': 80}\n",
      "0.7732229828834534 (0.05481711411886053) with: {'batch_size': 15, 'epochs': 90}\n",
      "0.7709185361862183 (0.09624559941953788) with: {'batch_size': 20, 'epochs': 10}\n",
      "0.7683219671249389 (0.08278535550554962) with: {'batch_size': 20, 'epochs': 20}\n",
      "0.7709185242652893 (0.09107809099665788) with: {'batch_size': 20, 'epochs': 30}\n",
      "0.7556312918663025 (0.08569165130931236) with: {'batch_size': 20, 'epochs': 40}\n",
      "0.783576774597168 (0.07426069240829508) with: {'batch_size': 20, 'epochs': 50}\n",
      "0.7708536148071289 (0.08581159355934291) with: {'batch_size': 20, 'epochs': 60}\n",
      "0.7808503627777099 (0.044648911605364786) with: {'batch_size': 20, 'epochs': 70}\n",
      "0.7733203530311584 (0.07367169006718428) with: {'batch_size': 20, 'epochs': 80}\n",
      "0.7834469199180603 (0.05396014746569153) with: {'batch_size': 20, 'epochs': 90}\n",
      "0.7758519887924195 (0.06826372973114277) with: {'batch_size': 25, 'epochs': 10}\n",
      "0.7786108374595642 (0.09675040502497012) with: {'batch_size': 25, 'epochs': 20}\n",
      "0.7709185242652893 (0.0882933176860976) with: {'batch_size': 25, 'epochs': 30}\n",
      "0.7733852624893188 (0.07475308221624698) with: {'batch_size': 25, 'epochs': 40}\n",
      "0.7836092233657836 (0.08245082958184255) with: {'batch_size': 25, 'epochs': 50}\n",
      "0.7860759496688843 (0.06778822485238664) with: {'batch_size': 25, 'epochs': 60}\n",
      "0.7554365396499634 (0.06114305851570362) with: {'batch_size': 25, 'epochs': 70}\n",
      "0.7707887053489685 (0.06983750192090436) with: {'batch_size': 25, 'epochs': 80}\n",
      "0.783479380607605 (0.05960384618058944) with: {'batch_size': 25, 'epochs': 90}\n",
      "0.7530022740364075 (0.08548243138594411) with: {'batch_size': 30, 'epochs': 10}\n",
      "0.7581304907798767 (0.093852114598362) with: {'batch_size': 30, 'epochs': 20}\n",
      "0.7862057566642762 (0.09062598427550499) with: {'batch_size': 30, 'epochs': 30}\n",
      "0.7707562446594238 (0.06510637014393239) with: {'batch_size': 30, 'epochs': 40}\n",
      "0.7554365515708923 (0.06777296652804901) with: {'batch_size': 30, 'epochs': 50}\n",
      "0.7759169101715088 (0.07792689422718999) with: {'batch_size': 30, 'epochs': 60}\n",
      "0.7606296539306641 (0.07423908085551795) with: {'batch_size': 30, 'epochs': 70}\n",
      "0.7912041544914246 (0.0682580337145552) with: {'batch_size': 30, 'epochs': 80}\n",
      "0.7655631184577942 (0.055591398514101484) with: {'batch_size': 30, 'epochs': 90}\n",
      "0.7656929612159729 (0.08712634211022303) with: {'batch_size': 35, 'epochs': 10}\n",
      "0.768224585056305 (0.07175017418186987) with: {'batch_size': 35, 'epochs': 20}\n",
      "0.7811100244522095 (0.08623960474870142) with: {'batch_size': 35, 'epochs': 30}\n",
      "0.7861733198165893 (0.0805463642067587) with: {'batch_size': 35, 'epochs': 40}\n",
      "0.7708536148071289 (0.08189119101576739) with: {'batch_size': 35, 'epochs': 50}\n",
      "0.775884461402893 (0.06435117103970882) with: {'batch_size': 35, 'epochs': 60}\n",
      "0.7530022621154785 (0.08083832030359636) with: {'batch_size': 35, 'epochs': 70}\n",
      "0.77578706741333 (0.0518998045582321) with: {'batch_size': 35, 'epochs': 80}\n",
      "0.7631937623023987 (0.07259239526950895) with: {'batch_size': 35, 'epochs': 90}\n",
      "0.760629665851593 (0.09163650102515235) with: {'batch_size': 40, 'epochs': 10}\n",
      "0.7682570457458496 (0.07810592516055545) with: {'batch_size': 40, 'epochs': 20}\n",
      "0.7708536148071289 (0.08646925022778544) with: {'batch_size': 40, 'epochs': 30}\n",
      "0.7861408710479736 (0.0739417282440526) with: {'batch_size': 40, 'epochs': 40}\n",
      "0.755371630191803 (0.0586868418664545) with: {'batch_size': 40, 'epochs': 50}\n",
      "0.7733528017997742 (0.08018005870351835) with: {'batch_size': 40, 'epochs': 60}\n",
      "0.781045114994049 (0.07731575378176402) with: {'batch_size': 40, 'epochs': 70}\n",
      "0.7630639553070069 (0.05982097769598485) with: {'batch_size': 40, 'epochs': 80}\n",
      "0.7861408591270447 (0.07175353551737342) with: {'batch_size': 40, 'epochs': 90}\n"
     ]
    }
   ],
   "source": [
    "#define a random seed\n",
    "seed=6\n",
    "np.random.seed(seed)\n",
    "#Start defining the model\n",
    "def create_model():\n",
    "    model=Sequential()\n",
    "    model.add(Dense(8,input_dim=8,kernel_initializer='normal',activation='relu'))\n",
    "    model.add(Dense(4,input_dim=8,kernel_initializer='normal',activation='relu'))\n",
    "    model.add(Dense(1,activation='sigmoid'))\n",
    "    \n",
    "    adam = Adam(lr = 0.01)\n",
    "    model.compile(loss = 'binary_crossentropy', optimizer = adam, metrics = ['accuracy'])\n",
    "    return model\n",
    "\n",
    "#create model\n",
    "model=KerasClassifier(build_fn=create_model, verbose=0)\n",
    "\n",
    "# Define the grid search parameters\n",
    "batch_size = [5, 10, 15, 20, 25, 30, 35, 40]\n",
    "epochs = [10, 20, 30, 40, 50, 60, 70, 80, 90]\n",
    "\n",
    "# make a dictionary of the grid search parameters\n",
    "param_grid = dict(batch_size=batch_size, epochs=epochs)\n",
    "\n",
    "# build and fit the GridSearchCV\n",
    "grid = GridSearchCV(estimator=model, param_grid=param_grid, cv = KFold(random_state=seed), verbose=10)\n",
    "grid_result = grid.fit(X_standardized, Y)\n",
    "\n",
    "# summarize the results\n",
    "print(\"Best: {0}, using {1}\".format(grid_result.best_score_, grid_result.best_params_))\n",
    "means = grid_result.cv_results_['mean_test_score']\n",
    "stds = grid_result.cv_results_['std_test_score']\n",
    "params = grid_result.cv_results_['params']\n",
    "for mean, stdev, param in zip(means, stds, params):\n",
    "    print('{0} ({1}) with: {2}'.format(mean, stdev, param))"
   ]
  },
  {
   "cell_type": "code",
   "execution_count": 125,
   "metadata": {
    "scrolled": true
   },
   "outputs": [
    {
     "name": "stdout",
     "output_type": "stream",
     "text": [
      "Fitting 5 folds for each of 16 candidates, totalling 80 fits\n",
      "[CV] dropout_rate=0.0, learn_rate=0.0001 .............................\n"
     ]
    },
    {
     "name": "stderr",
     "output_type": "stream",
     "text": [
      "[Parallel(n_jobs=1)]: Using backend SequentialBackend with 1 concurrent workers.\n"
     ]
    },
    {
     "name": "stdout",
     "output_type": "stream",
     "text": [
      "[CV] . dropout_rate=0.0, learn_rate=0.0001, score=0.671, total=   1.3s\n",
      "[CV] dropout_rate=0.0, learn_rate=0.0001 .............................\n"
     ]
    },
    {
     "name": "stderr",
     "output_type": "stream",
     "text": [
      "[Parallel(n_jobs=1)]: Done   1 out of   1 | elapsed:    1.2s remaining:    0.0s\n"
     ]
    },
    {
     "name": "stdout",
     "output_type": "stream",
     "text": [
      "[CV] . dropout_rate=0.0, learn_rate=0.0001, score=0.570, total=   1.3s\n",
      "[CV] dropout_rate=0.0, learn_rate=0.0001 .............................\n"
     ]
    },
    {
     "name": "stderr",
     "output_type": "stream",
     "text": [
      "[Parallel(n_jobs=1)]: Done   2 out of   2 | elapsed:    2.5s remaining:    0.0s\n"
     ]
    },
    {
     "name": "stdout",
     "output_type": "stream",
     "text": [
      "[CV] . dropout_rate=0.0, learn_rate=0.0001, score=0.756, total=   1.4s\n",
      "[CV] dropout_rate=0.0, learn_rate=0.0001 .............................\n"
     ]
    },
    {
     "name": "stderr",
     "output_type": "stream",
     "text": [
      "[Parallel(n_jobs=1)]: Done   3 out of   3 | elapsed:    3.9s remaining:    0.0s\n"
     ]
    },
    {
     "name": "stdout",
     "output_type": "stream",
     "text": [
      "[CV] . dropout_rate=0.0, learn_rate=0.0001, score=0.744, total=   1.3s\n",
      "[CV] dropout_rate=0.0, learn_rate=0.0001 .............................\n"
     ]
    },
    {
     "name": "stderr",
     "output_type": "stream",
     "text": [
      "[Parallel(n_jobs=1)]: Done   4 out of   4 | elapsed:    5.3s remaining:    0.0s\n"
     ]
    },
    {
     "name": "stdout",
     "output_type": "stream",
     "text": [
      "[CV] . dropout_rate=0.0, learn_rate=0.0001, score=0.679, total=   1.4s\n",
      "[CV] dropout_rate=0.0, learn_rate=0.001 ..............................\n"
     ]
    },
    {
     "name": "stderr",
     "output_type": "stream",
     "text": [
      "[Parallel(n_jobs=1)]: Done   5 out of   5 | elapsed:    6.6s remaining:    0.0s\n"
     ]
    },
    {
     "name": "stdout",
     "output_type": "stream",
     "text": [
      "[CV] .. dropout_rate=0.0, learn_rate=0.001, score=0.797, total=   1.3s\n",
      "[CV] dropout_rate=0.0, learn_rate=0.001 ..............................\n"
     ]
    },
    {
     "name": "stderr",
     "output_type": "stream",
     "text": [
      "[Parallel(n_jobs=1)]: Done   6 out of   6 | elapsed:    8.0s remaining:    0.0s\n"
     ]
    },
    {
     "name": "stdout",
     "output_type": "stream",
     "text": [
      "[CV] .. dropout_rate=0.0, learn_rate=0.001, score=0.633, total=   1.3s\n",
      "[CV] dropout_rate=0.0, learn_rate=0.001 ..............................\n"
     ]
    },
    {
     "name": "stderr",
     "output_type": "stream",
     "text": [
      "[Parallel(n_jobs=1)]: Done   7 out of   7 | elapsed:    9.2s remaining:    0.0s\n"
     ]
    },
    {
     "name": "stdout",
     "output_type": "stream",
     "text": [
      "[CV] .. dropout_rate=0.0, learn_rate=0.001, score=0.808, total=   1.3s\n",
      "[CV] dropout_rate=0.0, learn_rate=0.001 ..............................\n"
     ]
    },
    {
     "name": "stderr",
     "output_type": "stream",
     "text": [
      "[Parallel(n_jobs=1)]: Done   8 out of   8 | elapsed:   10.6s remaining:    0.0s\n"
     ]
    },
    {
     "name": "stdout",
     "output_type": "stream",
     "text": [
      "[CV] .. dropout_rate=0.0, learn_rate=0.001, score=0.821, total=   1.4s\n",
      "[CV] dropout_rate=0.0, learn_rate=0.001 ..............................\n"
     ]
    },
    {
     "name": "stderr",
     "output_type": "stream",
     "text": [
      "[Parallel(n_jobs=1)]: Done   9 out of   9 | elapsed:   12.0s remaining:    0.0s\n"
     ]
    },
    {
     "name": "stdout",
     "output_type": "stream",
     "text": [
      "[CV] .. dropout_rate=0.0, learn_rate=0.001, score=0.833, total=   1.4s\n",
      "[CV] dropout_rate=0.0, learn_rate=0.01 ...............................\n",
      "[CV] ... dropout_rate=0.0, learn_rate=0.01, score=0.747, total=   1.4s\n",
      "[CV] dropout_rate=0.0, learn_rate=0.01 ...............................\n",
      "[CV] ... dropout_rate=0.0, learn_rate=0.01, score=0.658, total=   1.3s\n",
      "[CV] dropout_rate=0.0, learn_rate=0.01 ...............................\n",
      "[CV] ... dropout_rate=0.0, learn_rate=0.01, score=0.821, total=   1.3s\n",
      "[CV] dropout_rate=0.0, learn_rate=0.01 ...............................\n",
      "[CV] ... dropout_rate=0.0, learn_rate=0.01, score=0.821, total=   1.4s\n",
      "[CV] dropout_rate=0.0, learn_rate=0.01 ...............................\n",
      "[CV] ... dropout_rate=0.0, learn_rate=0.01, score=0.808, total=   1.6s\n",
      "[CV] dropout_rate=0.0, learn_rate=0.1 ................................\n",
      "[CV] .... dropout_rate=0.0, learn_rate=0.1, score=0.671, total=   1.5s\n",
      "[CV] dropout_rate=0.0, learn_rate=0.1 ................................\n",
      "[CV] .... dropout_rate=0.0, learn_rate=0.1, score=0.620, total=   2.3s\n",
      "[CV] dropout_rate=0.0, learn_rate=0.1 ................................\n",
      "[CV] .... dropout_rate=0.0, learn_rate=0.1, score=0.731, total=   1.4s\n",
      "[CV] dropout_rate=0.0, learn_rate=0.1 ................................\n",
      "[CV] .... dropout_rate=0.0, learn_rate=0.1, score=0.718, total=   1.4s\n",
      "[CV] dropout_rate=0.0, learn_rate=0.1 ................................\n",
      "[CV] .... dropout_rate=0.0, learn_rate=0.1, score=0.795, total=   1.4s\n",
      "[CV] dropout_rate=0.1, learn_rate=0.0001 .............................\n",
      "[CV] . dropout_rate=0.1, learn_rate=0.0001, score=0.684, total=   1.9s\n",
      "[CV] dropout_rate=0.1, learn_rate=0.0001 .............................\n",
      "[CV] . dropout_rate=0.1, learn_rate=0.0001, score=0.570, total=   1.7s\n",
      "[CV] dropout_rate=0.1, learn_rate=0.0001 .............................\n",
      "[CV] . dropout_rate=0.1, learn_rate=0.0001, score=0.705, total=   1.7s\n",
      "[CV] dropout_rate=0.1, learn_rate=0.0001 .............................\n",
      "[CV] . dropout_rate=0.1, learn_rate=0.0001, score=0.808, total=   1.7s\n",
      "[CV] dropout_rate=0.1, learn_rate=0.0001 .............................\n",
      "[CV] . dropout_rate=0.1, learn_rate=0.0001, score=0.679, total=   1.7s\n",
      "[CV] dropout_rate=0.1, learn_rate=0.001 ..............................\n",
      "[CV] .. dropout_rate=0.1, learn_rate=0.001, score=0.797, total=   1.7s\n",
      "[CV] dropout_rate=0.1, learn_rate=0.001 ..............................\n",
      "[CV] .. dropout_rate=0.1, learn_rate=0.001, score=0.595, total=   1.7s\n",
      "[CV] dropout_rate=0.1, learn_rate=0.001 ..............................\n",
      "[CV] .. dropout_rate=0.1, learn_rate=0.001, score=0.833, total=   1.7s\n",
      "[CV] dropout_rate=0.1, learn_rate=0.001 ..............................\n",
      "[CV] .. dropout_rate=0.1, learn_rate=0.001, score=0.859, total=   1.7s\n",
      "[CV] dropout_rate=0.1, learn_rate=0.001 ..............................\n",
      "[CV] .. dropout_rate=0.1, learn_rate=0.001, score=0.833, total=   1.6s\n",
      "[CV] dropout_rate=0.1, learn_rate=0.01 ...............................\n",
      "[CV] ... dropout_rate=0.1, learn_rate=0.01, score=0.772, total=   2.7s\n",
      "[CV] dropout_rate=0.1, learn_rate=0.01 ...............................\n",
      "[CV] ... dropout_rate=0.1, learn_rate=0.01, score=0.595, total=   1.6s\n",
      "[CV] dropout_rate=0.1, learn_rate=0.01 ...............................\n",
      "[CV] ... dropout_rate=0.1, learn_rate=0.01, score=0.705, total=   1.8s\n",
      "[CV] dropout_rate=0.1, learn_rate=0.01 ...............................\n",
      "[CV] ... dropout_rate=0.1, learn_rate=0.01, score=0.846, total=   1.8s\n",
      "[CV] dropout_rate=0.1, learn_rate=0.01 ...............................\n",
      "[CV] ... dropout_rate=0.1, learn_rate=0.01, score=0.821, total=   1.8s\n",
      "[CV] dropout_rate=0.1, learn_rate=0.1 ................................\n",
      "[CV] .... dropout_rate=0.1, learn_rate=0.1, score=0.696, total=   1.8s\n",
      "[CV] dropout_rate=0.1, learn_rate=0.1 ................................\n",
      "[CV] .... dropout_rate=0.1, learn_rate=0.1, score=0.595, total=   1.7s\n",
      "[CV] dropout_rate=0.1, learn_rate=0.1 ................................\n",
      "[CV] .... dropout_rate=0.1, learn_rate=0.1, score=0.782, total=   1.7s\n",
      "[CV] dropout_rate=0.1, learn_rate=0.1 ................................\n",
      "[CV] .... dropout_rate=0.1, learn_rate=0.1, score=0.744, total=   1.7s\n",
      "[CV] dropout_rate=0.1, learn_rate=0.1 ................................\n",
      "[CV] .... dropout_rate=0.1, learn_rate=0.1, score=0.821, total=   1.8s\n",
      "[CV] dropout_rate=0.2, learn_rate=0.0001 .............................\n",
      "[CV] . dropout_rate=0.2, learn_rate=0.0001, score=0.646, total=   1.7s\n",
      "[CV] dropout_rate=0.2, learn_rate=0.0001 .............................\n",
      "[CV] . dropout_rate=0.2, learn_rate=0.0001, score=0.582, total=   1.6s\n",
      "[CV] dropout_rate=0.2, learn_rate=0.0001 .............................\n",
      "[CV] . dropout_rate=0.2, learn_rate=0.0001, score=0.705, total=   1.6s\n",
      "[CV] dropout_rate=0.2, learn_rate=0.0001 .............................\n",
      "[CV] . dropout_rate=0.2, learn_rate=0.0001, score=0.744, total=   1.6s\n",
      "[CV] dropout_rate=0.2, learn_rate=0.0001 .............................\n",
      "[CV] . dropout_rate=0.2, learn_rate=0.0001, score=0.705, total=   1.7s\n",
      "[CV] dropout_rate=0.2, learn_rate=0.001 ..............................\n",
      "[CV] .. dropout_rate=0.2, learn_rate=0.001, score=0.785, total=   2.7s\n",
      "[CV] dropout_rate=0.2, learn_rate=0.001 ..............................\n",
      "[CV] .. dropout_rate=0.2, learn_rate=0.001, score=0.608, total=   1.6s\n",
      "[CV] dropout_rate=0.2, learn_rate=0.001 ..............................\n",
      "[CV] .. dropout_rate=0.2, learn_rate=0.001, score=0.833, total=   1.6s\n",
      "[CV] dropout_rate=0.2, learn_rate=0.001 ..............................\n",
      "[CV] .. dropout_rate=0.2, learn_rate=0.001, score=0.821, total=   1.6s\n",
      "[CV] dropout_rate=0.2, learn_rate=0.001 ..............................\n",
      "[CV] .. dropout_rate=0.2, learn_rate=0.001, score=0.808, total=   1.6s\n",
      "[CV] dropout_rate=0.2, learn_rate=0.01 ...............................\n",
      "[CV] ... dropout_rate=0.2, learn_rate=0.01, score=0.810, total=   1.8s\n",
      "[CV] dropout_rate=0.2, learn_rate=0.01 ...............................\n",
      "[CV] ... dropout_rate=0.2, learn_rate=0.01, score=0.646, total=   1.6s\n",
      "[CV] dropout_rate=0.2, learn_rate=0.01 ...............................\n",
      "[CV] ... dropout_rate=0.2, learn_rate=0.01, score=0.808, total=   1.6s\n",
      "[CV] dropout_rate=0.2, learn_rate=0.01 ...............................\n",
      "[CV] ... dropout_rate=0.2, learn_rate=0.01, score=0.821, total=   1.8s\n",
      "[CV] dropout_rate=0.2, learn_rate=0.01 ...............................\n",
      "[CV] ... dropout_rate=0.2, learn_rate=0.01, score=0.795, total=   1.6s\n",
      "[CV] dropout_rate=0.2, learn_rate=0.1 ................................\n",
      "[CV] .... dropout_rate=0.2, learn_rate=0.1, score=0.646, total=   1.6s\n",
      "[CV] dropout_rate=0.2, learn_rate=0.1 ................................\n",
      "[CV] .... dropout_rate=0.2, learn_rate=0.1, score=0.570, total=   1.6s\n",
      "[CV] dropout_rate=0.2, learn_rate=0.1 ................................\n",
      "[CV] .... dropout_rate=0.2, learn_rate=0.1, score=0.705, total=   1.6s\n",
      "[CV] dropout_rate=0.2, learn_rate=0.1 ................................\n",
      "[CV] .... dropout_rate=0.2, learn_rate=0.1, score=0.744, total=   1.7s\n",
      "[CV] dropout_rate=0.2, learn_rate=0.1 ................................\n",
      "[CV] .... dropout_rate=0.2, learn_rate=0.1, score=0.705, total=   1.8s\n",
      "[CV] dropout_rate=0.3, learn_rate=0.0001 .............................\n",
      "[CV] . dropout_rate=0.3, learn_rate=0.0001, score=0.646, total=   2.9s\n",
      "[CV] dropout_rate=0.3, learn_rate=0.0001 .............................\n",
      "[CV] . dropout_rate=0.3, learn_rate=0.0001, score=0.570, total=   1.8s\n",
      "[CV] dropout_rate=0.3, learn_rate=0.0001 .............................\n",
      "[CV] . dropout_rate=0.3, learn_rate=0.0001, score=0.705, total=   1.8s\n",
      "[CV] dropout_rate=0.3, learn_rate=0.0001 .............................\n",
      "[CV] . dropout_rate=0.3, learn_rate=0.0001, score=0.744, total=   1.7s\n",
      "[CV] dropout_rate=0.3, learn_rate=0.0001 .............................\n",
      "[CV] . dropout_rate=0.3, learn_rate=0.0001, score=0.679, total=   1.7s\n",
      "[CV] dropout_rate=0.3, learn_rate=0.001 ..............................\n",
      "[CV] .. dropout_rate=0.3, learn_rate=0.001, score=0.797, total=   1.7s\n",
      "[CV] dropout_rate=0.3, learn_rate=0.001 ..............................\n",
      "[CV] .. dropout_rate=0.3, learn_rate=0.001, score=0.608, total=   1.8s\n",
      "[CV] dropout_rate=0.3, learn_rate=0.001 ..............................\n"
     ]
    },
    {
     "name": "stdout",
     "output_type": "stream",
     "text": [
      "[CV] .. dropout_rate=0.3, learn_rate=0.001, score=0.821, total=   1.7s\n",
      "[CV] dropout_rate=0.3, learn_rate=0.001 ..............................\n",
      "[CV] .. dropout_rate=0.3, learn_rate=0.001, score=0.833, total=   1.8s\n",
      "[CV] dropout_rate=0.3, learn_rate=0.001 ..............................\n",
      "[CV] .. dropout_rate=0.3, learn_rate=0.001, score=0.821, total=   1.6s\n",
      "[CV] dropout_rate=0.3, learn_rate=0.01 ...............................\n",
      "[CV] ... dropout_rate=0.3, learn_rate=0.01, score=0.734, total=   1.6s\n",
      "[CV] dropout_rate=0.3, learn_rate=0.01 ...............................\n",
      "[CV] ... dropout_rate=0.3, learn_rate=0.01, score=0.620, total=   1.7s\n",
      "[CV] dropout_rate=0.3, learn_rate=0.01 ...............................\n",
      "[CV] ... dropout_rate=0.3, learn_rate=0.01, score=0.846, total=   1.6s\n",
      "[CV] dropout_rate=0.3, learn_rate=0.01 ...............................\n",
      "[CV] ... dropout_rate=0.3, learn_rate=0.01, score=0.821, total=   1.7s\n",
      "[CV] dropout_rate=0.3, learn_rate=0.01 ...............................\n",
      "[CV] ... dropout_rate=0.3, learn_rate=0.01, score=0.833, total=   1.6s\n",
      "[CV] dropout_rate=0.3, learn_rate=0.1 ................................\n",
      "[CV] .... dropout_rate=0.3, learn_rate=0.1, score=0.646, total=   2.6s\n",
      "[CV] dropout_rate=0.3, learn_rate=0.1 ................................\n",
      "[CV] .... dropout_rate=0.3, learn_rate=0.1, score=0.570, total=   1.6s\n",
      "[CV] dropout_rate=0.3, learn_rate=0.1 ................................\n",
      "[CV] .... dropout_rate=0.3, learn_rate=0.1, score=0.756, total=   1.6s\n",
      "[CV] dropout_rate=0.3, learn_rate=0.1 ................................\n",
      "[CV] .... dropout_rate=0.3, learn_rate=0.1, score=0.744, total=   1.6s\n",
      "[CV] dropout_rate=0.3, learn_rate=0.1 ................................\n",
      "[CV] .... dropout_rate=0.3, learn_rate=0.1, score=0.679, total=   1.6s\n"
     ]
    },
    {
     "name": "stderr",
     "output_type": "stream",
     "text": [
      "[Parallel(n_jobs=1)]: Done  80 out of  80 | elapsed:  2.2min finished\n"
     ]
    },
    {
     "name": "stdout",
     "output_type": "stream",
     "text": [
      "Best: 0.7836092114448547, using {'dropout_rate': 0.1, 'learn_rate': 0.001}\n",
      "0.683998703956604 (0.0664368109434011) with: {'dropout_rate': 0.0, 'learn_rate': 0.0001}\n",
      "0.7783836364746094 (0.07372887660494651) with: {'dropout_rate': 0.0, 'learn_rate': 0.001}\n",
      "0.7707562565803527 (0.06253086886357516) with: {'dropout_rate': 0.0, 'learn_rate': 0.01}\n",
      "0.70694580078125 (0.058712044451083654) with: {'dropout_rate': 0.0, 'learn_rate': 0.1}\n",
      "0.6890944361686706 (0.07578880753835449) with: {'dropout_rate': 0.1, 'learn_rate': 0.0001}\n",
      "0.7836092114448547 (0.09634755505535177) with: {'dropout_rate': 0.1, 'learn_rate': 0.001}\n",
      "0.7477766990661621 (0.0902681685728596) with: {'dropout_rate': 0.1, 'learn_rate': 0.01}\n",
      "0.7274586200714112 (0.07802390981609372) with: {'dropout_rate': 0.1, 'learn_rate': 0.1}\n",
      "0.6763388514518738 (0.05652332959830523) with: {'dropout_rate': 0.2, 'learn_rate': 0.0001}\n",
      "0.7707886934280396 (0.08315648762260007) with: {'dropout_rate': 0.2, 'learn_rate': 0.001}\n",
      "0.7757546305656433 (0.06560235635714638) with: {'dropout_rate': 0.2, 'learn_rate': 0.01}\n",
      "0.6738072037696838 (0.060801144237587465) with: {'dropout_rate': 0.2, 'learn_rate': 0.1}\n",
      "0.6686789989471436 (0.05899773033245815) with: {'dropout_rate': 0.3, 'learn_rate': 0.0001}\n",
      "0.7758844494819641 (0.0849364377331393) with: {'dropout_rate': 0.3, 'learn_rate': 0.001}\n",
      "0.7708860754966735 (0.0849300062873271) with: {'dropout_rate': 0.3, 'learn_rate': 0.01}\n",
      "0.6789354085922241 (0.06818492258903203) with: {'dropout_rate': 0.3, 'learn_rate': 0.1}\n"
     ]
    }
   ],
   "source": [
    "# import necessary packages\n",
    "from keras.layers import Dropout\n",
    "# Define a random seed\n",
    "seed = 6\n",
    "np.random.seed(seed)\n",
    "epochs=10\n",
    "batch_size=5\n",
    "# Start defining the model\n",
    "def create_model(learn_rate, dropout_rate):\n",
    "    # Create model\n",
    "    model = Sequential()\n",
    "    model.add(Dense(8, input_dim = 8, kernel_initializer = 'normal', activation = 'relu'))\n",
    "    model.add(Dropout(dropout_rate))\n",
    "    model.add(Dense(4, input_dim = 8, kernel_initializer = 'normal', activation = 'relu'))\n",
    "    model.add(Dropout(dropout_rate))\n",
    "    model.add(Dense(1, activation = 'sigmoid'))\n",
    "    \n",
    "    # Compile the model\n",
    "    adam = Adam(lr = learn_rate)\n",
    "    model.compile(loss = 'binary_crossentropy', optimizer = adam, metrics = ['accuracy'])\n",
    "    return model\n",
    "\n",
    "# Create the model\n",
    "model = KerasClassifier(build_fn = create_model, epochs=epochs, batch_size=batch_size, verbose = 0) # This comes from the previous best\n",
    "\n",
    "# define the grid search parameters\n",
    "learn_rate = [0.0001, 0.001, 0.01, 0.1]\n",
    "dropout_rate = [0.0, 0.1, 0.2, 0.3]\n",
    "\n",
    "# make a dictionary of the grid search parameters\n",
    "param_grid = dict(learn_rate=learn_rate, dropout_rate=dropout_rate)\n",
    "\n",
    "# build and fit the GridSearchCV\n",
    "grid = GridSearchCV(estimator=model, param_grid=param_grid, cv = KFold(random_state=seed), verbose=10)\n",
    "grid_result = grid.fit(X_standardized, Y)\n",
    "\n",
    "# summarize the results\n",
    "print(\"Best: {0}, using {1}\".format(grid_result.best_score_, grid_result.best_params_))\n",
    "means = grid_result.cv_results_['mean_test_score']\n",
    "stds = grid_result.cv_results_['std_test_score']\n",
    "params = grid_result.cv_results_['params']\n",
    "for mean, stdev, param in zip(means, stds, params):\n",
    "    print('{0} ({1}) with: {2}'.format(mean, stdev, param))"
   ]
  },
  {
   "cell_type": "code",
   "execution_count": 129,
   "metadata": {
    "scrolled": true
   },
   "outputs": [
    {
     "name": "stdout",
     "output_type": "stream",
     "text": [
      "Fitting 5 folds for each of 12 candidates, totalling 60 fits\n",
      "[CV] activation=softmax, init=uniform ................................\n"
     ]
    },
    {
     "name": "stderr",
     "output_type": "stream",
     "text": [
      "[Parallel(n_jobs=1)]: Using backend SequentialBackend with 1 concurrent workers.\n"
     ]
    },
    {
     "name": "stdout",
     "output_type": "stream",
     "text": [
      "[CV] .... activation=softmax, init=uniform, score=0.646, total=   1.5s\n",
      "[CV] activation=softmax, init=uniform ................................\n"
     ]
    },
    {
     "name": "stderr",
     "output_type": "stream",
     "text": [
      "[Parallel(n_jobs=1)]: Done   1 out of   1 | elapsed:    1.4s remaining:    0.0s\n"
     ]
    },
    {
     "name": "stdout",
     "output_type": "stream",
     "text": [
      "[CV] .... activation=softmax, init=uniform, score=0.570, total=   1.5s\n",
      "[CV] activation=softmax, init=uniform ................................\n"
     ]
    },
    {
     "name": "stderr",
     "output_type": "stream",
     "text": [
      "[Parallel(n_jobs=1)]: Done   2 out of   2 | elapsed:    2.9s remaining:    0.0s\n"
     ]
    },
    {
     "name": "stdout",
     "output_type": "stream",
     "text": [
      "[CV] .... activation=softmax, init=uniform, score=0.705, total=   1.5s\n",
      "[CV] activation=softmax, init=uniform ................................\n"
     ]
    },
    {
     "name": "stderr",
     "output_type": "stream",
     "text": [
      "[Parallel(n_jobs=1)]: Done   3 out of   3 | elapsed:    4.4s remaining:    0.0s\n"
     ]
    },
    {
     "name": "stdout",
     "output_type": "stream",
     "text": [
      "[CV] .... activation=softmax, init=uniform, score=0.744, total=   1.6s\n",
      "[CV] activation=softmax, init=uniform ................................\n"
     ]
    },
    {
     "name": "stderr",
     "output_type": "stream",
     "text": [
      "[Parallel(n_jobs=1)]: Done   4 out of   4 | elapsed:    6.0s remaining:    0.0s\n"
     ]
    },
    {
     "name": "stdout",
     "output_type": "stream",
     "text": [
      "[CV] .... activation=softmax, init=uniform, score=0.679, total=   1.4s\n",
      "[CV] activation=softmax, init=normal .................................\n"
     ]
    },
    {
     "name": "stderr",
     "output_type": "stream",
     "text": [
      "[Parallel(n_jobs=1)]: Done   5 out of   5 | elapsed:    7.4s remaining:    0.0s\n"
     ]
    },
    {
     "name": "stdout",
     "output_type": "stream",
     "text": [
      "[CV] ..... activation=softmax, init=normal, score=0.646, total=   1.4s\n",
      "[CV] activation=softmax, init=normal .................................\n"
     ]
    },
    {
     "name": "stderr",
     "output_type": "stream",
     "text": [
      "[Parallel(n_jobs=1)]: Done   6 out of   6 | elapsed:    8.8s remaining:    0.0s\n"
     ]
    },
    {
     "name": "stdout",
     "output_type": "stream",
     "text": [
      "[CV] ..... activation=softmax, init=normal, score=0.570, total=   1.6s\n",
      "[CV] activation=softmax, init=normal .................................\n"
     ]
    },
    {
     "name": "stderr",
     "output_type": "stream",
     "text": [
      "[Parallel(n_jobs=1)]: Done   7 out of   7 | elapsed:   10.4s remaining:    0.0s\n"
     ]
    },
    {
     "name": "stdout",
     "output_type": "stream",
     "text": [
      "[CV] ..... activation=softmax, init=normal, score=0.705, total=   1.5s\n",
      "[CV] activation=softmax, init=normal .................................\n"
     ]
    },
    {
     "name": "stderr",
     "output_type": "stream",
     "text": [
      "[Parallel(n_jobs=1)]: Done   8 out of   8 | elapsed:   11.9s remaining:    0.0s\n"
     ]
    },
    {
     "name": "stdout",
     "output_type": "stream",
     "text": [
      "[CV] ..... activation=softmax, init=normal, score=0.744, total=   2.6s\n",
      "[CV] activation=softmax, init=normal .................................\n"
     ]
    },
    {
     "name": "stderr",
     "output_type": "stream",
     "text": [
      "[Parallel(n_jobs=1)]: Done   9 out of   9 | elapsed:   14.5s remaining:    0.0s\n"
     ]
    },
    {
     "name": "stdout",
     "output_type": "stream",
     "text": [
      "[CV] ..... activation=softmax, init=normal, score=0.679, total=   1.5s\n",
      "[CV] activation=softmax, init=zero ...................................\n",
      "[CV] ....... activation=softmax, init=zero, score=0.646, total=   1.6s\n",
      "[CV] activation=softmax, init=zero ...................................\n",
      "[CV] ....... activation=softmax, init=zero, score=0.570, total=   1.5s\n",
      "[CV] activation=softmax, init=zero ...................................\n",
      "[CV] ....... activation=softmax, init=zero, score=0.705, total=   1.6s\n",
      "[CV] activation=softmax, init=zero ...................................\n",
      "[CV] ....... activation=softmax, init=zero, score=0.744, total=   1.5s\n",
      "[CV] activation=softmax, init=zero ...................................\n",
      "[CV] ....... activation=softmax, init=zero, score=0.679, total=   1.6s\n",
      "[CV] activation=relu, init=uniform ...................................\n",
      "[CV] ....... activation=relu, init=uniform, score=0.810, total=   1.9s\n",
      "[CV] activation=relu, init=uniform ...................................\n",
      "[CV] ....... activation=relu, init=uniform, score=0.608, total=   2.1s\n",
      "[CV] activation=relu, init=uniform ...................................\n",
      "[CV] ....... activation=relu, init=uniform, score=0.833, total=   1.5s\n",
      "[CV] activation=relu, init=uniform ...................................\n",
      "[CV] ....... activation=relu, init=uniform, score=0.795, total=   1.4s\n",
      "[CV] activation=relu, init=uniform ...................................\n",
      "[CV] ....... activation=relu, init=uniform, score=0.833, total=   1.5s\n",
      "[CV] activation=relu, init=normal ....................................\n",
      "[CV] ........ activation=relu, init=normal, score=0.785, total=   1.6s\n",
      "[CV] activation=relu, init=normal ....................................\n",
      "[CV] ........ activation=relu, init=normal, score=0.620, total=   1.5s\n",
      "[CV] activation=relu, init=normal ....................................\n",
      "[CV] ........ activation=relu, init=normal, score=0.808, total=   1.5s\n",
      "[CV] activation=relu, init=normal ....................................\n",
      "[CV] ........ activation=relu, init=normal, score=0.808, total=   1.4s\n",
      "[CV] activation=relu, init=normal ....................................\n",
      "[CV] ........ activation=relu, init=normal, score=0.821, total=   1.5s\n",
      "[CV] activation=relu, init=zero ......................................\n",
      "[CV] .......... activation=relu, init=zero, score=0.646, total=   1.4s\n",
      "[CV] activation=relu, init=zero ......................................\n",
      "[CV] .......... activation=relu, init=zero, score=0.570, total=   1.4s\n",
      "[CV] activation=relu, init=zero ......................................\n",
      "[CV] .......... activation=relu, init=zero, score=0.705, total=   2.5s\n",
      "[CV] activation=relu, init=zero ......................................\n",
      "[CV] .......... activation=relu, init=zero, score=0.744, total=   1.4s\n",
      "[CV] activation=relu, init=zero ......................................\n",
      "[CV] .......... activation=relu, init=zero, score=0.679, total=   1.4s\n",
      "[CV] activation=tanh, init=uniform ...................................\n",
      "[CV] ....... activation=tanh, init=uniform, score=0.810, total=   1.5s\n",
      "[CV] activation=tanh, init=uniform ...................................\n",
      "[CV] ....... activation=tanh, init=uniform, score=0.620, total=   1.4s\n",
      "[CV] activation=tanh, init=uniform ...................................\n",
      "[CV] ....... activation=tanh, init=uniform, score=0.821, total=   1.5s\n",
      "[CV] activation=tanh, init=uniform ...................................\n",
      "[CV] ....... activation=tanh, init=uniform, score=0.833, total=   1.5s\n",
      "[CV] activation=tanh, init=uniform ...................................\n",
      "[CV] ....... activation=tanh, init=uniform, score=0.821, total=   1.4s\n",
      "[CV] activation=tanh, init=normal ....................................\n",
      "[CV] ........ activation=tanh, init=normal, score=0.810, total=   1.5s\n",
      "[CV] activation=tanh, init=normal ....................................\n",
      "[CV] ........ activation=tanh, init=normal, score=0.620, total=   1.5s\n",
      "[CV] activation=tanh, init=normal ....................................\n",
      "[CV] ........ activation=tanh, init=normal, score=0.821, total=   1.4s\n",
      "[CV] activation=tanh, init=normal ....................................\n",
      "[CV] ........ activation=tanh, init=normal, score=0.821, total=   1.4s\n",
      "[CV] activation=tanh, init=normal ....................................\n",
      "[CV] ........ activation=tanh, init=normal, score=0.821, total=   1.5s\n",
      "[CV] activation=tanh, init=zero ......................................\n",
      "[CV] .......... activation=tanh, init=zero, score=0.646, total=   1.4s\n",
      "[CV] activation=tanh, init=zero ......................................\n",
      "[CV] .......... activation=tanh, init=zero, score=0.570, total=   1.4s\n",
      "[CV] activation=tanh, init=zero ......................................\n",
      "[CV] .......... activation=tanh, init=zero, score=0.705, total=   1.4s\n",
      "[CV] activation=tanh, init=zero ......................................\n",
      "[CV] .......... activation=tanh, init=zero, score=0.744, total=   1.4s\n",
      "[CV] activation=tanh, init=zero ......................................\n",
      "[CV] .......... activation=tanh, init=zero, score=0.679, total=   1.5s\n",
      "[CV] activation=linear, init=uniform .................................\n",
      "[CV] ..... activation=linear, init=uniform, score=0.823, total=   1.4s\n",
      "[CV] activation=linear, init=uniform .................................\n",
      "[CV] ..... activation=linear, init=uniform, score=0.633, total=   1.5s\n",
      "[CV] activation=linear, init=uniform .................................\n",
      "[CV] ..... activation=linear, init=uniform, score=0.833, total=   2.6s\n",
      "[CV] activation=linear, init=uniform .................................\n",
      "[CV] ..... activation=linear, init=uniform, score=0.846, total=   1.4s\n",
      "[CV] activation=linear, init=uniform .................................\n",
      "[CV] ..... activation=linear, init=uniform, score=0.808, total=   1.4s\n",
      "[CV] activation=linear, init=normal ..................................\n",
      "[CV] ...... activation=linear, init=normal, score=0.835, total=   1.4s\n",
      "[CV] activation=linear, init=normal ..................................\n",
      "[CV] ...... activation=linear, init=normal, score=0.646, total=   1.4s\n",
      "[CV] activation=linear, init=normal ..................................\n",
      "[CV] ...... activation=linear, init=normal, score=0.833, total=   1.4s\n",
      "[CV] activation=linear, init=normal ..................................\n",
      "[CV] ...... activation=linear, init=normal, score=0.821, total=   1.5s\n",
      "[CV] activation=linear, init=normal ..................................\n",
      "[CV] ...... activation=linear, init=normal, score=0.808, total=   1.5s\n",
      "[CV] activation=linear, init=zero ....................................\n",
      "[CV] ........ activation=linear, init=zero, score=0.646, total=   1.7s\n",
      "[CV] activation=linear, init=zero ....................................\n",
      "[CV] ........ activation=linear, init=zero, score=0.570, total=   1.5s\n",
      "[CV] activation=linear, init=zero ....................................\n",
      "[CV] ........ activation=linear, init=zero, score=0.705, total=   1.5s\n",
      "[CV] activation=linear, init=zero ....................................\n",
      "[CV] ........ activation=linear, init=zero, score=0.744, total=   1.5s\n",
      "[CV] activation=linear, init=zero ....................................\n",
      "[CV] ........ activation=linear, init=zero, score=0.679, total=   1.5s\n"
     ]
    },
    {
     "name": "stderr",
     "output_type": "stream",
     "text": [
      "[Parallel(n_jobs=1)]: Done  60 out of  60 | elapsed:  1.5min finished\n"
     ]
    },
    {
     "name": "stdout",
     "output_type": "stream",
     "text": [
      "Best: 0.7885751247406005, using {'activation': 'linear', 'init': 'uniform'}\n",
      "0.6686789989471436 (0.05899773033245815) with: {'activation': 'softmax', 'init': 'uniform'}\n",
      "0.6686789989471436 (0.05899773033245815) with: {'activation': 'softmax', 'init': 'normal'}\n",
      "0.6686789989471436 (0.05899773033245815) with: {'activation': 'softmax', 'init': 'zero'}\n",
      "0.7758519887924195 (0.08538753245470605) with: {'activation': 'relu', 'init': 'uniform'}\n",
      "0.7681921362876892 (0.07485997838038587) with: {'activation': 'relu', 'init': 'normal'}\n",
      "0.6686789989471436 (0.05899773033245815) with: {'activation': 'relu', 'init': 'zero'}\n",
      "0.780947744846344 (0.08068357931675665) with: {'activation': 'tanh', 'init': 'uniform'}\n",
      "0.7783836483955383 (0.07916751248246863) with: {'activation': 'tanh', 'init': 'normal'}\n",
      "0.6686789989471436 (0.05899773033245815) with: {'activation': 'tanh', 'init': 'zero'}\n",
      "0.7885751247406005 (0.07884868092404165) with: {'activation': 'linear', 'init': 'uniform'}\n",
      "0.7885102152824401 (0.07216083526263331) with: {'activation': 'linear', 'init': 'normal'}\n",
      "0.6686789989471436 (0.05899773033245815) with: {'activation': 'linear', 'init': 'zero'}\n"
     ]
    }
   ],
   "source": [
    "# Define a random seed\n",
    "seed = 6\n",
    "np.random.seed(seed)\n",
    "learn_rate = 0.001\n",
    "# Start defining the model\n",
    "def create_model(activation, init):\n",
    "    # Create model\n",
    "    model = Sequential()\n",
    "    model.add(Dense(8, input_dim = 8, kernel_initializer = init, activation = activation))\n",
    "    #model.add(Dropout(dropout_rate))\n",
    "    model.add(Dense(4, input_dim = 8, kernel_initializer = init, activation = activation))\n",
    "    #model.add(Dropout(dropout_rate))\n",
    "    model.add(Dense(1, activation = 'sigmoid'))\n",
    "    \n",
    "    # Compile the model\n",
    "    adam = Adam(lr = learn_rate)\n",
    "    model.compile(loss = 'binary_crossentropy', optimizer = adam, metrics = ['accuracy'])\n",
    "    return model\n",
    "\n",
    "# Create the model\n",
    "model = KerasClassifier(build_fn = create_model, epochs=epochs, batch_size=batch_size, verbose = 0) # This comes from the previous best\n",
    "\n",
    "# define the grid search parameters\n",
    "activations = ['softmax', 'relu', 'tanh', 'linear']\n",
    "initializers = ['uniform', 'normal', 'zero']\n",
    "\n",
    "# make a dictionary of the grid search parameters\n",
    "param_grid = dict(activation = activations, init = initializers)\n",
    "\n",
    "# build and fit the GridSearchCV\n",
    "grid = GridSearchCV(estimator=model, param_grid=param_grid, cv = KFold(random_state=seed), verbose=10)\n",
    "grid_result = grid.fit(X_standardized, Y)\n",
    "\n",
    "# summarize the results\n",
    "print(\"Best: {0}, using {1}\".format(grid_result.best_score_, grid_result.best_params_))\n",
    "means = grid_result.cv_results_['mean_test_score']\n",
    "stds = grid_result.cv_results_['std_test_score']\n",
    "params = grid_result.cv_results_['params']\n",
    "for mean, stdev, param in zip(means, stds, params):\n",
    "    print('{0} ({1}) with: {2}'.format(mean, stdev, param))"
   ]
  },
  {
   "cell_type": "code",
   "execution_count": 130,
   "metadata": {
    "scrolled": true
   },
   "outputs": [
    {
     "name": "stdout",
     "output_type": "stream",
     "text": [
      "Fitting 5 folds for each of 9 candidates, totalling 45 fits\n",
      "[CV] neuron1=4, neuron2=2 ............................................\n"
     ]
    },
    {
     "name": "stderr",
     "output_type": "stream",
     "text": [
      "[Parallel(n_jobs=1)]: Using backend SequentialBackend with 1 concurrent workers.\n"
     ]
    },
    {
     "name": "stdout",
     "output_type": "stream",
     "text": [
      "[CV] ................ neuron1=4, neuron2=2, score=0.835, total=   2.0s\n",
      "[CV] neuron1=4, neuron2=2 ............................................\n"
     ]
    },
    {
     "name": "stderr",
     "output_type": "stream",
     "text": [
      "[Parallel(n_jobs=1)]: Done   1 out of   1 | elapsed:    2.0s remaining:    0.0s\n"
     ]
    },
    {
     "name": "stdout",
     "output_type": "stream",
     "text": [
      "[CV] ................ neuron1=4, neuron2=2, score=0.633, total=   2.2s\n",
      "[CV] neuron1=4, neuron2=2 ............................................\n"
     ]
    },
    {
     "name": "stderr",
     "output_type": "stream",
     "text": [
      "[Parallel(n_jobs=1)]: Done   2 out of   2 | elapsed:    4.2s remaining:    0.0s\n"
     ]
    },
    {
     "name": "stdout",
     "output_type": "stream",
     "text": [
      "[CV] ................ neuron1=4, neuron2=2, score=0.833, total=   2.3s\n",
      "[CV] neuron1=4, neuron2=2 ............................................\n"
     ]
    },
    {
     "name": "stderr",
     "output_type": "stream",
     "text": [
      "[Parallel(n_jobs=1)]: Done   3 out of   3 | elapsed:    6.4s remaining:    0.0s\n"
     ]
    },
    {
     "name": "stdout",
     "output_type": "stream",
     "text": [
      "[CV] ................ neuron1=4, neuron2=2, score=0.833, total=   2.2s\n",
      "[CV] neuron1=4, neuron2=2 ............................................\n"
     ]
    },
    {
     "name": "stderr",
     "output_type": "stream",
     "text": [
      "[Parallel(n_jobs=1)]: Done   4 out of   4 | elapsed:    8.6s remaining:    0.0s\n"
     ]
    },
    {
     "name": "stdout",
     "output_type": "stream",
     "text": [
      "[CV] ................ neuron1=4, neuron2=2, score=0.808, total=   2.5s\n",
      "[CV] neuron1=4, neuron2=4 ............................................\n"
     ]
    },
    {
     "name": "stderr",
     "output_type": "stream",
     "text": [
      "[Parallel(n_jobs=1)]: Done   5 out of   5 | elapsed:   11.1s remaining:    0.0s\n"
     ]
    },
    {
     "name": "stdout",
     "output_type": "stream",
     "text": [
      "[CV] ................ neuron1=4, neuron2=4, score=0.835, total=   3.4s\n",
      "[CV] neuron1=4, neuron2=4 ............................................\n"
     ]
    },
    {
     "name": "stderr",
     "output_type": "stream",
     "text": [
      "[Parallel(n_jobs=1)]: Done   6 out of   6 | elapsed:   14.5s remaining:    0.0s\n"
     ]
    },
    {
     "name": "stdout",
     "output_type": "stream",
     "text": [
      "[CV] ................ neuron1=4, neuron2=4, score=0.633, total=   3.3s\n",
      "[CV] neuron1=4, neuron2=4 ............................................\n"
     ]
    },
    {
     "name": "stderr",
     "output_type": "stream",
     "text": [
      "[Parallel(n_jobs=1)]: Done   7 out of   7 | elapsed:   17.8s remaining:    0.0s\n"
     ]
    },
    {
     "name": "stdout",
     "output_type": "stream",
     "text": [
      "[CV] ................ neuron1=4, neuron2=4, score=0.833, total=   2.1s\n",
      "[CV] neuron1=4, neuron2=4 ............................................\n"
     ]
    },
    {
     "name": "stderr",
     "output_type": "stream",
     "text": [
      "[Parallel(n_jobs=1)]: Done   8 out of   8 | elapsed:   19.9s remaining:    0.0s\n"
     ]
    },
    {
     "name": "stdout",
     "output_type": "stream",
     "text": [
      "[CV] ................ neuron1=4, neuron2=4, score=0.846, total=   2.0s\n",
      "[CV] neuron1=4, neuron2=4 ............................................\n"
     ]
    },
    {
     "name": "stderr",
     "output_type": "stream",
     "text": [
      "[Parallel(n_jobs=1)]: Done   9 out of   9 | elapsed:   21.9s remaining:    0.0s\n"
     ]
    },
    {
     "name": "stdout",
     "output_type": "stream",
     "text": [
      "[CV] ................ neuron1=4, neuron2=4, score=0.808, total=   2.0s\n",
      "[CV] neuron1=4, neuron2=8 ............................................\n",
      "[CV] ................ neuron1=4, neuron2=8, score=0.835, total=   2.0s\n",
      "[CV] neuron1=4, neuron2=8 ............................................\n",
      "[CV] ................ neuron1=4, neuron2=8, score=0.633, total=   2.2s\n",
      "[CV] neuron1=4, neuron2=8 ............................................\n",
      "[CV] ................ neuron1=4, neuron2=8, score=0.821, total=   2.1s\n",
      "[CV] neuron1=4, neuron2=8 ............................................\n",
      "[CV] ................ neuron1=4, neuron2=8, score=0.859, total=   2.1s\n",
      "[CV] neuron1=4, neuron2=8 ............................................\n",
      "[CV] ................ neuron1=4, neuron2=8, score=0.821, total=   2.2s\n",
      "[CV] neuron1=8, neuron2=2 ............................................\n",
      "[CV] ................ neuron1=8, neuron2=2, score=0.835, total=   2.2s\n",
      "[CV] neuron1=8, neuron2=2 ............................................\n",
      "[CV] ................ neuron1=8, neuron2=2, score=0.620, total=   2.1s\n",
      "[CV] neuron1=8, neuron2=2 ............................................\n",
      "[CV] ................ neuron1=8, neuron2=2, score=0.833, total=   2.1s\n",
      "[CV] neuron1=8, neuron2=2 ............................................\n",
      "[CV] ................ neuron1=8, neuron2=2, score=0.833, total=   2.1s\n",
      "[CV] neuron1=8, neuron2=2 ............................................\n",
      "[CV] ................ neuron1=8, neuron2=2, score=0.833, total=   2.0s\n",
      "[CV] neuron1=8, neuron2=4 ............................................\n",
      "[CV] ................ neuron1=8, neuron2=4, score=0.835, total=   2.2s\n",
      "[CV] neuron1=8, neuron2=4 ............................................\n",
      "[CV] ................ neuron1=8, neuron2=4, score=0.633, total=   2.1s\n",
      "[CV] neuron1=8, neuron2=4 ............................................\n",
      "[CV] ................ neuron1=8, neuron2=4, score=0.821, total=   2.3s\n",
      "[CV] neuron1=8, neuron2=4 ............................................\n",
      "[CV] ................ neuron1=8, neuron2=4, score=0.846, total=   2.3s\n",
      "[CV] neuron1=8, neuron2=4 ............................................\n",
      "[CV] ................ neuron1=8, neuron2=4, score=0.833, total=   2.2s\n",
      "[CV] neuron1=8, neuron2=8 ............................................\n",
      "[CV] ................ neuron1=8, neuron2=8, score=0.835, total=   3.4s\n",
      "[CV] neuron1=8, neuron2=8 ............................................\n",
      "[CV] ................ neuron1=8, neuron2=8, score=0.608, total=   2.1s\n",
      "[CV] neuron1=8, neuron2=8 ............................................\n",
      "[CV] ................ neuron1=8, neuron2=8, score=0.821, total=   2.1s\n",
      "[CV] neuron1=8, neuron2=8 ............................................\n",
      "[CV] ................ neuron1=8, neuron2=8, score=0.833, total=   2.1s\n",
      "[CV] neuron1=8, neuron2=8 ............................................\n",
      "[CV] ................ neuron1=8, neuron2=8, score=0.821, total=   2.2s\n",
      "[CV] neuron1=16, neuron2=2 ...........................................\n",
      "[CV] ............... neuron1=16, neuron2=2, score=0.835, total=   2.1s\n",
      "[CV] neuron1=16, neuron2=2 ...........................................\n",
      "[CV] ............... neuron1=16, neuron2=2, score=0.620, total=   2.3s\n",
      "[CV] neuron1=16, neuron2=2 ...........................................\n",
      "[CV] ............... neuron1=16, neuron2=2, score=0.821, total=   2.1s\n",
      "[CV] neuron1=16, neuron2=2 ...........................................\n",
      "[CV] ............... neuron1=16, neuron2=2, score=0.846, total=   2.1s\n",
      "[CV] neuron1=16, neuron2=2 ...........................................\n",
      "[CV] ............... neuron1=16, neuron2=2, score=0.821, total=   3.2s\n",
      "[CV] neuron1=16, neuron2=4 ...........................................\n",
      "[CV] ............... neuron1=16, neuron2=4, score=0.835, total=   3.2s\n",
      "[CV] neuron1=16, neuron2=4 ...........................................\n",
      "[CV] ............... neuron1=16, neuron2=4, score=0.633, total=   3.4s\n",
      "[CV] neuron1=16, neuron2=4 ...........................................\n",
      "[CV] ............... neuron1=16, neuron2=4, score=0.821, total=   2.1s\n",
      "[CV] neuron1=16, neuron2=4 ...........................................\n",
      "[CV] ............... neuron1=16, neuron2=4, score=0.846, total=   2.1s\n",
      "[CV] neuron1=16, neuron2=4 ...........................................\n",
      "[CV] ............... neuron1=16, neuron2=4, score=0.833, total=   2.1s\n",
      "[CV] neuron1=16, neuron2=8 ...........................................\n",
      "[CV] ............... neuron1=16, neuron2=8, score=0.835, total=   2.1s\n",
      "[CV] neuron1=16, neuron2=8 ...........................................\n",
      "[CV] ............... neuron1=16, neuron2=8, score=0.620, total=   2.1s\n",
      "[CV] neuron1=16, neuron2=8 ...........................................\n",
      "[CV] ............... neuron1=16, neuron2=8, score=0.833, total=   2.1s\n",
      "[CV] neuron1=16, neuron2=8 ...........................................\n",
      "[CV] ............... neuron1=16, neuron2=8, score=0.846, total=   2.1s\n",
      "[CV] neuron1=16, neuron2=8 ...........................................\n",
      "[CV] ............... neuron1=16, neuron2=8, score=0.821, total=   2.2s\n"
     ]
    },
    {
     "name": "stderr",
     "output_type": "stream",
     "text": [
      "[Parallel(n_jobs=1)]: Done  45 out of  45 | elapsed:  1.7min finished\n"
     ]
    },
    {
     "name": "stdout",
     "output_type": "stream",
     "text": [
      "Best: 0.7936708807945252, using {'neuron1': 4, 'neuron2': 8}\n",
      "0.7885426640510559 (0.07848547811173927) with: {'neuron1': 4, 'neuron2': 2}\n",
      "0.7911067724227905 (0.08009971934827462) with: {'neuron1': 4, 'neuron2': 4}\n",
      "0.7936708807945252 (0.08160153117498936) with: {'neuron1': 4, 'neuron2': 8}\n",
      "0.7911392211914062 (0.08544694452599808) with: {'neuron1': 8, 'neuron2': 2}\n",
      "0.7936708807945252 (0.08079181748331918) with: {'neuron1': 8, 'neuron2': 4}\n",
      "0.783479380607605 (0.08816341112960173) with: {'neuron1': 8, 'neuron2': 8}\n",
      "0.7885751366615296 (0.08471627072558463) with: {'neuron1': 16, 'neuron2': 2}\n",
      "0.7936708807945252 (0.08079181748331918) with: {'neuron1': 16, 'neuron2': 4}\n",
      "0.7911392331123352 (0.0858308076774859) with: {'neuron1': 16, 'neuron2': 8}\n"
     ]
    }
   ],
   "source": [
    "# Define a random seed\n",
    "seed = 6\n",
    "np.random.seed(seed)\n",
    "init = 'uniform'   # taken from previous results\n",
    "activation = 'linear'\n",
    "# Start defining the model\n",
    "def create_model(neuron1, neuron2):\n",
    "    # Create model\n",
    "    model = Sequential()\n",
    "    model.add(Dense(neuron1, input_dim = 8, kernel_initializer = init, activation = activation))\n",
    "#    model.add(Dropout(dropout_rate))\n",
    "    model.add(Dense(neuron2, input_dim = neuron1, kernel_initializer = init, activation = activation))\n",
    "#    model.add(Dropout(dropout_rate))\n",
    "    model.add(Dense(1, activation = 'sigmoid'))\n",
    "    \n",
    "    # Compile the model\n",
    "    adam = Adam(lr = learn_rate)\n",
    "    model.compile(loss = 'binary_crossentropy', optimizer = adam, metrics = ['accuracy'])\n",
    "    return model\n",
    "\n",
    "# Create the model\n",
    "model = KerasClassifier(build_fn = create_model, epochs=50, batch_size=10, verbose = 0) \n",
    "\n",
    "# define the grid search parameters\n",
    "neuron1 = [4, 8, 16]\n",
    "neuron2 = [2, 4, 8]\n",
    "\n",
    "# make a dictionary of the grid search parameters\n",
    "param_grid = dict(neuron1 = neuron1, neuron2 = neuron2)\n",
    "\n",
    "# build and fit the GridSearchCV\n",
    "grid = GridSearchCV(estimator=model, param_grid=param_grid, cv = KFold(random_state=seed), refit=True, verbose=10) # To retrain with the best parameters found so far\n",
    "grid_result = grid.fit(X_standardized, Y)\n",
    "\n",
    "# summarize the results\n",
    "print(\"Best: {0}, using {1}\".format(grid_result.best_score_, grid_result.best_params_))\n",
    "means = grid_result.cv_results_['mean_test_score']\n",
    "stds = grid_result.cv_results_['std_test_score']\n",
    "params = grid_result.cv_results_['params']\n",
    "for mean, stdev, param in zip(means, stds, params):\n",
    "    print('{0} ({1}) with: {2}'.format(mean, stdev, param))"
   ]
  },
  {
   "cell_type": "code",
   "execution_count": 131,
   "metadata": {},
   "outputs": [],
   "source": [
    "# generate predictions with optimal hyperparameters\n",
    "y_pred = grid.predict(X_standardized)"
   ]
  },
  {
   "cell_type": "code",
   "execution_count": 132,
   "metadata": {},
   "outputs": [
    {
     "name": "stdout",
     "output_type": "stream",
     "text": [
      "0.7831632653061225\n",
      "              precision    recall  f1-score   support\n",
      "\n",
      "           0       0.81      0.89      0.85       262\n",
      "           1       0.71      0.58      0.64       130\n",
      "\n",
      "    accuracy                           0.78       392\n",
      "   macro avg       0.76      0.73      0.74       392\n",
      "weighted avg       0.78      0.78      0.78       392\n",
      "\n"
     ]
    }
   ],
   "source": [
    "from sklearn.metrics import classification_report, accuracy_score\n",
    "\n",
    "print(accuracy_score(Y, y_pred))\n",
    "print(classification_report(Y, y_pred))"
   ]
  },
  {
   "cell_type": "code",
   "execution_count": 133,
   "metadata": {},
   "outputs": [
    {
     "name": "stdout",
     "output_type": "stream",
     "text": [
      "n_pregnant                   0.000\n",
      "glucose_concentration      137.000\n",
      "blood_pressuer (mm Hg)      40.000\n",
      "skin_thickness (mm)         35.000\n",
      "serum_insulin (mu U/ml)    168.000\n",
      "BMI                         43.100\n",
      "pedigree_function            2.288\n",
      "age                         33.000\n",
      "class                        1.000\n",
      "Name: 4, dtype: float64\n"
     ]
    }
   ],
   "source": [
    "# example datapoint\n",
    "example = df.iloc[1]\n",
    "print(example)"
   ]
  },
  {
   "cell_type": "code",
   "execution_count": 134,
   "metadata": {},
   "outputs": [
    {
     "name": "stdout",
     "output_type": "stream",
     "text": [
      "[[1]]\n"
     ]
    }
   ],
   "source": [
    "# make a prediction using our optimized deep neural network\n",
    "prediction = grid.predict(X_standardized[1].reshape(1, -1))\n",
    "print(prediction)"
   ]
  }
 ],
 "metadata": {
  "kernelspec": {
   "display_name": "Python 3",
   "language": "python",
   "name": "python3"
  },
  "language_info": {
   "codemirror_mode": {
    "name": "ipython",
    "version": 3
   },
   "file_extension": ".py",
   "mimetype": "text/x-python",
   "name": "python",
   "nbconvert_exporter": "python",
   "pygments_lexer": "ipython3",
   "version": "3.7.6"
  }
 },
 "nbformat": 4,
 "nbformat_minor": 4
}
